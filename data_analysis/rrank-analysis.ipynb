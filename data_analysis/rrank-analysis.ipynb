{
 "cells": [
  {
   "cell_type": "code",
   "execution_count": 2,
   "metadata": {},
   "outputs": [],
   "source": [
    "import pandas as pd\n",
    "import numpy as np\n",
    "import matplotlib.pyplot as plt"
   ]
  },
  {
   "cell_type": "code",
   "execution_count": 3,
   "metadata": {},
   "outputs": [],
   "source": [
    "rrank = lambda df,k: df[np.isclose(df['rrank'], 1/k)]\n",
    "equal = lambda df,k: df[np.isclose(df['rrank'], 1/k)]\n",
    "gequal = lambda df,k: df[np.isclose(df['rrank'], 1/k) | (df['rrank'].ge(1/k))]\n",
    "\n",
    "def rrank_distribution(df, max_k):\n",
    "    dist = pd.DataFrame(columns=['rank', 'count'])\n",
    "    dist = dist.append({'rank': 0, 'count': df[np.isclose(df['rrank'], 0.000)].shape[0]}, ignore_index=True)\n",
    "    for i in range(1, max_k):\n",
    "        dist = dist.append({'rank': i, 'count': equal(df, i).shape[0]}, ignore_index=True)    \n",
    "    return dist"
   ]
  },
  {
   "cell_type": "code",
   "execution_count": 4,
   "metadata": {},
   "outputs": [],
   "source": [
    "al = pd.read_csv('/data/khodadaa/lucene-index/rranks.csv', header=None)\n",
    "sub = pd.read_csv('/data/khodadaa/lucene-index/rr/05092047_sub2_rranks.csv', header=None)\n",
    "al.rename(columns={0:'query', 1: 'prec@10', 2: 'prec@20', 3: 'rrank', 4: 'avg(prec)', 5: 'recall@200', 6: 'recall@1000', 7:'ndcg10'}, inplace=True)\n",
    "sub.rename(columns={0:'query', 1: 'prec@10', 2: 'prec@20', 3: 'rrank', 4: 'avg(prec)', 5: 'recall@200', 6: 'recall@1000', 7:'ndcg10'}, inplace=True)"
   ]
  },
  {
   "cell_type": "code",
   "execution_count": 5,
   "metadata": {},
   "outputs": [],
   "source": [
    "a1 = equal(al, 1)\n",
    "s1 = equal(sub, 1)\n",
    "a2 = gequal(al, 2)\n",
    "s2 = gequal(sub, 2)\n",
    "a3 = gequal(al, 3)\n",
    "s3 = gequal(sub, 3)"
   ]
  },
  {
   "cell_type": "code",
   "execution_count": 6,
   "metadata": {
    "scrolled": false
   },
   "outputs": [],
   "source": [
    "query_assignment = pd.read_csv('/data/khodadaa/lucene-index/query-assignments/05092047_query_assignment.csv', header=None)\n",
    "query_assignment.rename(columns={0: 'query', 1:'assignment'}, inplace=True)\n",
    "query_assignment['assignment'] = query_assignment['assignment'].map(lambda x: x.strip())\n",
    "query_assignment['query'] = query_assignment['query'].map(lambda x: x.strip())\n",
    "query_assignment['rrank'] = -1.0\n",
    "for index, row in query_assignment.iterrows():    \n",
    "    if row['assignment'] == 'all':        \n",
    "        rrv = al.loc[al['query']==row['query'], 'rrank']\n",
    "    elif row['assignment'] == 'sub':        \n",
    "        rrv = sub.loc[sub['query']==row['query'], 'rrank']\n",
    "    if rrv.size == 0:\n",
    "        continue\n",
    "    query_assignment.loc[index, 'rrank'] = rrv.values[0]"
   ]
  },
  {
   "cell_type": "code",
   "execution_count": 7,
   "metadata": {},
   "outputs": [],
   "source": [
    "tran1_sub = sub[sub['query'].isin(a1['query'])]\n",
    "tran2_sub = sub[sub['query'].isin(a2['query'])]\n",
    "tran3_sub = sub[sub['query'].isin(a3['query'])]\n",
    "#query_assignment[query_assignment['rrank'] < 0.0]\n",
    "tran1_alg = query_assignment[query_assignment['query'].isin(a1['query'])]\n",
    "tran2_alg = query_assignment[query_assignment['query'].isin(a2['query'])]\n",
    "tran3_alg = query_assignment[query_assignment['query'].isin(a3['query'])]"
   ]
  },
  {
   "cell_type": "code",
   "execution_count": 8,
   "metadata": {},
   "outputs": [
    {
     "name": "stdout",
     "output_type": "stream",
     "text": [
      "972 1657 2134\n",
      "4147 4677 4924\n",
      "1.0 0.7933011466505733 0.6904873477038426\n",
      "0.8401577503429355 0.8500301750150875 0.8577527170785445\n",
      "0.9008573388203017 0.8618990142828405 0.8469748351666421\n"
     ]
    }
   ],
   "source": [
    "print(a1.shape[0], a2.shape[0], a3.shape[0])\n",
    "print(s1.shape[0], s2.shape[0], s3.shape[0])\n",
    "print(a1['rrank'].mean(), a2['rrank'].mean(), a3['rrank'].mean())\n",
    "print(tran1_sub['rrank'].mean(), tran2_sub['rrank'].mean(), tran3_sub['rrank'].mean())\n",
    "print(tran1_alg['rrank'].mean(), tran2_alg['rrank'].mean(), tran3_alg['rrank'].mean())"
   ]
  },
  {
   "cell_type": "code",
   "execution_count": 9,
   "metadata": {},
   "outputs": [
    {
     "name": "stdout",
     "output_type": "stream",
     "text": [
      "Statistics=13.831, p=0.00000\n",
      "Different distributions (reject H0)\n",
      "Statistics=10.582, p=0.00000\n",
      "Different distributions (reject H0)\n",
      "Statistics=-5.347, p=0.00000\n",
      "Different distributions (reject H0)\n",
      "Statistics=-7.023, p=0.00000\n",
      "Different distributions (reject H0)\n"
     ]
    }
   ],
   "source": [
    "from scipy.stats import ttest_rel\n",
    "def t_test(data1, data2, alpha=0.05):\n",
    "    # compare samples\n",
    "    stat, p = ttest_rel(data1, data2)\n",
    "    print('Statistics=%.3f, p=%.5f' % (stat, p))\n",
    "    # interpret    \n",
    "    if p > alpha:\n",
    "        print('Same distributions (fail to reject H0)')\n",
    "    else:\n",
    "        print('Different distributions (reject H0)')\n",
    "t_test(a1['rrank'], tran1_sub['rrank'])\n",
    "t_test(a1['rrank'], tran1_alg['rrank'])\n",
    "t_test(a2['rrank'], tran2_sub['rrank'])\n",
    "t_test(a2['rrank'], tran2_alg['rrank'])"
   ]
  },
  {
   "cell_type": "code",
   "execution_count": 10,
   "metadata": {},
   "outputs": [
    {
     "name": "stdout",
     "output_type": "stream",
     "text": [
      "Cache rranks distribution\n",
      " rrank\n",
      "0.000000    1541\n",
      "0.005000       1\n",
      "0.005102       1\n",
      "0.005128       1\n",
      "0.005155       1\n",
      "0.005208       1\n",
      "0.005236       1\n",
      "0.005263       2\n",
      "0.005319       1\n",
      "0.005464       2\n",
      "0.005495       1\n",
      "0.005587       1\n",
      "0.005650       1\n",
      "0.005682       1\n",
      "0.005714       1\n",
      "0.005747       1\n",
      "0.005780       1\n",
      "0.005848       3\n",
      "0.005882       1\n",
      "0.005952       1\n",
      "0.006024       1\n",
      "0.006098       1\n",
      "0.006135       1\n",
      "0.006250       1\n",
      "0.006369       1\n",
      "0.006410       1\n",
      "0.006494       1\n",
      "0.006757       1\n",
      "0.006849       2\n",
      "0.006897       1\n",
      "            ... \n",
      "0.033333       6\n",
      "0.034483       5\n",
      "0.035714       7\n",
      "0.037037       8\n",
      "0.038462       9\n",
      "0.040000       9\n",
      "0.041667       4\n",
      "0.043478       5\n",
      "0.045455      12\n",
      "0.047619      10\n",
      "0.050000      10\n",
      "0.052632       9\n",
      "0.055556       7\n",
      "0.058824      12\n",
      "0.062500      16\n",
      "0.066667      15\n",
      "0.071429      12\n",
      "0.076923      13\n",
      "0.083333      23\n",
      "0.090909      38\n",
      "0.100000      32\n",
      "0.111111      37\n",
      "0.125000      33\n",
      "0.142857      51\n",
      "0.166667      62\n",
      "0.200000      90\n",
      "0.250000     115\n",
      "0.333333     247\n",
      "0.500000     530\n",
      "1.000000    4147\n",
      "Name: query, Length: 134, dtype: int64\n",
      "--------------\n",
      "All rranks distribution\n",
      " rrank\n",
      "0.000000    1604\n",
      "0.005025       1\n",
      "0.005051       2\n",
      "0.005076       1\n",
      "0.005102       1\n",
      "0.005128       1\n",
      "0.005155       2\n",
      "0.005208       1\n",
      "0.005236       1\n",
      "0.005319       1\n",
      "0.005348       1\n",
      "0.005405       1\n",
      "0.005464       2\n",
      "0.005495       2\n",
      "0.005587       2\n",
      "0.005618       1\n",
      "0.005650       1\n",
      "0.005682       4\n",
      "0.005714       2\n",
      "0.005747       2\n",
      "0.005780       1\n",
      "0.005814       4\n",
      "0.005848       1\n",
      "0.005882       2\n",
      "0.005917       1\n",
      "0.005952       2\n",
      "0.005988       1\n",
      "0.006024       4\n",
      "0.006061       1\n",
      "0.006098       3\n",
      "            ... \n",
      "0.033333      33\n",
      "0.034483      23\n",
      "0.035714      19\n",
      "0.037037      26\n",
      "0.038462      24\n",
      "0.040000      40\n",
      "0.041667      39\n",
      "0.043478      46\n",
      "0.045455      43\n",
      "0.047619      46\n",
      "0.050000      53\n",
      "0.052632      53\n",
      "0.055556      67\n",
      "0.058824      60\n",
      "0.062500      77\n",
      "0.066667      83\n",
      "0.071429      86\n",
      "0.076923     103\n",
      "0.083333     121\n",
      "0.090909     118\n",
      "0.100000     133\n",
      "0.111111     137\n",
      "0.125000     171\n",
      "0.142857     207\n",
      "0.166667     251\n",
      "0.200000     295\n",
      "0.250000     358\n",
      "0.333333     477\n",
      "0.500000     685\n",
      "1.000000     972\n",
      "Name: query, Length: 185, dtype: int64\n"
     ]
    }
   ],
   "source": [
    "print('Cache rranks distribution\\n', sub.groupby('rrank')['query'].count())\n",
    "print('--------------')\n",
    "print('All rranks distribution\\n', al.groupby('rrank')['query'].count())"
   ]
  },
  {
   "cell_type": "code",
   "execution_count": 11,
   "metadata": {},
   "outputs": [
    {
     "data": {
      "text/plain": [
       "<matplotlib.axes._subplots.AxesSubplot at 0x7fe59b3410b8>"
      ]
     },
     "execution_count": 11,
     "metadata": {},
     "output_type": "execute_result"
    },
    {
     "data": {
      "image/png": "[encoded data removed]",
      "text/plain": [
       "<Figure size 432x288 with 1 Axes>"
      ]
     },
     "metadata": {},
     "output_type": "display_data"
    },
    {
     "data": {
      "image/png": "[encoded data removed]",
      "text/plain": [
       "<Figure size 432x288 with 1 Axes>"
      ]
     },
     "metadata": {},
     "output_type": "display_data"
    }
   ],
   "source": [
    "dist = rrank_distribution(sub, 10)\n",
    "dist.plot(x='rank', y='count')\n",
    "dist = rrank_distribution(al, 10)\n",
    "dist.plot(x='rank', y='count')"
   ]
  },
  {
   "cell_type": "markdown",
   "metadata": {},
   "source": [
    "# Stackoverflow"
   ]
  },
  {
   "cell_type": "code",
   "execution_count": 12,
   "metadata": {},
   "outputs": [],
   "source": [
    "stack = pd.read_csv('/data/khodadaa/analysis/stack.csv').filter(items=['Query', 'TestViewCount', '18', '100', 'ql_t', 'ql_t.1'])\n",
    "stack.rename(columns={'18': 'sub_rr', '100': 'all_rr', 'ql_t': 'sub_ql', 'ql_t.1': 'all_ql'}, inplace=True)"
   ]
  },
  {
   "cell_type": "code",
   "execution_count": 13,
   "metadata": {},
   "outputs": [
    {
     "name": "stdout",
     "output_type": "stream",
     "text": [
      "# Total queries: 1092107\n",
      "# Queries with no answer on sub: 898617\n",
      "# Queries with no answer on all: 29834\n"
     ]
    }
   ],
   "source": [
    "print('# Total queries:', stack.shape[0])\n",
    "print('# Queries with no answer on sub:', stack[np.isclose(stack['sub_rr'], 0.0)].shape[0])\n",
    "print('# Queries with no answer on all:', stack[np.isclose(stack['all_rr'], 0.0)].shape[0])"
   ]
  },
  {
   "cell_type": "code",
   "execution_count": 14,
   "metadata": {},
   "outputs": [
    {
     "name": "stdout",
     "output_type": "stream",
     "text": [
      "Sub rranks distribution\n",
      " sub_rr\n",
      "0.00    898617\n",
      "0.01      1384\n",
      "0.02       923\n",
      "0.03       828\n",
      "0.04       737\n",
      "0.05       742\n",
      "0.06       874\n",
      "0.07       944\n",
      "0.08      1369\n",
      "0.09       968\n",
      "0.10      1349\n",
      "0.11      1784\n",
      "0.12      2503\n",
      "0.14      3349\n",
      "0.17      4913\n",
      "0.20      6975\n",
      "0.25     11202\n",
      "0.33     18270\n",
      "0.50     34636\n",
      "1.00     99740\n",
      "Name: Query, dtype: int64\n",
      "--------------\n",
      "All rranks distribution\n",
      " all_rr\n",
      "0.00     29834\n",
      "0.01     16776\n",
      "0.02     19715\n",
      "0.03     26904\n",
      "0.04     26323\n",
      "0.05     27749\n",
      "0.06     29168\n",
      "0.07     25291\n",
      "0.08     31966\n",
      "0.09     19408\n",
      "0.10     21930\n",
      "0.11     25023\n",
      "0.12     29110\n",
      "0.14     34063\n",
      "0.17     40875\n",
      "0.20     49690\n",
      "0.25     62972\n",
      "0.33     85030\n",
      "0.50    132681\n",
      "1.00    357599\n",
      "Name: Query, dtype: int64\n"
     ]
    }
   ],
   "source": [
    "print('Sub rranks distribution\\n', stack.groupby('sub_rr')['Query'].count())\n",
    "print('--------------')\n",
    "print('All rranks distribution\\n', stack.groupby('all_rr')['Query'].count())"
   ]
  },
  {
   "cell_type": "code",
   "execution_count": 15,
   "metadata": {},
   "outputs": [
    {
     "data": {
      "text/plain": [
       "<matplotlib.axes._subplots.AxesSubplot at 0x7fe59b2ceb70>"
      ]
     },
     "execution_count": 15,
     "metadata": {},
     "output_type": "execute_result"
    },
    {
     "data": {
      "image/png": "[encoded data removed]",
      "text/plain": [
       "<Figure size 432x288 with 1 Axes>"
      ]
     },
     "metadata": {},
     "output_type": "display_data"
    }
   ],
   "source": [
    "stack.groupby('sub_rr')['Query'].count().plot()\n",
    "stack.groupby('all_rr')['Query'].count().plot()"
   ]
  },
  {
   "cell_type": "code",
   "execution_count": 16,
   "metadata": {},
   "outputs": [],
   "source": [
    "stack2 = stack.copy()\n",
    "for index, row in stack2.iterrows():\n",
    "    if row['sub_ql'] >= row['all_ql']:\n",
    "        stack2.loc[index, 'selected_rrank'] = row['sub_rr']\n",
    "    else:\n",
    "        stack2.loc[index, 'selected_rrank'] = row['all_rr']"
   ]
  },
  {
   "cell_type": "code",
   "execution_count": 17,
   "metadata": {},
   "outputs": [
    {
     "name": "stdout",
     "output_type": "stream",
     "text": [
      "# all queries: 1092107\n",
      "Number of times query is submitted over the cache: Query             557563\n",
      "TestViewCount     557563\n",
      "sub_rr            557563\n",
      "all_rr            557563\n",
      "sub_ql            557563\n",
      "all_ql            557563\n",
      "selected_rrank    557563\n",
      "dtype: int64\n"
     ]
    }
   ],
   "source": [
    "print('# all queries:', stack2.shape[0])\n",
    "print('Number of times query is submitted over the cache:', stack2[stack2['sub_ql']>stack2['all_ql']].count())"
   ]
  },
  {
   "cell_type": "code",
   "execution_count": 30,
   "metadata": {},
   "outputs": [
    {
     "name": "stdout",
     "output_type": "stream",
     "text": [
      "1092107 357599 490280\n"
     ]
    }
   ],
   "source": [
    "as1 = stack2[stack2['all_rr'] == 1.0]\n",
    "as2 = stack2[(stack2['all_rr'] == 1.0) | (stack2['all_rr'] ==0.5)]\n",
    "print(stack2.shape[0], as1.shape[0], as2.shape[0])"
   ]
  },
  {
   "cell_type": "code",
   "execution_count": 19,
   "metadata": {},
   "outputs": [
    {
     "name": "stdout",
     "output_type": "stream",
     "text": [
      "rrank= 1.0\n",
      " 1.0 0.6012430403888155\n",
      "--------------------------------\n",
      "rrank= 1.0 or 0.5\n",
      " 0.864688545321041 0.5331181365750184\n"
     ]
    }
   ],
   "source": [
    "print('rrank= 1.0\\n',as1['all_rr'].mean(), as1['selected_rrank'].mean())\n",
    "print('--------------------------------')\n",
    "print('rrank= 1.0 or 0.5\\n', as2['all_rr'].mean(), as2['selected_rrank'].mean())"
   ]
  },
  {
   "cell_type": "code",
   "execution_count": 20,
   "metadata": {
    "scrolled": true
   },
   "outputs": [
    {
     "name": "stdout",
     "output_type": "stream",
     "text": [
      "0\n",
      "0\n"
     ]
    }
   ],
   "source": [
    "sub_nonzero = stack[~np.isclose(stack['sub_rr'], 0.0)]\n",
    "all_nonzero = stack[~np.isclose(stack['all_rr'], 0.0)]\n",
    "print(sub_nonzero[sub_nonzero['sub_rr'] < 0.01].shape[0])\n",
    "print(all_nonzero[all_nonzero['all_rr'] < 0.01].shape[0])"
   ]
  },
  {
   "cell_type": "markdown",
   "metadata": {},
   "source": [
    "# Tricks"
   ]
  },
  {
   "cell_type": "code",
   "execution_count": 21,
   "metadata": {},
   "outputs": [
    {
     "data": {
      "text/plain": [
       "<Figure size 432x288 with 0 Axes>"
      ]
     },
     "execution_count": 21,
     "metadata": {},
     "output_type": "execute_result"
    },
    {
     "data": {
      "image/png": "[encoded data removed]",
      "text/plain": [
       "<Figure size 432x288 with 1 Axes>"
      ]
     },
     "metadata": {},
     "output_type": "display_data"
    },
    {
     "data": {
      "text/plain": [
       "<Figure size 432x288 with 0 Axes>"
      ]
     },
     "metadata": {},
     "output_type": "display_data"
    }
   ],
   "source": [
    "ts = pd.Series(np.random.randn(1000), index=pd.date_range('1/1/2000', periods=1000))\n",
    "ts = ts.cumsum()\n",
    "ts.plot()\n",
    "plt.figure()"
   ]
  },
  {
   "cell_type": "code",
   "execution_count": 22,
   "metadata": {},
   "outputs": [
    {
     "name": "stdout",
     "output_type": "stream",
     "text": [
      "/data/khodadaa/analysis/wiki13_counts13_cleaned.csv\n",
      "/data/khodadaa/analysis/msn_query_qrel_merged.csv\n",
      "/data/khodadaa/analysis/msn_left.csv\n",
      "/data/khodadaa/analysis/msn_right.csv\n",
      "/data/khodadaa/analysis/msn_inner.csv\n",
      "/data/khodadaa/analysis/db_tfs.csv\n",
      "/data/khodadaa/analysis/db_tfs_2.csv\n",
      "/data/khodadaa/analysis/2013-adhoc.csv\n",
      "/data/khodadaa/analysis/msn_answer_articles.csv\n",
      "/data/khodadaa/analysis/2013-adhoc-inner.csv\n",
      "/data/khodadaa/analysis/msn_clarity_2.csv\n",
      "/data/khodadaa/analysis/msn_query_difficulties.csv\n",
      "/data/khodadaa/analysis/2013-adhoc_query_difficulties.csv\n",
      "/data/khodadaa/analysis/msn_corr_qd_pop.csv\n",
      "/data/khodadaa/analysis/rranks_distribution_all.csv\n",
      "/data/khodadaa/analysis/rranks_distribution_sub.csv\n",
      "/data/khodadaa/analysis/stack.csv\n"
     ]
    }
   ],
   "source": [
    "%%bash\n",
    "find /data/khodadaa/analysis/ -name \"*.csv\""
   ]
  },
  {
   "cell_type": "code",
   "execution_count": 23,
   "metadata": {},
   "outputs": [
    {
     "data": {
      "text/latex": [
       "\\begin{equation}\n",
       "maximize \\quad KLD(C,D) + \\lambda \\Sigma pop(d, C)\\\\\n",
       "s.t. \\quad \\forall d \\in C pop(d,C) \\geq \\theta_p\n",
       "\\end{equation}"
      ],
      "text/plain": [
       "<IPython.core.display.Latex object>"
      ]
     },
     "metadata": {},
     "output_type": "display_data"
    }
   ],
   "source": [
    "%%latex\n",
    "\\begin{equation}\n",
    "maximize \\quad KLD(C,D) + \\lambda \\Sigma pop(d, C)\\\\\n",
    "s.t. \\quad \\forall d \\in C pop(d,C) \\geq \\theta_p\n",
    "\\end{equation}"
   ]
  }
 ],
 "metadata": {
  "kernelspec": {
   "display_name": "Python 3",
   "language": "python",
   "name": "python3"
  },
  "language_info": {
   "codemirror_mode": {
    "name": "ipython",
    "version": 3
   },
   "file_extension": ".py",
   "mimetype": "text/x-python",
   "name": "python",
   "nbconvert_exporter": "python",
   "pygments_lexer": "ipython3",
   "version": "3.6.5"
  }
 },
 "nbformat": 4,
 "nbformat_minor": 2
}
