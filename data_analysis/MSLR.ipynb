{
 "cells": [
  {
   "cell_type": "markdown",
   "metadata": {},
   "source": [
    "# Initialize"
   ]
  },
  {
   "cell_type": "code",
   "execution_count": 1,
   "metadata": {},
   "outputs": [],
   "source": [
    "import pandas as pd\n",
    "import numpy as np\n",
    "import ast\n",
    "import matplotlib.pyplot as plt\n",
    "from functools import partial\n",
    "\n",
    "bp = '/data/khodadaa/mslr/MSLR-WEB30K/Fold1'\n",
    "r = 0.1"
   ]
  },
  {
   "cell_type": "code",
   "execution_count": 325,
   "metadata": {},
   "outputs": [],
   "source": [
    "# convert 2 qid:13 1:2 2:0 3:2 ... --> {'rel': 2, 'qid': 13, 1:2, 2:0, 3:2, ...} then build a Dataframe based on it \n",
    "def split_fea_name_val(df: pd.DataFrame):\n",
    "    def func(c):\n",
    "        fe, val = c.split(':', 1)    \n",
    "        return \"{}: {}\".format(fe, val)\n",
    "    dict_df = df.apply(lambda x: ast.literal_eval(\"{{'rel': {}, 'qid': {}, {}}}\".format(\n",
    "        x[0], x[1].split(':',1)[1], ', '.join(x[2:].apply(lambda cl: func(cl))))), axis=1)\n",
    "    return pd.DataFrame(index=dict_df.index, data=list(dict_df.values))\n",
    "\n",
    "def adjust_features(df: pd.DataFrame, cols: list):\n",
    "    for i, v in enumerate(cols):\n",
    "        if i == 0:\n",
    "            continue\n",
    "        df[v] = df[v].str.replace(str(v-1)+':', str(i-1)+':')\n",
    "    return df\n",
    "\n",
    "def sort_qid(df: pd.DataFrame):\n",
    "    df[['qid-str', 'qid']] = df[1].str.split(':', expand=True)\n",
    "    df['qid'] = df.qid.astype(int)\n",
    "\n",
    "    df.sort_values(by='qid', inplace=True)\n",
    "    df.drop(columns=['qid-str', 'qid'], inplace=True)\n",
    "    \n",
    "def split_X_y_qid(df: pd.DataFrame):\n",
    "    df = split_fea_name_val(df)\n",
    "    X = df[list(range(1,df.columns[-1]))]\n",
    "    y = df['rel']\n",
    "    qid = df['qid']\n",
    "    return X, y, qid\n",
    "\n",
    "def plot_popularity_distribution(df: pd.DataFrame, start_index=0, end_index=None):\n",
    "    pops = list(df['135'])\n",
    "    pops.sort(reverse=True)\n",
    "    end_index = end_index if end_index is not None else len(pops)\n",
    "    plt.plot(pops[start_index: end_index])\n",
    "    plt.ylabel('Popularity')\n",
    "    plt.show()"
   ]
  },
  {
   "cell_type": "markdown",
   "metadata": {},
   "source": [
    "# MSLR Data Preparation (merge train, validation and test sets)"
   ]
  },
  {
   "cell_type": "code",
   "execution_count": 2,
   "metadata": {},
   "outputs": [
    {
     "name": "stdout",
     "output_type": "stream",
     "text": [
      "(2270296, 138) (747218, 138) (753611, 138)\n",
      "3771125\n",
      "CPU times: user 2min 38s, sys: 10.8 s, total: 2min 49s\n",
      "Wall time: 2min 34s\n"
     ]
    }
   ],
   "source": [
    "%%time\n",
    "train_df = pd.read_csv(bp + '/train.txt', header=None, sep='\\s+')\n",
    "valid_df = pd.read_csv(bp + '/vali.txt', header=None, sep='\\s+')\n",
    "test_df = pd.read_csv(bp + '/test.txt', header=None, sep='\\s+')    \n",
    "print(train_df.shape, valid_df.shape, test_df.shape)\n",
    "print(train_df.shape[0]+ valid_df.shape[0]+test_df.shape[0])"
   ]
  },
  {
   "cell_type": "code",
   "execution_count": 3,
   "metadata": {},
   "outputs": [],
   "source": [
    "def map_column_to_score():\n",
    "    mapping = {}\n",
    "    corpus_type = ['bdy', 'anc', 'ttl', 'url', 'wdc']\n",
    "    metric = ['CovQTNum', 'CovQTR', 'StrmLen', 'idf', 'sum-tf', 'min-tf', 'max-tf', 'mean-tf', 'var-tf', \n",
    "          'sum-StrLen-norm-tf', 'min-StrLen-norm-tf', 'max-StrLen-norm-tf', 'mean-StrLen-norm-tf', 'var-StrLen-norm-tf',\n",
    "          'sum-tfidf', 'min-tfidf', 'max-tfidf', 'mean-tfidf', 'var-tfidf', 'boolModel', 'VecSpacMod', 'BM25',\n",
    "          'LMIR.ABS', 'LMIR.DIR', 'LMIR.JM']\n",
    "    i = 0    \n",
    "    for m in metric:\n",
    "        for ct in corpus_type:\n",
    "            i += 1\n",
    "            mapping[i] = m + '({})'.format(ct)\n",
    "\n",
    "    for e in ['NumSlshURL', 'url-len', 'inlink-num', 'outlink-num', 'PageRank', 'SiteRank', 'QualScore',\n",
    "              'QualScore2', 'QUrlCliCnt', 'UrlCliCnt', 'UrlDwellTime']:\n",
    "        i += 1\n",
    "        mapping[i] = e \n",
    "    return mapping"
   ]
  },
  {
   "cell_type": "code",
   "execution_count": 4,
   "metadata": {},
   "outputs": [
    {
     "name": "stdout",
     "output_type": "stream",
     "text": [
      "CPU times: user 47.2 s, sys: 10.6 s, total: 57.8 s\n",
      "Wall time: 31.1 s\n"
     ]
    }
   ],
   "source": [
    "%%time\n",
    "df_orig = train_df.append(valid_df, ignore_index=True).append(test_df, ignore_index=True)\n",
    "df_orig.shape"
   ]
  },
  {
   "cell_type": "code",
   "execution_count": null,
   "metadata": {},
   "outputs": [],
   "source": [
    "%%time\n",
    "df = split_fea_name_val(df_orig)\n",
    "df.sort_values(by=['qid', 'rel'], inplace=True)"
   ]
  },
  {
   "cell_type": "code",
   "execution_count": 8,
   "metadata": {},
   "outputs": [
    {
     "name": "stdout",
     "output_type": "stream",
     "text": [
      "CPU times: user 16min 23s, sys: 46.8 s, total: 17min 10s\n",
      "Wall time: 16min 28s\n"
     ]
    }
   ],
   "source": [
    "%%time\n",
    "df.to_csv('/data/khodadaa/mslr/MSLR-WEB30K/mslr-web30k.csv')\n",
    "df_rn = df.rename(columns=map_column_to_score())\n",
    "df_rn.to_csv('/data/khodadaa/mslr/MSLR-WEB30K/mslr-web30k-colname.csv')"
   ]
  },
  {
   "cell_type": "markdown",
   "metadata": {},
   "source": [
    "# MSLR Save to .npz (Split qid, relevance and features as save them as npz)"
   ]
  },
  {
   "cell_type": "code",
   "execution_count": 286,
   "metadata": {
    "collapsed": true
   },
   "outputs": [
    {
     "name": "stdout",
     "output_type": "stream",
     "text": [
      "Fold1 train (723412, 138)\n",
      "Split done!\n",
      "Fold1 vali (235259, 138)\n",
      "Split done!\n",
      "Fold1 test (241521, 138)\n",
      "Split done!\n",
      "Fold2 train (716683, 138)\n"
     ]
    },
    {
     "ename": "KeyboardInterrupt",
     "evalue": "",
     "output_type": "error",
     "traceback": [
      "\u001b[0;31m---------------------------------------------------------------------------\u001b[0m",
      "\u001b[0;31mKeyboardInterrupt\u001b[0m                         Traceback (most recent call last)",
      "\u001b[0;32m<timed exec>\u001b[0m in \u001b[0;36m<module>\u001b[0;34m()\u001b[0m\n",
      "\u001b[0;32m<ipython-input-277-39dd00719e6c>\u001b[0m in \u001b[0;36msplit_X_y_qid\u001b[0;34m(df)\u001b[0m\n\u001b[1;32m     23\u001b[0m \u001b[0;34m\u001b[0m\u001b[0m\n\u001b[1;32m     24\u001b[0m \u001b[0;32mdef\u001b[0m \u001b[0msplit_X_y_qid\u001b[0m\u001b[0;34m(\u001b[0m\u001b[0mdf\u001b[0m\u001b[0;34m:\u001b[0m \u001b[0mpd\u001b[0m\u001b[0;34m.\u001b[0m\u001b[0mDataFrame\u001b[0m\u001b[0;34m)\u001b[0m\u001b[0;34m:\u001b[0m\u001b[0;34m\u001b[0m\u001b[0m\n\u001b[0;32m---> 25\u001b[0;31m     \u001b[0mdf\u001b[0m \u001b[0;34m=\u001b[0m \u001b[0msplit_fea_name_val\u001b[0m\u001b[0;34m(\u001b[0m\u001b[0mdf\u001b[0m\u001b[0;34m)\u001b[0m\u001b[0;34m\u001b[0m\u001b[0m\n\u001b[0m\u001b[1;32m     26\u001b[0m     \u001b[0mX\u001b[0m \u001b[0;34m=\u001b[0m \u001b[0mdf\u001b[0m\u001b[0;34m[\u001b[0m\u001b[0mlist\u001b[0m\u001b[0;34m(\u001b[0m\u001b[0mrange\u001b[0m\u001b[0;34m(\u001b[0m\u001b[0;36m1\u001b[0m\u001b[0;34m,\u001b[0m\u001b[0mdf\u001b[0m\u001b[0;34m.\u001b[0m\u001b[0mcolumns\u001b[0m\u001b[0;34m[\u001b[0m\u001b[0;34m-\u001b[0m\u001b[0;36m1\u001b[0m\u001b[0;34m]\u001b[0m\u001b[0;34m)\u001b[0m\u001b[0;34m)\u001b[0m\u001b[0;34m]\u001b[0m\u001b[0;34m\u001b[0m\u001b[0m\n\u001b[1;32m     27\u001b[0m     \u001b[0my\u001b[0m \u001b[0;34m=\u001b[0m \u001b[0mdf\u001b[0m\u001b[0;34m[\u001b[0m\u001b[0;34m'rel'\u001b[0m\u001b[0;34m]\u001b[0m\u001b[0;34m\u001b[0m\u001b[0m\n",
      "\u001b[0;32m<ipython-input-277-39dd00719e6c>\u001b[0m in \u001b[0;36msplit_fea_name_val\u001b[0;34m(df)\u001b[0m\n\u001b[1;32m      5\u001b[0m         \u001b[0;32mreturn\u001b[0m \u001b[0;34m\"{}: {}\"\u001b[0m\u001b[0;34m.\u001b[0m\u001b[0mformat\u001b[0m\u001b[0;34m(\u001b[0m\u001b[0mfe\u001b[0m\u001b[0;34m,\u001b[0m \u001b[0mval\u001b[0m\u001b[0;34m)\u001b[0m\u001b[0;34m\u001b[0m\u001b[0m\n\u001b[1;32m      6\u001b[0m     dict_df = df.apply(lambda x: ast.literal_eval(\"{{'rel': {}, 'qid': {}, {}}}\".format(\n\u001b[0;32m----> 7\u001b[0;31m         x[0], x[1].split(':',1)[1], ', '.join(x[2:].apply(lambda cl: func(cl))))), axis=1)\n\u001b[0m\u001b[1;32m      8\u001b[0m     \u001b[0;32mreturn\u001b[0m \u001b[0mpd\u001b[0m\u001b[0;34m.\u001b[0m\u001b[0mDataFrame\u001b[0m\u001b[0;34m(\u001b[0m\u001b[0mindex\u001b[0m\u001b[0;34m=\u001b[0m\u001b[0mdict_df\u001b[0m\u001b[0;34m.\u001b[0m\u001b[0mindex\u001b[0m\u001b[0;34m,\u001b[0m \u001b[0mdata\u001b[0m\u001b[0;34m=\u001b[0m\u001b[0mlist\u001b[0m\u001b[0;34m(\u001b[0m\u001b[0mdict_df\u001b[0m\u001b[0;34m.\u001b[0m\u001b[0mvalues\u001b[0m\u001b[0;34m)\u001b[0m\u001b[0;34m)\u001b[0m\u001b[0;34m\u001b[0m\u001b[0m\n\u001b[1;32m      9\u001b[0m \u001b[0;34m\u001b[0m\u001b[0m\n",
      "\u001b[0;32m~/miniconda3/envs/db/lib/python3.6/site-packages/pandas/core/frame.py\u001b[0m in \u001b[0;36mapply\u001b[0;34m(self, func, axis, broadcast, raw, reduce, args, **kwds)\u001b[0m\n\u001b[1;32m   4875\u001b[0m                         \u001b[0mf\u001b[0m\u001b[0;34m,\u001b[0m \u001b[0maxis\u001b[0m\u001b[0;34m,\u001b[0m\u001b[0;34m\u001b[0m\u001b[0m\n\u001b[1;32m   4876\u001b[0m                         \u001b[0mreduce\u001b[0m\u001b[0;34m=\u001b[0m\u001b[0mreduce\u001b[0m\u001b[0;34m,\u001b[0m\u001b[0;34m\u001b[0m\u001b[0m\n\u001b[0;32m-> 4877\u001b[0;31m                         ignore_failures=ignore_failures)\n\u001b[0m\u001b[1;32m   4878\u001b[0m             \u001b[0;32melse\u001b[0m\u001b[0;34m:\u001b[0m\u001b[0;34m\u001b[0m\u001b[0m\n\u001b[1;32m   4879\u001b[0m                 \u001b[0;32mreturn\u001b[0m \u001b[0mself\u001b[0m\u001b[0;34m.\u001b[0m\u001b[0m_apply_broadcast\u001b[0m\u001b[0;34m(\u001b[0m\u001b[0mf\u001b[0m\u001b[0;34m,\u001b[0m \u001b[0maxis\u001b[0m\u001b[0;34m)\u001b[0m\u001b[0;34m\u001b[0m\u001b[0m\n",
      "\u001b[0;32m~/miniconda3/envs/db/lib/python3.6/site-packages/pandas/core/frame.py\u001b[0m in \u001b[0;36m_apply_standard\u001b[0;34m(self, func, axis, ignore_failures, reduce)\u001b[0m\n\u001b[1;32m   4931\u001b[0m                     \u001b[0mlabels\u001b[0m \u001b[0;34m=\u001b[0m \u001b[0mself\u001b[0m\u001b[0;34m.\u001b[0m\u001b[0m_get_agg_axis\u001b[0m\u001b[0;34m(\u001b[0m\u001b[0maxis\u001b[0m\u001b[0;34m)\u001b[0m\u001b[0;34m\u001b[0m\u001b[0m\n\u001b[1;32m   4932\u001b[0m                     result = lib.reduce(values, func, axis=axis, dummy=dummy,\n\u001b[0;32m-> 4933\u001b[0;31m                                         labels=labels)\n\u001b[0m\u001b[1;32m   4934\u001b[0m                     \u001b[0;32mreturn\u001b[0m \u001b[0mSeries\u001b[0m\u001b[0;34m(\u001b[0m\u001b[0mresult\u001b[0m\u001b[0;34m,\u001b[0m \u001b[0mindex\u001b[0m\u001b[0;34m=\u001b[0m\u001b[0mlabels\u001b[0m\u001b[0;34m)\u001b[0m\u001b[0;34m\u001b[0m\u001b[0m\n\u001b[1;32m   4935\u001b[0m                 \u001b[0;32mexcept\u001b[0m \u001b[0mException\u001b[0m\u001b[0;34m:\u001b[0m\u001b[0;34m\u001b[0m\u001b[0m\n",
      "\u001b[0;32mpandas/_libs/src/reduce.pyx\u001b[0m in \u001b[0;36mpandas._libs.lib.reduce\u001b[0;34m()\u001b[0m\n",
      "\u001b[0;32mpandas/_libs/src/reduce.pyx\u001b[0m in \u001b[0;36mpandas._libs.lib.Reducer.get_result\u001b[0;34m()\u001b[0m\n",
      "\u001b[0;32m<ipython-input-277-39dd00719e6c>\u001b[0m in \u001b[0;36m<lambda>\u001b[0;34m(x)\u001b[0m\n\u001b[1;32m      5\u001b[0m         \u001b[0;32mreturn\u001b[0m \u001b[0;34m\"{}: {}\"\u001b[0m\u001b[0;34m.\u001b[0m\u001b[0mformat\u001b[0m\u001b[0;34m(\u001b[0m\u001b[0mfe\u001b[0m\u001b[0;34m,\u001b[0m \u001b[0mval\u001b[0m\u001b[0;34m)\u001b[0m\u001b[0;34m\u001b[0m\u001b[0m\n\u001b[1;32m      6\u001b[0m     dict_df = df.apply(lambda x: ast.literal_eval(\"{{'rel': {}, 'qid': {}, {}}}\".format(\n\u001b[0;32m----> 7\u001b[0;31m         x[0], x[1].split(':',1)[1], ', '.join(x[2:].apply(lambda cl: func(cl))))), axis=1)\n\u001b[0m\u001b[1;32m      8\u001b[0m     \u001b[0;32mreturn\u001b[0m \u001b[0mpd\u001b[0m\u001b[0;34m.\u001b[0m\u001b[0mDataFrame\u001b[0m\u001b[0;34m(\u001b[0m\u001b[0mindex\u001b[0m\u001b[0;34m=\u001b[0m\u001b[0mdict_df\u001b[0m\u001b[0;34m.\u001b[0m\u001b[0mindex\u001b[0m\u001b[0;34m,\u001b[0m \u001b[0mdata\u001b[0m\u001b[0;34m=\u001b[0m\u001b[0mlist\u001b[0m\u001b[0;34m(\u001b[0m\u001b[0mdict_df\u001b[0m\u001b[0;34m.\u001b[0m\u001b[0mvalues\u001b[0m\u001b[0;34m)\u001b[0m\u001b[0;34m)\u001b[0m\u001b[0;34m\u001b[0m\u001b[0m\n\u001b[1;32m      9\u001b[0m \u001b[0;34m\u001b[0m\u001b[0m\n",
      "\u001b[0;32m~/miniconda3/envs/db/lib/python3.6/site-packages/pandas/core/series.py\u001b[0m in \u001b[0;36mapply\u001b[0;34m(self, func, convert_dtype, args, **kwds)\u001b[0m\n\u001b[1;32m   2556\u001b[0m         \u001b[0;32melse\u001b[0m\u001b[0;34m:\u001b[0m\u001b[0;34m\u001b[0m\u001b[0m\n\u001b[1;32m   2557\u001b[0m             return self._constructor(mapped,\n\u001b[0;32m-> 2558\u001b[0;31m                                      index=self.index).__finalize__(self)\n\u001b[0m\u001b[1;32m   2559\u001b[0m \u001b[0;34m\u001b[0m\u001b[0m\n\u001b[1;32m   2560\u001b[0m     def _reduce(self, op, name, axis=0, skipna=True, numeric_only=None,\n",
      "\u001b[0;32m~/miniconda3/envs/db/lib/python3.6/site-packages/pandas/core/series.py\u001b[0m in \u001b[0;36m__init__\u001b[0;34m(self, data, index, dtype, name, copy, fastpath)\u001b[0m\n\u001b[1;32m    264\u001b[0m                                        raise_cast_failure=True)\n\u001b[1;32m    265\u001b[0m \u001b[0;34m\u001b[0m\u001b[0m\n\u001b[0;32m--> 266\u001b[0;31m                 \u001b[0mdata\u001b[0m \u001b[0;34m=\u001b[0m \u001b[0mSingleBlockManager\u001b[0m\u001b[0;34m(\u001b[0m\u001b[0mdata\u001b[0m\u001b[0;34m,\u001b[0m \u001b[0mindex\u001b[0m\u001b[0;34m,\u001b[0m \u001b[0mfastpath\u001b[0m\u001b[0;34m=\u001b[0m\u001b[0;32mTrue\u001b[0m\u001b[0;34m)\u001b[0m\u001b[0;34m\u001b[0m\u001b[0m\n\u001b[0m\u001b[1;32m    267\u001b[0m \u001b[0;34m\u001b[0m\u001b[0m\n\u001b[1;32m    268\u001b[0m         \u001b[0mgeneric\u001b[0m\u001b[0;34m.\u001b[0m\u001b[0mNDFrame\u001b[0m\u001b[0;34m.\u001b[0m\u001b[0m__init__\u001b[0m\u001b[0;34m(\u001b[0m\u001b[0mself\u001b[0m\u001b[0;34m,\u001b[0m \u001b[0mdata\u001b[0m\u001b[0;34m,\u001b[0m \u001b[0mfastpath\u001b[0m\u001b[0;34m=\u001b[0m\u001b[0;32mTrue\u001b[0m\u001b[0;34m)\u001b[0m\u001b[0;34m\u001b[0m\u001b[0m\n",
      "\u001b[0;32m~/miniconda3/envs/db/lib/python3.6/site-packages/pandas/core/internals.py\u001b[0m in \u001b[0;36m__init__\u001b[0;34m(self, block, axis, do_integrity_check, fastpath)\u001b[0m\n\u001b[1;32m   4363\u001b[0m     \u001b[0;32mdef\u001b[0m \u001b[0m__init__\u001b[0m\u001b[0;34m(\u001b[0m\u001b[0mself\u001b[0m\u001b[0;34m,\u001b[0m \u001b[0mblock\u001b[0m\u001b[0;34m,\u001b[0m \u001b[0maxis\u001b[0m\u001b[0;34m,\u001b[0m \u001b[0mdo_integrity_check\u001b[0m\u001b[0;34m=\u001b[0m\u001b[0;32mFalse\u001b[0m\u001b[0;34m,\u001b[0m \u001b[0mfastpath\u001b[0m\u001b[0;34m=\u001b[0m\u001b[0;32mFalse\u001b[0m\u001b[0;34m)\u001b[0m\u001b[0;34m:\u001b[0m\u001b[0;34m\u001b[0m\u001b[0m\n\u001b[1;32m   4364\u001b[0m \u001b[0;34m\u001b[0m\u001b[0m\n\u001b[0;32m-> 4365\u001b[0;31m         \u001b[0;32mif\u001b[0m \u001b[0misinstance\u001b[0m\u001b[0;34m(\u001b[0m\u001b[0maxis\u001b[0m\u001b[0;34m,\u001b[0m \u001b[0mlist\u001b[0m\u001b[0;34m)\u001b[0m\u001b[0;34m:\u001b[0m\u001b[0;34m\u001b[0m\u001b[0m\n\u001b[0m\u001b[1;32m   4366\u001b[0m             \u001b[0;32mif\u001b[0m \u001b[0mlen\u001b[0m\u001b[0;34m(\u001b[0m\u001b[0maxis\u001b[0m\u001b[0;34m)\u001b[0m \u001b[0;34m!=\u001b[0m \u001b[0;36m1\u001b[0m\u001b[0;34m:\u001b[0m\u001b[0;34m\u001b[0m\u001b[0m\n\u001b[1;32m   4367\u001b[0m                 raise ValueError(\"cannot create SingleBlockManager with more \"\n",
      "\u001b[0;31mKeyboardInterrupt\u001b[0m: "
     ]
    }
   ],
   "source": [
    "%%time\n",
    "\n",
    "# output_postfix = 'reduced'\n",
    "bp, dirname = '/data/khodadaa/mslr/MSLR-WEB10K/', 'mslr-web10k'\n",
    "# bp, dirname = '/data/khodadaa/mslr/MSLR-WEB30K/', 'mslr-web30k'\n",
    "# bp, dirname = '/data/khodadaa/mslr/Gov/Feature_min/2003_hp_dataset/', '2003_hp_dataset'\n",
    "\n",
    "cols = None\n",
    "# cols = list(range(1,6)) #+ list(range(11,26)) + list(range(71,76)) + list(range(105, 132))\n",
    "# cols = [0, 1] + list(map(lambda x: x+1, keep))\n",
    "\n",
    "for fn in range(1,6):\n",
    "    fold = 'Fold' + str(fn)\n",
    "    npz_dict = {}\n",
    "    for gr in ['train', 'vali', 'test']:\n",
    "        df = pd.read_csv(bp + '{}/{}.txt'.format(fold, gr), sep='\\s+', header=None, usecols=cols)\n",
    "        print(fold, gr, df.shape)\n",
    "        \n",
    "        X, y, qid = split_X_y_qid(df)\n",
    "        print('Split done!')\n",
    "        npz_dict['X_'+gr] = X.values\n",
    "        npz_dict['y_'+gr] = y.values\n",
    "        npz_dict['qid_'+gr] = qid.values\n",
    "    np.savez(file=bp+dirname+fold, **npz_dict)\n",
    "        \n",
    "        \n",
    "#         sort_qid(df)\n",
    "#         df = adjust_features(df, cols)\n",
    "#         df.to_csv(bp + '{}/{}_{}.csv'.format(fold, gr, output_postfix), index=False, sep=' ', header=False)"
   ]
  },
  {
   "cell_type": "markdown",
   "metadata": {},
   "source": [
    "# MSLR BM25"
   ]
  },
  {
   "cell_type": "code",
   "execution_count": 434,
   "metadata": {},
   "outputs": [
    {
     "name": "stderr",
     "output_type": "stream",
     "text": [
      "/nfs/stak/users/khodadaa/miniconda3/envs/db/lib/python3.6/site-packages/numpy/lib/arraysetops.py:472: FutureWarning: elementwise comparison failed; returning scalar instead, but in the future will perform elementwise comparison\n",
      "  mask |= (ar1 == a)\n"
     ]
    },
    {
     "name": "stdout",
     "output_type": "stream",
     "text": [
      "CPU times: user 1min 32s, sys: 15.1 s, total: 1min 47s\n",
      "Wall time: 1min 18s\n"
     ]
    }
   ],
   "source": [
    "%%time\n",
    "bm25_df = pd.read_csv('/data/khodadaa/mslr/MSLR-WEB30K/mslr-web30k.csv', index_col=0)"
   ]
  },
  {
   "cell_type": "code",
   "execution_count": 463,
   "metadata": {
    "scrolled": true
   },
   "outputs": [
    {
     "name": "stdout",
     "output_type": "stream",
     "text": [
      "[3, 2, 2, 2, 2, 2, 2, 2, 2, 2, 2, 2, 2, 1, 1, 1, 1, 1, 1, 1, 1, 1, 1, 1, 1, 1, 1, 1, 1, 0, 0, 0, 0, 0, 0, 0, 0, 0, 0, 0, 0, 0, 0, 0, 0, 0, 0, 0, 0, 0, 0, 0, 0, 0, 0, 0, 0, 0, 0, 0, 0, 0, 0, 0, 0, 0, 0, 0, 0, 0, 0, 0, 0, 0, 0, 0, 0, 0, 0, 0, 0, 0, 0, 0, 0, 0]\n",
      "qid     1.000000\n",
      "rel     3.000000\n",
      "110    23.144228\n",
      "Name: 83, dtype: float64\n",
      "qid     1.000000\n",
      "rel     1.000000\n",
      "110    23.144228\n",
      "Name: 83, dtype: float64\n"
     ]
    },
    {
     "ename": "KeyboardInterrupt",
     "evalue": "",
     "output_type": "error",
     "traceback": [
      "\u001b[0;31m---------------------------------------------------------------------------\u001b[0m",
      "\u001b[0;31mKeyboardInterrupt\u001b[0m                         Traceback (most recent call last)",
      "\u001b[0;32m~/miniconda3/envs/db/lib/python3.6/site-packages/ipykernel/kernelbase.py\u001b[0m in \u001b[0;36m_input_request\u001b[0;34m(self, prompt, ident, parent, password)\u001b[0m\n\u001b[1;32m    728\u001b[0m             \u001b[0;32mtry\u001b[0m\u001b[0;34m:\u001b[0m\u001b[0;34m\u001b[0m\u001b[0m\n\u001b[0;32m--> 729\u001b[0;31m                 \u001b[0mident\u001b[0m\u001b[0;34m,\u001b[0m \u001b[0mreply\u001b[0m \u001b[0;34m=\u001b[0m \u001b[0mself\u001b[0m\u001b[0;34m.\u001b[0m\u001b[0msession\u001b[0m\u001b[0;34m.\u001b[0m\u001b[0mrecv\u001b[0m\u001b[0;34m(\u001b[0m\u001b[0mself\u001b[0m\u001b[0;34m.\u001b[0m\u001b[0mstdin_socket\u001b[0m\u001b[0;34m,\u001b[0m \u001b[0;36m0\u001b[0m\u001b[0;34m)\u001b[0m\u001b[0;34m\u001b[0m\u001b[0m\n\u001b[0m\u001b[1;32m    730\u001b[0m             \u001b[0;32mexcept\u001b[0m \u001b[0mException\u001b[0m\u001b[0;34m:\u001b[0m\u001b[0;34m\u001b[0m\u001b[0m\n",
      "\u001b[0;32m~/miniconda3/envs/db/lib/python3.6/site-packages/jupyter_client/session.py\u001b[0m in \u001b[0;36mrecv\u001b[0;34m(self, socket, mode, content, copy)\u001b[0m\n\u001b[1;32m    802\u001b[0m         \u001b[0;32mtry\u001b[0m\u001b[0;34m:\u001b[0m\u001b[0;34m\u001b[0m\u001b[0m\n\u001b[0;32m--> 803\u001b[0;31m             \u001b[0mmsg_list\u001b[0m \u001b[0;34m=\u001b[0m \u001b[0msocket\u001b[0m\u001b[0;34m.\u001b[0m\u001b[0mrecv_multipart\u001b[0m\u001b[0;34m(\u001b[0m\u001b[0mmode\u001b[0m\u001b[0;34m,\u001b[0m \u001b[0mcopy\u001b[0m\u001b[0;34m=\u001b[0m\u001b[0mcopy\u001b[0m\u001b[0;34m)\u001b[0m\u001b[0;34m\u001b[0m\u001b[0m\n\u001b[0m\u001b[1;32m    804\u001b[0m         \u001b[0;32mexcept\u001b[0m \u001b[0mzmq\u001b[0m\u001b[0;34m.\u001b[0m\u001b[0mZMQError\u001b[0m \u001b[0;32mas\u001b[0m \u001b[0me\u001b[0m\u001b[0;34m:\u001b[0m\u001b[0;34m\u001b[0m\u001b[0m\n",
      "\u001b[0;32m~/miniconda3/envs/db/lib/python3.6/site-packages/zmq/sugar/socket.py\u001b[0m in \u001b[0;36mrecv_multipart\u001b[0;34m(self, flags, copy, track)\u001b[0m\n\u001b[1;32m    465\u001b[0m         \"\"\"\n\u001b[0;32m--> 466\u001b[0;31m         \u001b[0mparts\u001b[0m \u001b[0;34m=\u001b[0m \u001b[0;34m[\u001b[0m\u001b[0mself\u001b[0m\u001b[0;34m.\u001b[0m\u001b[0mrecv\u001b[0m\u001b[0;34m(\u001b[0m\u001b[0mflags\u001b[0m\u001b[0;34m,\u001b[0m \u001b[0mcopy\u001b[0m\u001b[0;34m=\u001b[0m\u001b[0mcopy\u001b[0m\u001b[0;34m,\u001b[0m \u001b[0mtrack\u001b[0m\u001b[0;34m=\u001b[0m\u001b[0mtrack\u001b[0m\u001b[0;34m)\u001b[0m\u001b[0;34m]\u001b[0m\u001b[0;34m\u001b[0m\u001b[0m\n\u001b[0m\u001b[1;32m    467\u001b[0m         \u001b[0;31m# have first part already, only loop while more to receive\u001b[0m\u001b[0;34m\u001b[0m\u001b[0;34m\u001b[0m\u001b[0m\n",
      "\u001b[0;32mzmq/backend/cython/socket.pyx\u001b[0m in \u001b[0;36mzmq.backend.cython.socket.Socket.recv\u001b[0;34m()\u001b[0m\n",
      "\u001b[0;32mzmq/backend/cython/socket.pyx\u001b[0m in \u001b[0;36mzmq.backend.cython.socket.Socket.recv\u001b[0;34m()\u001b[0m\n",
      "\u001b[0;32mzmq/backend/cython/socket.pyx\u001b[0m in \u001b[0;36mzmq.backend.cython.socket._recv_copy\u001b[0;34m()\u001b[0m\n",
      "\u001b[0;32m~/miniconda3/envs/db/lib/python3.6/site-packages/zmq/backend/cython/checkrc.pxd\u001b[0m in \u001b[0;36mzmq.backend.cython.checkrc._check_rc\u001b[0;34m()\u001b[0m\n",
      "\u001b[0;31mKeyboardInterrupt\u001b[0m: ",
      "\nDuring handling of the above exception, another exception occurred:\n",
      "\u001b[0;31mKeyboardInterrupt\u001b[0m                         Traceback (most recent call last)",
      "\u001b[0;32m<timed exec>\u001b[0m in \u001b[0;36m<module>\u001b[0;34m()\u001b[0m\n",
      "\u001b[0;32m~/miniconda3/envs/db/lib/python3.6/site-packages/ipykernel/kernelbase.py\u001b[0m in \u001b[0;36mraw_input\u001b[0;34m(self, prompt)\u001b[0m\n\u001b[1;32m    702\u001b[0m             \u001b[0mself\u001b[0m\u001b[0;34m.\u001b[0m\u001b[0m_parent_ident\u001b[0m\u001b[0;34m,\u001b[0m\u001b[0;34m\u001b[0m\u001b[0m\n\u001b[1;32m    703\u001b[0m             \u001b[0mself\u001b[0m\u001b[0;34m.\u001b[0m\u001b[0m_parent_header\u001b[0m\u001b[0;34m,\u001b[0m\u001b[0;34m\u001b[0m\u001b[0m\n\u001b[0;32m--> 704\u001b[0;31m             \u001b[0mpassword\u001b[0m\u001b[0;34m=\u001b[0m\u001b[0;32mFalse\u001b[0m\u001b[0;34m,\u001b[0m\u001b[0;34m\u001b[0m\u001b[0m\n\u001b[0m\u001b[1;32m    705\u001b[0m         )\n\u001b[1;32m    706\u001b[0m \u001b[0;34m\u001b[0m\u001b[0m\n",
      "\u001b[0;32m~/miniconda3/envs/db/lib/python3.6/site-packages/ipykernel/kernelbase.py\u001b[0m in \u001b[0;36m_input_request\u001b[0;34m(self, prompt, ident, parent, password)\u001b[0m\n\u001b[1;32m    732\u001b[0m             \u001b[0;32mexcept\u001b[0m \u001b[0mKeyboardInterrupt\u001b[0m\u001b[0;34m:\u001b[0m\u001b[0;34m\u001b[0m\u001b[0m\n\u001b[1;32m    733\u001b[0m                 \u001b[0;31m# re-raise KeyboardInterrupt, to truncate traceback\u001b[0m\u001b[0;34m\u001b[0m\u001b[0;34m\u001b[0m\u001b[0m\n\u001b[0;32m--> 734\u001b[0;31m                 \u001b[0;32mraise\u001b[0m \u001b[0mKeyboardInterrupt\u001b[0m\u001b[0;34m\u001b[0m\u001b[0m\n\u001b[0m\u001b[1;32m    735\u001b[0m             \u001b[0;32melse\u001b[0m\u001b[0;34m:\u001b[0m\u001b[0;34m\u001b[0m\u001b[0m\n\u001b[1;32m    736\u001b[0m                 \u001b[0;32mbreak\u001b[0m\u001b[0;34m\u001b[0m\u001b[0m\n",
      "\u001b[0;31mKeyboardInterrupt\u001b[0m: "
     ]
    }
   ],
   "source": [
    "%%time\n",
    "bm25_gp = bm25_df.groupby('qid')\n",
    "for name, group in bm25_gp:\n",
    "    bm_gp_rels = sorted(list(group['rel']), reverse=True)\n",
    "    print(bm_gp_rels)\n",
    "    bm_gp_sorted = group.sort_values(by='110', ascending=False)    \n",
    "    bm_gp_sorted['rel'] = bm_gp_rels\n",
    "    print(bm_gp_sorted.loc[83, ['qid', 'rel', '110']])\n",
    "    new_rels = pd.Series(index=bm_gp_sorted.index, data=bm_gp_rels)\n",
    "    bm25_df\n",
    "    print(bm25_df.loc[83, ['qid', 'rel', '110']])\n",
    "    input()"
   ]
  },
  {
   "cell_type": "markdown",
   "metadata": {},
   "source": [
    "# Build Custom Training Sets"
   ]
  },
  {
   "cell_type": "code",
   "execution_count": 298,
   "metadata": {},
   "outputs": [],
   "source": [
    "data = pd.read_csv('/data/khodadaa/mslr/MSLR-WEB30K/Fold1/train.txt', sep='\\s+', header=None)\n",
    "\n",
    "data2 = pd.read_csv('/data/khodadaa/mslr/MSLR-WEB30K/Fold1/vali.txt', sep='\\s+', header=None)\n",
    "\n",
    "data3 = pd.read_csv('/data/khodadaa/mslr/MSLR-WEB30K/Fold1/test.txt', sep='\\s+', header=None)"
   ]
  },
  {
   "cell_type": "code",
   "execution_count": null,
   "metadata": {},
   "outputs": [],
   "source": [
    "%%time\n",
    "mslr_data = data.append(data2, ignore_index=True).append(data3, ignore_index=True)"
   ]
  },
  {
   "cell_type": "code",
   "execution_count": 301,
   "metadata": {},
   "outputs": [
    {
     "data": {
      "text/plain": [
       "array(['qid:1', 'qid:6', 'qid:11', 'qid:16', 'qid:21', 'qid:26', 'qid:31',\n",
       "       'qid:36', 'qid:41', 'qid:46'], dtype=object)"
      ]
     },
     "execution_count": 301,
     "metadata": {},
     "output_type": "execute_result"
    }
   ],
   "source": [
    "uniq_qids = mslr_data[1].unique()\n",
    "uniq_qids[:10]"
   ]
  },
  {
   "cell_type": "code",
   "execution_count": 359,
   "metadata": {},
   "outputs": [
    {
     "data": {
      "text/plain": [
       "array(['qid:464', 'qid:25952', 'qid:9372', 'qid:5243', 'qid:7759',\n",
       "       'qid:8863', 'qid:17692', 'qid:23849', 'qid:2849', 'qid:17155'],\n",
       "      dtype=object)"
      ]
     },
     "execution_count": 359,
     "metadata": {},
     "output_type": "execute_result"
    }
   ],
   "source": [
    "from random import shuffle\n",
    "shuffle(uniq_qids)\n",
    "uniq_qids[:10]"
   ]
  },
  {
   "cell_type": "code",
   "execution_count": 386,
   "metadata": {},
   "outputs": [
    {
     "name": "stdout",
     "output_type": "stream",
     "text": [
      "0.10152487652888727 0.09878537571679538 0.7996897477543173\n"
     ]
    }
   ],
   "source": [
    "train_size = int(r*len(uniq_qids))\n",
    "valid_size = int(r*len(uniq_qids))\n",
    "new_train_qids = uniq_qids[0 : train_size]\n",
    "new_valid_qids = uniq_qids[train_size : train_size+valid_size]\n",
    "new_test_qids = uniq_qids[train_size+valid_size :]\n",
    "new_train_data = mslr_data[mslr_data[1].isin(new_train_qids)]\n",
    "new_valid_data = mslr_data[mslr_data[1].isin(new_valid_qids)]\n",
    "new_test_data = mslr_data[mslr_data[1].isin(new_test_qids)]\n",
    "\n",
    "nts0 = new_train_data.shape[0]+new_valid_data.shape[0]+new_test_data.shape[0]\n",
    "print(new_train_data.shape[0]/nts0, new_valid_data.shape[0]/nts0, new_test_data.shape[0]/nts0)\n",
    "\n",
    "\n",
    "new_train_data.to_csv('/data/khodadaa/mslr/MSLR-WEB30K/Fold1/{}-train.txt'.format(r), sep=' ', index=False, header=False)\n",
    "new_valid_data.to_csv('/data/khodadaa/mslr/MSLR-WEB30K/Fold1/{}-vali.txt'.format(r), sep=' ', index=False, header=False)\n",
    "new_test_data.to_csv('/data/khodadaa/mslr/MSLR-WEB30K/Fold1/{}-test.txt'.format(r), sep=' ', index=False, header=False)"
   ]
  },
  {
   "cell_type": "code",
   "execution_count": 387,
   "metadata": {},
   "outputs": [
    {
     "data": {
      "image/png": "[encoded data removed]",
      "text/plain": [
       "<Figure size 432x288 with 1 Axes>"
      ]
     },
     "metadata": {},
     "output_type": "display_data"
    }
   ],
   "source": [
    "def plot_pops(df, start_index=0, end_index=None):\n",
    "    pops = list(df[136])\n",
    "    pops = list(map(lambda x: int(x[4:]), pops))\n",
    "    pops.sort(reverse=True)    \n",
    "    end_index = end_index if end_index is not None else len(pops)\n",
    "    plt.plot(pops[start_index: end_index])\n",
    "    plt.ylabel('Popularity')\n",
    "    plt.title('Popularity distribution of MSLR30k_test={}'.format(1-2*r))\n",
    "    plt.show()\n",
    "\n",
    "plot_pops(new_test_data, 0, 50000)"
   ]
  },
  {
   "cell_type": "markdown",
   "metadata": {},
   "source": [
    "# Learn to Rank Build Model"
   ]
  },
  {
   "cell_type": "code",
   "execution_count": 596,
   "metadata": {},
   "outputs": [],
   "source": [
    "import pyltr\n",
    "\n",
    "stp_after = 10"
   ]
  },
  {
   "cell_type": "code",
   "execution_count": 597,
   "metadata": {},
   "outputs": [
    {
     "name": "stdout",
     "output_type": "stream",
     "text": [
      "CPU times: user 12min 5s, sys: 18.2 s, total: 12min 24s\n",
      "Wall time: 12min 24s\n"
     ]
    }
   ],
   "source": [
    "%%time\n",
    "with open(bp + '/{}-train.txt'.format(r)) as trainfile, \\\n",
    "     open(bp + '/{}-vali.txt'.format(r)) as valifile, \\\n",
    "     open(bp + '/{}-test.txt'.format(r)) as evalfile:\n",
    "        TX, Ty, Tqids, _ = pyltr.data.letor.read_dataset(trainfile)\n",
    "        VX, Vy, Vqids, _ = pyltr.data.letor.read_dataset(valifile)\n",
    "        EX, Ey, Eqids, _ = pyltr.data.letor.read_dataset(evalfile)"
   ]
  },
  {
   "cell_type": "code",
   "execution_count": 390,
   "metadata": {},
   "outputs": [],
   "source": [
    "metric = pyltr.metrics.NDCG(k=10)\n",
    "monitor = pyltr.models.monitors.ValidationMonitor(\n",
    "        VX, Vy, Vqids, metric=metric, stop_after=stp_after)\n",
    "model = pyltr.models.LambdaMART(\n",
    "        metric=metric,\n",
    "        n_estimators=1000,\n",
    "        learning_rate=0.02,\n",
    "        max_features=0.5,\n",
    "        query_subsample=0.5,\n",
    "        max_leaf_nodes=10,\n",
    "        min_samples_leaf=64,\n",
    "        verbose=1)"
   ]
  },
  {
   "cell_type": "code",
   "execution_count": null,
   "metadata": {},
   "outputs": [
    {
     "name": "stdout",
     "output_type": "stream",
     "text": [
      " Iter  Train score  OOB Improve    Remaining                           Monitor Output \n",
      "    1       0.1213       0.1149      286.24m      C:      0.1244 B:      0.1244 S:  0\n",
      "    2       0.2470       0.1146      284.06m      C:      0.2387 B:      0.2387 S:  0\n",
      "    3       0.2617       0.0234      282.60m      C:      0.2602 B:      0.2602 S:  0\n",
      "    4       0.2721       0.0086      283.16m      C:      0.2687 B:      0.2687 S:  0\n",
      "    5       0.2773       0.0037      282.73m      C:      0.2727 B:      0.2727 S:  0\n",
      "    6       0.2748       0.0062      281.85m      C:      0.2794 B:      0.2794 S:  0\n",
      "    7       0.2945       0.0091      282.28m      C:      0.2898 B:      0.2898 S:  0\n",
      "    8       0.3013       0.0090      282.36m      C:      0.2980 B:      0.2980 S:  0\n",
      "    9       0.3001       0.0008      282.54m      C:      0.2994 B:      0.2994 S:  0\n",
      "   10       0.3088       0.0127      283.60m      C:      0.3119 B:      0.3119 S:  0\n",
      "   15       0.3478      -0.0010      283.54m      C:      0.3403 B:      0.3410 S:  1\n",
      "   20       0.3552      -0.0006      282.78m      C:      0.3450 B:      0.3450 S:  0\n",
      "   25       0.3496       0.0001      281.82m      C:      0.3519 B:      0.3520 S:  1\n",
      "   30       0.3557      -0.0007      281.40m      C:      0.3619 B:      0.3619 S:  0\n",
      "   35       0.3664       0.0006      280.74m      C:      0.3645 B:      0.3645 S:  0\n",
      "   40       0.3633      -0.0007      279.64m      C:      0.3679 B:      0.3684 S:  3\n",
      "   45       0.3613       0.0007      278.63m      C:      0.3677 B:      0.3684 S:  8\n",
      "   50       0.3645      -0.0004      277.24m      C:      0.3680 B:      0.3686 S:  3\n",
      "   60       0.3666      -0.0001      275.20m      C:      0.3690 B:      0.3690 S:  0\n",
      "   70       0.3775       0.0002      273.00m      C:      0.3801 B:      0.3801 S:  0\n",
      "   80       0.3840       0.0008      271.02m      C:      0.3855 B:      0.3855 S:  0\n",
      "   90       0.3817      -0.0001      268.63m      C:      0.3882 B:      0.3883 S:  1\n",
      "  100       0.3916       0.0014      266.48m      C:      0.3933 B:      0.3933 S:  0\n",
      "  120       0.3986       0.0007      261.32m      C:      0.3987 B:      0.3987 S:  0\n",
      "  140       0.4110      -0.0000      255.53m      C:      0.4021 B:      0.4021 S:  0\n"
     ]
    }
   ],
   "source": [
    "%%time\n",
    "model.fit(TX, Ty, Tqids, monitor=monitor)"
   ]
  },
  {
   "cell_type": "code",
   "execution_count": 598,
   "metadata": {},
   "outputs": [],
   "source": [
    "def get_frequency():\n",
    "    test_df = pd.read_csv(bp + '/{}-test.txt'.format(r), sep='\\s+', header=None)\n",
    "    url_click_counts = test_df[136].str.replace('135:', '')\n",
    "    url_click_counts = url_click_counts.astype(int)\n",
    "    return url_click_counts.values\n",
    "    \n",
    "Epred = model.predict(EX)\n",
    "# Epred = EX[:, 109] # To use BM25 [feature #110] as predictions\n",
    "Efreq = get_frequency()\n",
    "pd.DataFrame({'Eqids': Eqids, 'Ey':Ey, 'Epred':Epred, 'Efreq':Efreq}, \n",
    "                       columns=['Eqids', 'Efreq', 'Ey', 'Epred']).to_csv(\n",
    "                        '{}/{}-lambda_preds_{}.csv'.format(bp, r, stp_after), index=False)"
   ]
  },
  {
   "cell_type": "code",
   "execution_count": 599,
   "metadata": {},
   "outputs": [
    {
     "name": "stdout",
     "output_type": "stream",
     "text": [
      "Random ranking: 0.19480186807845296\n",
      "Our model: 0.2804544815589282\n"
     ]
    }
   ],
   "source": [
    "print('Random ranking:', metric.calc_mean_random(Eqids, Ey))\n",
    "print('Our model:', metric.calc_mean(Eqids, Ey, Epred))"
   ]
  },
  {
   "cell_type": "markdown",
   "metadata": {},
   "source": [
    "BM25 r = 0.01 & \n",
    "Random ranking: 0.19480186807845296 &\n",
    "Our model: 0.2804544815589282\n",
    "\n",
    "BM25 r = 0.1 & \n",
    "Random ranking: 0.1942467805983666 &\n",
    "Our model: 0.2803232641245612\n",
    "\n",
    "r= 0.1 &\n",
    "Random ranking: 0.1942467805983666 &\n",
    "Our model: 0.435723774309332\n",
    "\n",
    "r = 0.01 &\n",
    "Random ranking: 0.19480186807845296 & \n",
    "Our model: 0.3810724694511498"
   ]
  },
  {
   "cell_type": "markdown",
   "metadata": {},
   "source": [
    "# Popularity = URL relevancy rate to qids"
   ]
  },
  {
   "cell_type": "markdown",
   "metadata": {},
   "source": [
    "In this experiment we consider popularity of an answer to be the number of queries that it's relevant to. Using this new value for the frequency, we then plot our nDCG ove cache distributions."
   ]
  },
  {
   "cell_type": "code",
   "execution_count": 2,
   "metadata": {},
   "outputs": [],
   "source": [
    "def get_url_distribution(df: pd.DataFrame):\n",
    "    dup_set = list(range(126, 134)) + [135]\n",
    "    dup_set = list(map(lambda x: '{}'.format(x), dup_set))\n",
    "    \n",
    "    url_df = pd.DataFrame(index=df.index)    \n",
    "    url_id = 1\n",
    "    for name, group in df.groupby(dup_set):\n",
    "        url_df.loc[group.index, 'id'] = url_id\n",
    "        url_df.loc[group.index, 'count'] = group.shape[0] \n",
    "        url_df.loc[group.index, 'paired-qids'] = group['qid'].unique().shape[0]\n",
    "        url_df.loc[group.index, 'relevant-qids'] = group.loc[group['rel'] > 0, 'qid'].unique().shape[0]\n",
    "        url_id += group.shape[0]\n",
    "    return url_df"
   ]
  },
  {
   "cell_type": "code",
   "execution_count": 1185,
   "metadata": {},
   "outputs": [
    {
     "name": "stdout",
     "output_type": "stream",
     "text": [
      "CPU times: user 22 µs, sys: 0 ns, total: 22 µs\n",
      "Wall time: 26.7 µs\n"
     ]
    }
   ],
   "source": [
    "%%time\n",
    "\n",
    "# from multiprocessing import  Pool, cpu_count\n",
    "import resource\n",
    "resource.RLIMIT_NPROC = 5\n",
    "\n",
    "rnd_qid_frac = 0.5\n",
    "\n",
    "def gen_pops_using_random_qid_subset(orig_df: pd.DataFrame, frac: float, dup_set):\n",
    "    df = orig_df.copy(deep=True)\n",
    "    uniq_qids = df['qid'].unique()\n",
    "    rand_qid = np.random.choice(uniq_qids, size=int(frac*uniq_qids.shape[0]))\n",
    "    for name, group in df.groupby(dup_set):\n",
    "        df.loc[group.index, 'url-popularity'] = np.isin(group['qid'].unique(), rand_qid).shape[0]\n",
    "    return df\n",
    "\n",
    "\n",
    "def build_popularity(r, use_random_qid_subset=False):\n",
    "    test_df = pd.read_csv(bp + '/{}-test.csv'.format(r), index_col=0)\n",
    "    pred_df = pd.read_csv('{}/{}-lambda_preds_{}.csv'.format(bp, r, stp_after), \n",
    "                        dtype={'Eqids': str, 'Efreq': int, 'Ey': float, 'Epred': float})    \n",
    "    \n",
    "    dup_set = list(range(126, 134)) + [135]\n",
    "    dup_set = list(map(lambda x: '{}'.format(x), dup_set))\n",
    "    \n",
    "    if not use_random_qid_subset:\n",
    "        for name, group in test_df.groupby(dup_set):\n",
    "            test_df.loc[group.index, 'url-popularity'] = group['qid'].unique().shape[0]\n",
    "\n",
    "        test_df.to_csv(bp + '/{}-test_url_idpop.csv'.format(r), index=False)    \n",
    "        pred_df['Efreq'] = test_df['url-popularity']\n",
    "        pred_df.to_csv('{}/{}-lambda_preds_urlpop_{}.csv'.format(bp, r, stp_after), index=False)\n",
    "    \n",
    "    # Using random frac% of qids\n",
    "    if use_random_qid_subset:\n",
    "        rnd_test_df = gen_pops_using_random_qid_subset(test_df, frac=rnd_qid_frac, dup_set= dup_set)\n",
    "        rnd_test_df.to_csv(bp + '/{}-test_url_idpop_rnd{}.csv'.format(r), rnd_qid_frac, index=False)\n",
    "        pred_df['Efreq'] = rnd_test_df['url-popularity']\n",
    "        pred_df.to_csv('{}/{}-lambda_preds_urlpop_rnd{}_{}.csv'.format(bp, r, rnd_qid_frac, stp_after), index=False)\n",
    "        \n",
    "def run(r):    \n",
    "#     test_df = pd.read_csv(bp + '/{}-test.txt'.format(r), sep='\\s+', header=None)\n",
    "#     splited_test_df = split_fea_name_val(test_df)\n",
    "#     print('Transformed test data format to dataframe.')\n",
    "#     splited_test_df.to_csv(bp + '/{}-test.csv'.format(r))\n",
    "#     build_popularity(r, use_random_qid_subset=False)\n",
    "    build_popularity(r, use_random_qid_subset=True)\n",
    "\n",
    "# run(0.1)\n",
    "# run(0.01)"
   ]
  },
  {
   "cell_type": "markdown",
   "metadata": {},
   "source": [
    "# MSLR30K nDCG vs. Cache Perfect Distribution"
   ]
  },
  {
   "cell_type": "markdown",
   "metadata": {},
   "source": [
    "In this section, we want to study *ideal* nDCG distribution when we dynamically change cache size. To find ideal nDCG for each cache size, we conisder the actual relevance values to be the values that is predicted by our model. Caches are built based on top i% popular answers. Popularity here is feature #135 which is *page click count*"
   ]
  },
  {
   "cell_type": "code",
   "execution_count": 424,
   "metadata": {},
   "outputs": [],
   "source": [
    "from math import log2\n",
    "\n",
    "def dcg(rels:list, k):\n",
    "    dcg = 0.0\n",
    "    for i in range(min(k, len(rels))):\n",
    "        dcg += (2**rels[i] - 1) / log2((i+1) + 1)\n",
    "    return dcg"
   ]
  },
  {
   "cell_type": "code",
   "execution_count": 425,
   "metadata": {
    "scrolled": true
   },
   "outputs": [
    {
     "name": "stderr",
     "output_type": "stream",
     "text": [
      "/nfs/stak/users/khodadaa/miniconda3/envs/db/lib/python3.6/site-packages/numpy/lib/arraysetops.py:472: FutureWarning: elementwise comparison failed; returning scalar instead, but in the future will perform elementwise comparison\n",
      "  mask |= (ar1 == a)\n"
     ]
    },
    {
     "name": "stdout",
     "output_type": "stream",
     "text": [
      "CPU times: user 2min 8s, sys: 42 s, total: 2min 51s\n",
      "Wall time: 1min 20s\n"
     ]
    }
   ],
   "source": [
    "%%time\n",
    "mslr_df = pd.read_csv('/data/khodadaa/mslr/MSLR-WEB30K/mslr-web30k.csv', index_col=0)"
   ]
  },
  {
   "cell_type": "code",
   "execution_count": 170,
   "metadata": {},
   "outputs": [
    {
     "name": "stdout",
     "output_type": "stream",
     "text": [
      "nDCG distribution for k= 10\n",
      "CPU times: user 9min 17s, sys: 53.6 s, total: 10min 11s\n",
      "Wall time: 10min 5s\n"
     ]
    }
   ],
   "source": [
    "%%time \n",
    "# calculating mean nDCG distribution over different cache sizes\n",
    "k = 10\n",
    "print('nDCG distribution for k=', k)\n",
    "\n",
    "distrib_df = pd.DataFrame(index=mslr_df.qid.unique())\n",
    "distrib_df.index.name = 'qid'\n",
    "\n",
    "# calculating iDCGs\n",
    "mslr_gp = mslr_df.groupby('qid')\n",
    "idcg_ser = pd.Series(index=mslr_df.qid.unique())\n",
    "for name, group in mslr_gp:\n",
    "    rels_sorted = sorted(list(group['rel']), reverse=True)\n",
    "    idcg = dcg(rels_sorted, k)\n",
    "    idcg_ser[name] = idcg if idcg!=0.0 else 1.0\n",
    "distrib_df['iDCG'] = idcg_ser    \n",
    "    \n",
    "mslr_df_sorted = mslr_df.sort_values(by='135', ascending=False)\n",
    "for i in range(1, 101, 2):\n",
    "    cache_size = int(mslr_df_sorted.shape[0] * i / 100)\n",
    "    mslr_cache = mslr_df_sorted[: cache_size]\n",
    "    mslr_cache_gps = mslr_cache.groupby('qid')\n",
    "    ndcg_ser = pd.Series(index=mslr_df.qid.unique())\n",
    "    for name, group in mslr_cache_gps:\n",
    "        rels = list(group['rel'])\n",
    "        rels.sort(reverse=True)\n",
    "        ndcg_ser[name] = dcg(rels, k)/idcg_ser[name]\n",
    "    distrib_df[i] = ndcg_ser\n",
    "distrib_df\n",
    "distrib_df.to_csv('/data/khodadaa/mslr/MSLR-WEB30K/nDCG-cache-distribution-k{}.csv'.format(k))"
   ]
  },
  {
   "cell_type": "code",
   "execution_count": 172,
   "metadata": {},
   "outputs": [
    {
     "name": "stdout",
     "output_type": "stream",
     "text": [
      "CPU times: user 489 ms, sys: 8.01 ms, total: 497 ms\n",
      "Wall time: 253 ms\n"
     ]
    },
    {
     "data": {
      "image/png": "[encoded data removed]",
      "text/plain": [
       "<Figure size 576x288 with 1 Axes>"
      ]
     },
     "metadata": {},
     "output_type": "display_data"
    }
   ],
   "source": [
    "%%time\n",
    "desc_df = distrib_df.describe()\n",
    "desc_df.loc['mean', desc_df.columns.difference(['iDCG'])].plot(title='MSLR30K - nDCG distribution of a perfect learning model',\n",
    "    figsize=(8,4), grid=True, xticks=range(0,101,5))"
   ]
  },
  {
   "cell_type": "code",
   "execution_count": 173,
   "metadata": {
    "scrolled": true
   },
   "outputs": [
    {
     "data": {
      "text/plain": [
       "<matplotlib.axes._subplots.AxesSubplot at 0x7f4061426278>"
      ]
     },
     "execution_count": 173,
     "metadata": {},
     "output_type": "execute_result"
    },
    {
     "data": {
      "image/png": "[encoded data removed]",
      "text/plain": [
       "<Figure size 576x288 with 1 Axes>"
      ]
     },
     "metadata": {},
     "output_type": "display_data"
    }
   ],
   "source": [
    "desc_df.loc['count', desc_df.columns.difference(['iDCG'])].plot(title='MSLR30K - number of distinct queries covered',\n",
    "    figsize=(8,4), grid=True, xticks=range(0,101,5), yticks=range(12000, 32500, 1500), )"
   ]
  },
  {
   "cell_type": "code",
   "execution_count": 128,
   "metadata": {
    "scrolled": true
   },
   "outputs": [
    {
     "data": {
      "text/html": [
       "<div>\n",
       "<style scoped>\n",
       "    .dataframe tbody tr th:only-of-type {\n",
       "        vertical-align: middle;\n",
       "    }\n",
       "\n",
       "    .dataframe tbody tr th {\n",
       "        vertical-align: top;\n",
       "    }\n",
       "\n",
       "    .dataframe thead th {\n",
       "        text-align: right;\n",
       "    }\n",
       "</style>\n",
       "<table border=\"1\" class=\"dataframe\">\n",
       "  <thead>\n",
       "    <tr style=\"text-align: right;\">\n",
       "      <th></th>\n",
       "      <th>iDCG</th>\n",
       "      <th>1</th>\n",
       "      <th>3</th>\n",
       "      <th>5</th>\n",
       "      <th>7</th>\n",
       "      <th>9</th>\n",
       "      <th>11</th>\n",
       "      <th>13</th>\n",
       "      <th>15</th>\n",
       "      <th>17</th>\n",
       "      <th>...</th>\n",
       "      <th>81</th>\n",
       "      <th>83</th>\n",
       "      <th>85</th>\n",
       "      <th>87</th>\n",
       "      <th>89</th>\n",
       "      <th>91</th>\n",
       "      <th>93</th>\n",
       "      <th>95</th>\n",
       "      <th>97</th>\n",
       "      <th>99</th>\n",
       "    </tr>\n",
       "  </thead>\n",
       "  <tbody>\n",
       "    <tr>\n",
       "      <th>count</th>\n",
       "      <td>31531.000000</td>\n",
       "      <td>11831.000000</td>\n",
       "      <td>20128.000000</td>\n",
       "      <td>23762.000000</td>\n",
       "      <td>25771.000000</td>\n",
       "      <td>27261.000000</td>\n",
       "      <td>28151.000000</td>\n",
       "      <td>28878.000000</td>\n",
       "      <td>29366.000000</td>\n",
       "      <td>29726.000000</td>\n",
       "      <td>...</td>\n",
       "      <td>31332.000000</td>\n",
       "      <td>31359.000000</td>\n",
       "      <td>31383.000000</td>\n",
       "      <td>31415.000000</td>\n",
       "      <td>31447.000000</td>\n",
       "      <td>31461.000000</td>\n",
       "      <td>31475.000000</td>\n",
       "      <td>31486.000000</td>\n",
       "      <td>31503.000000</td>\n",
       "      <td>31522.000000</td>\n",
       "    </tr>\n",
       "    <tr>\n",
       "      <th>mean</th>\n",
       "      <td>22.316934</td>\n",
       "      <td>0.123430</td>\n",
       "      <td>0.157634</td>\n",
       "      <td>0.176873</td>\n",
       "      <td>0.190535</td>\n",
       "      <td>0.199688</td>\n",
       "      <td>0.208015</td>\n",
       "      <td>0.214348</td>\n",
       "      <td>0.219341</td>\n",
       "      <td>0.223694</td>\n",
       "      <td>...</td>\n",
       "      <td>0.248873</td>\n",
       "      <td>0.249098</td>\n",
       "      <td>0.249442</td>\n",
       "      <td>0.250003</td>\n",
       "      <td>0.250453</td>\n",
       "      <td>0.250712</td>\n",
       "      <td>0.251041</td>\n",
       "      <td>0.251222</td>\n",
       "      <td>0.251441</td>\n",
       "      <td>0.251751</td>\n",
       "    </tr>\n",
       "    <tr>\n",
       "      <th>std</th>\n",
       "      <td>15.192476</td>\n",
       "      <td>0.154958</td>\n",
       "      <td>0.170885</td>\n",
       "      <td>0.177801</td>\n",
       "      <td>0.181594</td>\n",
       "      <td>0.184150</td>\n",
       "      <td>0.185729</td>\n",
       "      <td>0.186894</td>\n",
       "      <td>0.187842</td>\n",
       "      <td>0.188480</td>\n",
       "      <td>...</td>\n",
       "      <td>0.199100</td>\n",
       "      <td>0.199345</td>\n",
       "      <td>0.199513</td>\n",
       "      <td>0.199838</td>\n",
       "      <td>0.200057</td>\n",
       "      <td>0.200111</td>\n",
       "      <td>0.200283</td>\n",
       "      <td>0.200272</td>\n",
       "      <td>0.200367</td>\n",
       "      <td>0.200567</td>\n",
       "    </tr>\n",
       "    <tr>\n",
       "      <th>min</th>\n",
       "      <td>1.000000</td>\n",
       "      <td>0.000000</td>\n",
       "      <td>0.000000</td>\n",
       "      <td>0.000000</td>\n",
       "      <td>0.000000</td>\n",
       "      <td>0.000000</td>\n",
       "      <td>0.000000</td>\n",
       "      <td>0.000000</td>\n",
       "      <td>0.000000</td>\n",
       "      <td>0.000000</td>\n",
       "      <td>...</td>\n",
       "      <td>0.000000</td>\n",
       "      <td>0.000000</td>\n",
       "      <td>0.000000</td>\n",
       "      <td>0.000000</td>\n",
       "      <td>0.000000</td>\n",
       "      <td>0.000000</td>\n",
       "      <td>0.000000</td>\n",
       "      <td>0.000000</td>\n",
       "      <td>0.000000</td>\n",
       "      <td>0.000000</td>\n",
       "    </tr>\n",
       "    <tr>\n",
       "      <th>25%</th>\n",
       "      <td>12.805419</td>\n",
       "      <td>0.000000</td>\n",
       "      <td>0.000000</td>\n",
       "      <td>0.000000</td>\n",
       "      <td>0.024428</td>\n",
       "      <td>0.031831</td>\n",
       "      <td>0.041506</td>\n",
       "      <td>0.049187</td>\n",
       "      <td>0.055778</td>\n",
       "      <td>0.061137</td>\n",
       "      <td>...</td>\n",
       "      <td>0.085251</td>\n",
       "      <td>0.085328</td>\n",
       "      <td>0.085685</td>\n",
       "      <td>0.086061</td>\n",
       "      <td>0.086210</td>\n",
       "      <td>0.086499</td>\n",
       "      <td>0.086650</td>\n",
       "      <td>0.086867</td>\n",
       "      <td>0.086957</td>\n",
       "      <td>0.087166</td>\n",
       "    </tr>\n",
       "    <tr>\n",
       "      <th>50%</th>\n",
       "      <td>19.676611</td>\n",
       "      <td>0.052259</td>\n",
       "      <td>0.102398</td>\n",
       "      <td>0.132009</td>\n",
       "      <td>0.150832</td>\n",
       "      <td>0.162726</td>\n",
       "      <td>0.173711</td>\n",
       "      <td>0.182391</td>\n",
       "      <td>0.188447</td>\n",
       "      <td>0.193189</td>\n",
       "      <td>...</td>\n",
       "      <td>0.218066</td>\n",
       "      <td>0.218301</td>\n",
       "      <td>0.218540</td>\n",
       "      <td>0.219221</td>\n",
       "      <td>0.219666</td>\n",
       "      <td>0.220013</td>\n",
       "      <td>0.220092</td>\n",
       "      <td>0.220304</td>\n",
       "      <td>0.220501</td>\n",
       "      <td>0.220817</td>\n",
       "    </tr>\n",
       "    <tr>\n",
       "      <th>75%</th>\n",
       "      <td>30.154397</td>\n",
       "      <td>0.220092</td>\n",
       "      <td>0.267777</td>\n",
       "      <td>0.293559</td>\n",
       "      <td>0.311875</td>\n",
       "      <td>0.322301</td>\n",
       "      <td>0.330902</td>\n",
       "      <td>0.338067</td>\n",
       "      <td>0.343218</td>\n",
       "      <td>0.347509</td>\n",
       "      <td>...</td>\n",
       "      <td>0.374278</td>\n",
       "      <td>0.374575</td>\n",
       "      <td>0.375129</td>\n",
       "      <td>0.375717</td>\n",
       "      <td>0.376465</td>\n",
       "      <td>0.376828</td>\n",
       "      <td>0.377221</td>\n",
       "      <td>0.377454</td>\n",
       "      <td>0.377623</td>\n",
       "      <td>0.377826</td>\n",
       "    </tr>\n",
       "    <tr>\n",
       "      <th>max</th>\n",
       "      <td>68.153390</td>\n",
       "      <td>0.917319</td>\n",
       "      <td>1.000000</td>\n",
       "      <td>1.000000</td>\n",
       "      <td>1.000000</td>\n",
       "      <td>1.000000</td>\n",
       "      <td>1.000000</td>\n",
       "      <td>1.000000</td>\n",
       "      <td>1.000000</td>\n",
       "      <td>1.000000</td>\n",
       "      <td>...</td>\n",
       "      <td>1.000000</td>\n",
       "      <td>1.000000</td>\n",
       "      <td>1.000000</td>\n",
       "      <td>1.000000</td>\n",
       "      <td>1.000000</td>\n",
       "      <td>1.000000</td>\n",
       "      <td>1.000000</td>\n",
       "      <td>1.000000</td>\n",
       "      <td>1.000000</td>\n",
       "      <td>1.000000</td>\n",
       "    </tr>\n",
       "  </tbody>\n",
       "</table>\n",
       "<p>8 rows × 51 columns</p>\n",
       "</div>"
      ],
      "text/plain": [
       "               iDCG             1             3             5             7  \\\n",
       "count  31531.000000  11831.000000  20128.000000  23762.000000  25771.000000   \n",
       "mean      22.316934      0.123430      0.157634      0.176873      0.190535   \n",
       "std       15.192476      0.154958      0.170885      0.177801      0.181594   \n",
       "min        1.000000      0.000000      0.000000      0.000000      0.000000   \n",
       "25%       12.805419      0.000000      0.000000      0.000000      0.024428   \n",
       "50%       19.676611      0.052259      0.102398      0.132009      0.150832   \n",
       "75%       30.154397      0.220092      0.267777      0.293559      0.311875   \n",
       "max       68.153390      0.917319      1.000000      1.000000      1.000000   \n",
       "\n",
       "                  9            11            13            15            17  \\\n",
       "count  27261.000000  28151.000000  28878.000000  29366.000000  29726.000000   \n",
       "mean       0.199688      0.208015      0.214348      0.219341      0.223694   \n",
       "std        0.184150      0.185729      0.186894      0.187842      0.188480   \n",
       "min        0.000000      0.000000      0.000000      0.000000      0.000000   \n",
       "25%        0.031831      0.041506      0.049187      0.055778      0.061137   \n",
       "50%        0.162726      0.173711      0.182391      0.188447      0.193189   \n",
       "75%        0.322301      0.330902      0.338067      0.343218      0.347509   \n",
       "max        1.000000      1.000000      1.000000      1.000000      1.000000   \n",
       "\n",
       "           ...                 81            83            85            87  \\\n",
       "count      ...       31332.000000  31359.000000  31383.000000  31415.000000   \n",
       "mean       ...           0.248873      0.249098      0.249442      0.250003   \n",
       "std        ...           0.199100      0.199345      0.199513      0.199838   \n",
       "min        ...           0.000000      0.000000      0.000000      0.000000   \n",
       "25%        ...           0.085251      0.085328      0.085685      0.086061   \n",
       "50%        ...           0.218066      0.218301      0.218540      0.219221   \n",
       "75%        ...           0.374278      0.374575      0.375129      0.375717   \n",
       "max        ...           1.000000      1.000000      1.000000      1.000000   \n",
       "\n",
       "                 89            91            93            95            97  \\\n",
       "count  31447.000000  31461.000000  31475.000000  31486.000000  31503.000000   \n",
       "mean       0.250453      0.250712      0.251041      0.251222      0.251441   \n",
       "std        0.200057      0.200111      0.200283      0.200272      0.200367   \n",
       "min        0.000000      0.000000      0.000000      0.000000      0.000000   \n",
       "25%        0.086210      0.086499      0.086650      0.086867      0.086957   \n",
       "50%        0.219666      0.220013      0.220092      0.220304      0.220501   \n",
       "75%        0.376465      0.376828      0.377221      0.377454      0.377623   \n",
       "max        1.000000      1.000000      1.000000      1.000000      1.000000   \n",
       "\n",
       "                 99  \n",
       "count  31522.000000  \n",
       "mean       0.251751  \n",
       "std        0.200567  \n",
       "min        0.000000  \n",
       "25%        0.087166  \n",
       "50%        0.220817  \n",
       "75%        0.377826  \n",
       "max        1.000000  \n",
       "\n",
       "[8 rows x 51 columns]"
      ]
     },
     "execution_count": 128,
     "metadata": {},
     "output_type": "execute_result"
    }
   ],
   "source": [
    "desc_df"
   ]
  },
  {
   "cell_type": "markdown",
   "metadata": {},
   "source": [
    "# MSLR30K nDCG vs. Cache Distribution"
   ]
  },
  {
   "cell_type": "code",
   "execution_count": 933,
   "metadata": {},
   "outputs": [],
   "source": [
    "def get_cache_score_distrib(df: pd.DataFrame, metric_type='NDCG', local=False, k=10):    \n",
    "    def get_metric(m_type, k):\n",
    "        m = None\n",
    "        if m_type == 'NDCG':\n",
    "            m = pyltr.metrics.NDCG(k=k)\n",
    "        elif m_type == 'DCG':\n",
    "            m = pyltr.metrics.DCG(k=k)\n",
    "        return m\n",
    "    \n",
    "    metric = get_metric(metric_type, k)\n",
    "    df = df.sort_values(by='Efreq', ascending=False)\n",
    "    distrib = pd.Series()\n",
    "    for i in range(100,0,-1):\n",
    "        # CAUTION! In the first run, metric.calc_mean sets IDCG of the metric and it's used if metric is not initialized every time. \n",
    "        if local:\n",
    "            metric = get_metric(metric_type, k)\n",
    "        sz = int((i/100) * df.shape[0])        \n",
    "        ts = df[:sz].sort_values(by='Eqids')\n",
    "        distrib.loc[i] = metric.calc_mean(qids=ts['Eqids'].values, targets=ts['Ey'].values, preds=ts['Epred'].values)    \n",
    "    return distrib"
   ]
  },
  {
   "cell_type": "code",
   "execution_count": 934,
   "metadata": {},
   "outputs": [],
   "source": [
    "# pred_df = pd.read_csv('{}/{}-lambda_preds_{}.csv'.format(bp, r, stp_after), \n",
    "#                       dtype={'Eqids': str, 'Efreq': int, 'Ey': float, 'Epred': float})\n",
    "pred_df = pd.read_csv('/data/khodadaa/mslr/MSLR-WEB30K/Fold1/0.1-lambda_preds_urlpop_10.csv', \n",
    "                      dtype={'Eqids': str, 'Efreq': int, 'Ey': float, 'Epred': float})"
   ]
  },
  {
   "cell_type": "code",
   "execution_count": 935,
   "metadata": {},
   "outputs": [
    {
     "name": "stdout",
     "output_type": "stream",
     "text": [
      "CPU times: user 1h 28min 16s, sys: 5min 2s, total: 1h 33min 19s\n",
      "Wall time: 25min 10s\n"
     ]
    }
   ],
   "source": [
    "%%time\n",
    "mslr_cache_distribs = pd.DataFrame(index=list(range(1,101)))\n",
    "mslr_cache_distribs['NDCG-global'] = get_cache_score_distrib(pred_df, metric_type='NDCG')\n",
    "mslr_cache_distribs['NDCG-local'] = get_cache_score_distrib(pred_df, metric_type='NDCG', local=True)\n",
    "mslr_cache_distribs['DCG-global'] = get_cache_score_distrib(pred_df, metric_type='DCG')\n",
    "mslr_cache_distribs['DCG-local'] = get_cache_score_distrib(pred_df, metric_type='DCG', local=True)\n",
    "mslr_cache_distribs.to_csv('{}/{}-cache_scoring_distributions.csv'.format(bp, r, stp_after))"
   ]
  },
  {
   "cell_type": "code",
   "execution_count": 936,
   "metadata": {
    "scrolled": true
   },
   "outputs": [
    {
     "data": {
      "text/html": [
       "<div>\n",
       "<style scoped>\n",
       "    .dataframe tbody tr th:only-of-type {\n",
       "        vertical-align: middle;\n",
       "    }\n",
       "\n",
       "    .dataframe tbody tr th {\n",
       "        vertical-align: top;\n",
       "    }\n",
       "\n",
       "    .dataframe thead th {\n",
       "        text-align: right;\n",
       "    }\n",
       "</style>\n",
       "<table border=\"1\" class=\"dataframe\">\n",
       "  <thead>\n",
       "    <tr style=\"text-align: right;\">\n",
       "      <th></th>\n",
       "      <th>NDCG-global</th>\n",
       "      <th>NDCG-local</th>\n",
       "      <th>DCG-global</th>\n",
       "      <th>DCG-local</th>\n",
       "    </tr>\n",
       "  </thead>\n",
       "  <tbody>\n",
       "    <tr>\n",
       "      <th>1</th>\n",
       "      <td>0.046043</td>\n",
       "      <td>0.236218</td>\n",
       "      <td>1.570168</td>\n",
       "      <td>1.570168</td>\n",
       "    </tr>\n",
       "    <tr>\n",
       "      <th>2</th>\n",
       "      <td>0.064811</td>\n",
       "      <td>0.289362</td>\n",
       "      <td>2.137332</td>\n",
       "      <td>2.137332</td>\n",
       "    </tr>\n",
       "    <tr>\n",
       "      <th>3</th>\n",
       "      <td>0.077545</td>\n",
       "      <td>0.319467</td>\n",
       "      <td>2.476059</td>\n",
       "      <td>2.476059</td>\n",
       "    </tr>\n",
       "    <tr>\n",
       "      <th>4</th>\n",
       "      <td>0.088003</td>\n",
       "      <td>0.343073</td>\n",
       "      <td>2.731769</td>\n",
       "      <td>2.731769</td>\n",
       "    </tr>\n",
       "    <tr>\n",
       "      <th>5</th>\n",
       "      <td>0.095457</td>\n",
       "      <td>0.357870</td>\n",
       "      <td>2.911841</td>\n",
       "      <td>2.911841</td>\n",
       "    </tr>\n",
       "    <tr>\n",
       "      <th>6</th>\n",
       "      <td>0.102264</td>\n",
       "      <td>0.369973</td>\n",
       "      <td>3.053806</td>\n",
       "      <td>3.053806</td>\n",
       "    </tr>\n",
       "    <tr>\n",
       "      <th>7</th>\n",
       "      <td>0.107965</td>\n",
       "      <td>0.378612</td>\n",
       "      <td>3.163427</td>\n",
       "      <td>3.163427</td>\n",
       "    </tr>\n",
       "    <tr>\n",
       "      <th>8</th>\n",
       "      <td>0.113545</td>\n",
       "      <td>0.387504</td>\n",
       "      <td>3.274756</td>\n",
       "      <td>3.274756</td>\n",
       "    </tr>\n",
       "    <tr>\n",
       "      <th>9</th>\n",
       "      <td>0.119094</td>\n",
       "      <td>0.397007</td>\n",
       "      <td>3.387308</td>\n",
       "      <td>3.387308</td>\n",
       "    </tr>\n",
       "    <tr>\n",
       "      <th>10</th>\n",
       "      <td>0.122922</td>\n",
       "      <td>0.403493</td>\n",
       "      <td>3.450798</td>\n",
       "      <td>3.450798</td>\n",
       "    </tr>\n",
       "    <tr>\n",
       "      <th>11</th>\n",
       "      <td>0.126673</td>\n",
       "      <td>0.405889</td>\n",
       "      <td>3.514418</td>\n",
       "      <td>3.514418</td>\n",
       "    </tr>\n",
       "    <tr>\n",
       "      <th>12</th>\n",
       "      <td>0.131015</td>\n",
       "      <td>0.410181</td>\n",
       "      <td>3.577854</td>\n",
       "      <td>3.577854</td>\n",
       "    </tr>\n",
       "    <tr>\n",
       "      <th>13</th>\n",
       "      <td>0.134943</td>\n",
       "      <td>0.412977</td>\n",
       "      <td>3.636369</td>\n",
       "      <td>3.636369</td>\n",
       "    </tr>\n",
       "    <tr>\n",
       "      <th>14</th>\n",
       "      <td>0.139623</td>\n",
       "      <td>0.417280</td>\n",
       "      <td>3.714914</td>\n",
       "      <td>3.714914</td>\n",
       "    </tr>\n",
       "    <tr>\n",
       "      <th>15</th>\n",
       "      <td>0.144211</td>\n",
       "      <td>0.421904</td>\n",
       "      <td>3.787717</td>\n",
       "      <td>3.787717</td>\n",
       "    </tr>\n",
       "    <tr>\n",
       "      <th>16</th>\n",
       "      <td>0.148467</td>\n",
       "      <td>0.424852</td>\n",
       "      <td>3.855984</td>\n",
       "      <td>3.855984</td>\n",
       "    </tr>\n",
       "    <tr>\n",
       "      <th>17</th>\n",
       "      <td>0.152498</td>\n",
       "      <td>0.427392</td>\n",
       "      <td>3.926295</td>\n",
       "      <td>3.926295</td>\n",
       "    </tr>\n",
       "    <tr>\n",
       "      <th>18</th>\n",
       "      <td>0.155556</td>\n",
       "      <td>0.427875</td>\n",
       "      <td>3.965933</td>\n",
       "      <td>3.965933</td>\n",
       "    </tr>\n",
       "    <tr>\n",
       "      <th>19</th>\n",
       "      <td>0.158432</td>\n",
       "      <td>0.428586</td>\n",
       "      <td>4.011511</td>\n",
       "      <td>4.011511</td>\n",
       "    </tr>\n",
       "    <tr>\n",
       "      <th>20</th>\n",
       "      <td>0.161995</td>\n",
       "      <td>0.432590</td>\n",
       "      <td>4.071975</td>\n",
       "      <td>4.071975</td>\n",
       "    </tr>\n",
       "    <tr>\n",
       "      <th>21</th>\n",
       "      <td>0.164912</td>\n",
       "      <td>0.432439</td>\n",
       "      <td>4.113630</td>\n",
       "      <td>4.113630</td>\n",
       "    </tr>\n",
       "    <tr>\n",
       "      <th>22</th>\n",
       "      <td>0.166493</td>\n",
       "      <td>0.430164</td>\n",
       "      <td>4.126583</td>\n",
       "      <td>4.126583</td>\n",
       "    </tr>\n",
       "    <tr>\n",
       "      <th>23</th>\n",
       "      <td>0.167915</td>\n",
       "      <td>0.427380</td>\n",
       "      <td>4.140505</td>\n",
       "      <td>4.140505</td>\n",
       "    </tr>\n",
       "    <tr>\n",
       "      <th>24</th>\n",
       "      <td>0.169411</td>\n",
       "      <td>0.425388</td>\n",
       "      <td>4.153579</td>\n",
       "      <td>4.153579</td>\n",
       "    </tr>\n",
       "    <tr>\n",
       "      <th>25</th>\n",
       "      <td>0.171247</td>\n",
       "      <td>0.423954</td>\n",
       "      <td>4.170841</td>\n",
       "      <td>4.170841</td>\n",
       "    </tr>\n",
       "    <tr>\n",
       "      <th>26</th>\n",
       "      <td>0.173155</td>\n",
       "      <td>0.422018</td>\n",
       "      <td>4.192244</td>\n",
       "      <td>4.192244</td>\n",
       "    </tr>\n",
       "    <tr>\n",
       "      <th>27</th>\n",
       "      <td>0.174511</td>\n",
       "      <td>0.420033</td>\n",
       "      <td>4.205042</td>\n",
       "      <td>4.205042</td>\n",
       "    </tr>\n",
       "    <tr>\n",
       "      <th>28</th>\n",
       "      <td>0.176357</td>\n",
       "      <td>0.418112</td>\n",
       "      <td>4.224127</td>\n",
       "      <td>4.224127</td>\n",
       "    </tr>\n",
       "    <tr>\n",
       "      <th>29</th>\n",
       "      <td>0.178761</td>\n",
       "      <td>0.416747</td>\n",
       "      <td>4.250312</td>\n",
       "      <td>4.250312</td>\n",
       "    </tr>\n",
       "    <tr>\n",
       "      <th>30</th>\n",
       "      <td>0.180682</td>\n",
       "      <td>0.414526</td>\n",
       "      <td>4.269897</td>\n",
       "      <td>4.269897</td>\n",
       "    </tr>\n",
       "    <tr>\n",
       "      <th>...</th>\n",
       "      <td>...</td>\n",
       "      <td>...</td>\n",
       "      <td>...</td>\n",
       "      <td>...</td>\n",
       "    </tr>\n",
       "    <tr>\n",
       "      <th>71</th>\n",
       "      <td>0.243794</td>\n",
       "      <td>0.332547</td>\n",
       "      <td>4.922527</td>\n",
       "      <td>4.922527</td>\n",
       "    </tr>\n",
       "    <tr>\n",
       "      <th>72</th>\n",
       "      <td>0.246316</td>\n",
       "      <td>0.331334</td>\n",
       "      <td>4.952247</td>\n",
       "      <td>4.952247</td>\n",
       "    </tr>\n",
       "    <tr>\n",
       "      <th>73</th>\n",
       "      <td>0.247519</td>\n",
       "      <td>0.329655</td>\n",
       "      <td>4.963427</td>\n",
       "      <td>4.963427</td>\n",
       "    </tr>\n",
       "    <tr>\n",
       "      <th>74</th>\n",
       "      <td>0.248494</td>\n",
       "      <td>0.327924</td>\n",
       "      <td>4.971912</td>\n",
       "      <td>4.971912</td>\n",
       "    </tr>\n",
       "    <tr>\n",
       "      <th>75</th>\n",
       "      <td>0.249675</td>\n",
       "      <td>0.326757</td>\n",
       "      <td>4.981360</td>\n",
       "      <td>4.981360</td>\n",
       "    </tr>\n",
       "    <tr>\n",
       "      <th>76</th>\n",
       "      <td>0.250799</td>\n",
       "      <td>0.324594</td>\n",
       "      <td>4.995491</td>\n",
       "      <td>4.995491</td>\n",
       "    </tr>\n",
       "    <tr>\n",
       "      <th>77</th>\n",
       "      <td>0.252292</td>\n",
       "      <td>0.322708</td>\n",
       "      <td>5.011730</td>\n",
       "      <td>5.011730</td>\n",
       "    </tr>\n",
       "    <tr>\n",
       "      <th>78</th>\n",
       "      <td>0.253509</td>\n",
       "      <td>0.320890</td>\n",
       "      <td>5.027332</td>\n",
       "      <td>5.027332</td>\n",
       "    </tr>\n",
       "    <tr>\n",
       "      <th>79</th>\n",
       "      <td>0.254579</td>\n",
       "      <td>0.318706</td>\n",
       "      <td>5.037540</td>\n",
       "      <td>5.037540</td>\n",
       "    </tr>\n",
       "    <tr>\n",
       "      <th>80</th>\n",
       "      <td>0.255731</td>\n",
       "      <td>0.316740</td>\n",
       "      <td>5.048274</td>\n",
       "      <td>5.048274</td>\n",
       "    </tr>\n",
       "    <tr>\n",
       "      <th>81</th>\n",
       "      <td>0.257357</td>\n",
       "      <td>0.314981</td>\n",
       "      <td>5.064817</td>\n",
       "      <td>5.064817</td>\n",
       "    </tr>\n",
       "    <tr>\n",
       "      <th>82</th>\n",
       "      <td>0.259151</td>\n",
       "      <td>0.313005</td>\n",
       "      <td>5.086906</td>\n",
       "      <td>5.086906</td>\n",
       "    </tr>\n",
       "    <tr>\n",
       "      <th>83</th>\n",
       "      <td>0.260702</td>\n",
       "      <td>0.311780</td>\n",
       "      <td>5.103440</td>\n",
       "      <td>5.103440</td>\n",
       "    </tr>\n",
       "    <tr>\n",
       "      <th>84</th>\n",
       "      <td>0.261979</td>\n",
       "      <td>0.310614</td>\n",
       "      <td>5.116135</td>\n",
       "      <td>5.116135</td>\n",
       "    </tr>\n",
       "    <tr>\n",
       "      <th>85</th>\n",
       "      <td>0.262993</td>\n",
       "      <td>0.309331</td>\n",
       "      <td>5.122993</td>\n",
       "      <td>5.122993</td>\n",
       "    </tr>\n",
       "    <tr>\n",
       "      <th>86</th>\n",
       "      <td>0.263644</td>\n",
       "      <td>0.307261</td>\n",
       "      <td>5.126956</td>\n",
       "      <td>5.126956</td>\n",
       "    </tr>\n",
       "    <tr>\n",
       "      <th>87</th>\n",
       "      <td>0.264832</td>\n",
       "      <td>0.305537</td>\n",
       "      <td>5.136755</td>\n",
       "      <td>5.136755</td>\n",
       "    </tr>\n",
       "    <tr>\n",
       "      <th>88</th>\n",
       "      <td>0.265753</td>\n",
       "      <td>0.303880</td>\n",
       "      <td>5.141291</td>\n",
       "      <td>5.141291</td>\n",
       "    </tr>\n",
       "    <tr>\n",
       "      <th>89</th>\n",
       "      <td>0.266779</td>\n",
       "      <td>0.302230</td>\n",
       "      <td>5.152745</td>\n",
       "      <td>5.152745</td>\n",
       "    </tr>\n",
       "    <tr>\n",
       "      <th>90</th>\n",
       "      <td>0.267677</td>\n",
       "      <td>0.300276</td>\n",
       "      <td>5.158123</td>\n",
       "      <td>5.158123</td>\n",
       "    </tr>\n",
       "    <tr>\n",
       "      <th>91</th>\n",
       "      <td>0.268750</td>\n",
       "      <td>0.298955</td>\n",
       "      <td>5.167638</td>\n",
       "      <td>5.167638</td>\n",
       "    </tr>\n",
       "    <tr>\n",
       "      <th>92</th>\n",
       "      <td>0.269740</td>\n",
       "      <td>0.297136</td>\n",
       "      <td>5.176218</td>\n",
       "      <td>5.176218</td>\n",
       "    </tr>\n",
       "    <tr>\n",
       "      <th>93</th>\n",
       "      <td>0.270795</td>\n",
       "      <td>0.294762</td>\n",
       "      <td>5.187487</td>\n",
       "      <td>5.187487</td>\n",
       "    </tr>\n",
       "    <tr>\n",
       "      <th>94</th>\n",
       "      <td>0.272032</td>\n",
       "      <td>0.293508</td>\n",
       "      <td>5.199477</td>\n",
       "      <td>5.199477</td>\n",
       "    </tr>\n",
       "    <tr>\n",
       "      <th>95</th>\n",
       "      <td>0.272837</td>\n",
       "      <td>0.291041</td>\n",
       "      <td>5.203201</td>\n",
       "      <td>5.203201</td>\n",
       "    </tr>\n",
       "    <tr>\n",
       "      <th>96</th>\n",
       "      <td>0.274256</td>\n",
       "      <td>0.288568</td>\n",
       "      <td>5.218640</td>\n",
       "      <td>5.218640</td>\n",
       "    </tr>\n",
       "    <tr>\n",
       "      <th>97</th>\n",
       "      <td>0.276064</td>\n",
       "      <td>0.286774</td>\n",
       "      <td>5.237663</td>\n",
       "      <td>5.237663</td>\n",
       "    </tr>\n",
       "    <tr>\n",
       "      <th>98</th>\n",
       "      <td>0.277512</td>\n",
       "      <td>0.284523</td>\n",
       "      <td>5.245792</td>\n",
       "      <td>5.245792</td>\n",
       "    </tr>\n",
       "    <tr>\n",
       "      <th>99</th>\n",
       "      <td>0.278949</td>\n",
       "      <td>0.282569</td>\n",
       "      <td>5.262980</td>\n",
       "      <td>5.262980</td>\n",
       "    </tr>\n",
       "    <tr>\n",
       "      <th>100</th>\n",
       "      <td>0.280323</td>\n",
       "      <td>0.280323</td>\n",
       "      <td>5.281773</td>\n",
       "      <td>5.281773</td>\n",
       "    </tr>\n",
       "  </tbody>\n",
       "</table>\n",
       "<p>100 rows × 4 columns</p>\n",
       "</div>"
      ],
      "text/plain": [
       "     NDCG-global  NDCG-local  DCG-global  DCG-local\n",
       "1       0.046043    0.236218    1.570168   1.570168\n",
       "2       0.064811    0.289362    2.137332   2.137332\n",
       "3       0.077545    0.319467    2.476059   2.476059\n",
       "4       0.088003    0.343073    2.731769   2.731769\n",
       "5       0.095457    0.357870    2.911841   2.911841\n",
       "6       0.102264    0.369973    3.053806   3.053806\n",
       "7       0.107965    0.378612    3.163427   3.163427\n",
       "8       0.113545    0.387504    3.274756   3.274756\n",
       "9       0.119094    0.397007    3.387308   3.387308\n",
       "10      0.122922    0.403493    3.450798   3.450798\n",
       "11      0.126673    0.405889    3.514418   3.514418\n",
       "12      0.131015    0.410181    3.577854   3.577854\n",
       "13      0.134943    0.412977    3.636369   3.636369\n",
       "14      0.139623    0.417280    3.714914   3.714914\n",
       "15      0.144211    0.421904    3.787717   3.787717\n",
       "16      0.148467    0.424852    3.855984   3.855984\n",
       "17      0.152498    0.427392    3.926295   3.926295\n",
       "18      0.155556    0.427875    3.965933   3.965933\n",
       "19      0.158432    0.428586    4.011511   4.011511\n",
       "20      0.161995    0.432590    4.071975   4.071975\n",
       "21      0.164912    0.432439    4.113630   4.113630\n",
       "22      0.166493    0.430164    4.126583   4.126583\n",
       "23      0.167915    0.427380    4.140505   4.140505\n",
       "24      0.169411    0.425388    4.153579   4.153579\n",
       "25      0.171247    0.423954    4.170841   4.170841\n",
       "26      0.173155    0.422018    4.192244   4.192244\n",
       "27      0.174511    0.420033    4.205042   4.205042\n",
       "28      0.176357    0.418112    4.224127   4.224127\n",
       "29      0.178761    0.416747    4.250312   4.250312\n",
       "30      0.180682    0.414526    4.269897   4.269897\n",
       "..           ...         ...         ...        ...\n",
       "71      0.243794    0.332547    4.922527   4.922527\n",
       "72      0.246316    0.331334    4.952247   4.952247\n",
       "73      0.247519    0.329655    4.963427   4.963427\n",
       "74      0.248494    0.327924    4.971912   4.971912\n",
       "75      0.249675    0.326757    4.981360   4.981360\n",
       "76      0.250799    0.324594    4.995491   4.995491\n",
       "77      0.252292    0.322708    5.011730   5.011730\n",
       "78      0.253509    0.320890    5.027332   5.027332\n",
       "79      0.254579    0.318706    5.037540   5.037540\n",
       "80      0.255731    0.316740    5.048274   5.048274\n",
       "81      0.257357    0.314981    5.064817   5.064817\n",
       "82      0.259151    0.313005    5.086906   5.086906\n",
       "83      0.260702    0.311780    5.103440   5.103440\n",
       "84      0.261979    0.310614    5.116135   5.116135\n",
       "85      0.262993    0.309331    5.122993   5.122993\n",
       "86      0.263644    0.307261    5.126956   5.126956\n",
       "87      0.264832    0.305537    5.136755   5.136755\n",
       "88      0.265753    0.303880    5.141291   5.141291\n",
       "89      0.266779    0.302230    5.152745   5.152745\n",
       "90      0.267677    0.300276    5.158123   5.158123\n",
       "91      0.268750    0.298955    5.167638   5.167638\n",
       "92      0.269740    0.297136    5.176218   5.176218\n",
       "93      0.270795    0.294762    5.187487   5.187487\n",
       "94      0.272032    0.293508    5.199477   5.199477\n",
       "95      0.272837    0.291041    5.203201   5.203201\n",
       "96      0.274256    0.288568    5.218640   5.218640\n",
       "97      0.276064    0.286774    5.237663   5.237663\n",
       "98      0.277512    0.284523    5.245792   5.245792\n",
       "99      0.278949    0.282569    5.262980   5.262980\n",
       "100     0.280323    0.280323    5.281773   5.281773\n",
       "\n",
       "[100 rows x 4 columns]"
      ]
     },
     "execution_count": 936,
     "metadata": {},
     "output_type": "execute_result"
    }
   ],
   "source": [
    "mslr_cache_distribs2 = mslr_cache_distribs.copy(deep=True)\n",
    "\n",
    "mslr_cache_distribs2"
   ]
  },
  {
   "cell_type": "code",
   "execution_count": 938,
   "metadata": {
    "scrolled": false
   },
   "outputs": [
    {
     "data": {
      "text/plain": [
       "<matplotlib.axes._subplots.AxesSubplot at 0x7f2ee2bd0668>"
      ]
     },
     "execution_count": 938,
     "metadata": {},
     "output_type": "execute_result"
    },
    {
     "data": {
      "image/png": "[encoded data removed]",
      "text/plain": [
       "<Figure size 576x288 with 1 Axes>"
      ]
     },
     "metadata": {},
     "output_type": "display_data"
    }
   ],
   "source": [
    "mslr_cache_distribs2['NDCG-global'].plot(title='MSLR30k (test size = {}) - nDCG for L2R'.format(1-2*r),\n",
    "    figsize=(8,4), grid=True, xticks=range(0,101,5), yticks=(0.1,0.15,0.2,0.25,0.3,0.35,0.4, 0.45, 0.5))"
   ]
  },
  {
   "cell_type": "code",
   "execution_count": 915,
   "metadata": {
    "scrolled": true
   },
   "outputs": [
    {
     "data": {
      "text/plain": [
       "<matplotlib.axes._subplots.AxesSubplot at 0x7f315b7d25f8>"
      ]
     },
     "execution_count": 915,
     "metadata": {},
     "output_type": "execute_result"
    },
    {
     "data": {
      "image/png": "[encoded data removed]",
      "text/plain": [
       "<Figure size 576x288 with 1 Axes>"
      ]
     },
     "metadata": {},
     "output_type": "display_data"
    }
   ],
   "source": [
    "mslr_cache_distribs2['NDCG-local'].plot(figsize=(8,4), grid=True, xticks=range(0,101,5), yticks=(0.35,0.4,0.45,0.5,0.55,0.6))"
   ]
  },
  {
   "cell_type": "markdown",
   "metadata": {},
   "source": [
    "# Duplicated Answers"
   ]
  },
  {
   "cell_type": "code",
   "execution_count": 1050,
   "metadata": {},
   "outputs": [],
   "source": [
    "mslr = pd.read_csv('/data/khodadaa/mslr/MSLR-WEB30K/mslr-web30k.csv', index_col=0)\n",
    "# mslr = pd.read_csv('/data/khodadaa/mslr/MSLR-WEB30K/Fold1/0.1-test_url_idpop.csv')"
   ]
  },
  {
   "cell_type": "code",
   "execution_count": 1066,
   "metadata": {},
   "outputs": [
    {
     "name": "stdout",
     "output_type": "stream",
     "text": [
      "all answers: 3015730\n",
      "unique qureies: 25225\n",
      "unique answers: 2623034\n",
      "distinct duplicated: 230680\n",
      "distinct duplicated and relevant: 172269\n"
     ]
    }
   ],
   "source": [
    "print('all answers:', mslr.shape[0])\n",
    "print('unique qureies:',len(mslr.qid.unique()))\n",
    "print('unique answers:',mslr.shape[0] - mslr[mslr.duplicated(subset=dup_set)].shape[0])\n",
    "dup_df = mslr[mslr.duplicated(keep=False, subset=dup_set)]\n",
    "print('distinct duplicated:',dup_df[~dup_df.duplicated(subset=dup_set)].shape[0])\n",
    "dup_rel_df = dup_df[dup_df['rel']>0]\n",
    "print('distinct duplicated and relevant:', dup_rel_df[~dup_rel_df.duplicated(subset=dup_set)].shape[0])"
   ]
  },
  {
   "cell_type": "code",
   "execution_count": 1067,
   "metadata": {},
   "outputs": [],
   "source": [
    "dup_set = list(range(126, 134)) + [135]\n",
    "dup_set = list(map(lambda x: '{}'.format(x), dup_set))\n",
    "dup_df = mslr[mslr.duplicated(keep=False, subset=dup_set)]\n",
    "dup_df = dup_df.copy()\n",
    "dup_df['rel'] = np.where(dup_df['rel']>1, 1, 0)"
   ]
  },
  {
   "cell_type": "code",
   "execution_count": 1068,
   "metadata": {},
   "outputs": [
    {
     "name": "stdout",
     "output_type": "stream",
     "text": [
      "CPU times: user 3min 12s, sys: 7.89 s, total: 3min 20s\n",
      "Wall time: 2min 53s\n"
     ]
    }
   ],
   "source": [
    "%%time\n",
    "dup_gp = dup_df.groupby(by=dup_set)\n",
    "dist = []\n",
    "for name, group in dup_gp:\n",
    "    dist += [(group.iloc[0]['135'], group.shape[0], group['rel'].mean())]    "
   ]
  },
  {
   "cell_type": "code",
   "execution_count": 1070,
   "metadata": {},
   "outputs": [],
   "source": [
    "dist.sort(reverse=True)\n",
    "dist_df = pd.DataFrame(data=dist, columns=['pagecount', 'doccount', 'mean-rel'])"
   ]
  },
  {
   "cell_type": "code",
   "execution_count": 1071,
   "metadata": {},
   "outputs": [
    {
     "data": {
      "text/html": [
       "<div>\n",
       "<style scoped>\n",
       "    .dataframe tbody tr th:only-of-type {\n",
       "        vertical-align: middle;\n",
       "    }\n",
       "\n",
       "    .dataframe tbody tr th {\n",
       "        vertical-align: top;\n",
       "    }\n",
       "\n",
       "    .dataframe thead th {\n",
       "        text-align: right;\n",
       "    }\n",
       "</style>\n",
       "<table border=\"1\" class=\"dataframe\">\n",
       "  <thead>\n",
       "    <tr style=\"text-align: right;\">\n",
       "      <th></th>\n",
       "      <th>pagecount</th>\n",
       "      <th>doccount</th>\n",
       "      <th>mean-rel</th>\n",
       "    </tr>\n",
       "  </thead>\n",
       "  <tbody>\n",
       "    <tr>\n",
       "      <th>pagecount</th>\n",
       "      <td>1.000000</td>\n",
       "      <td>0.997496</td>\n",
       "      <td>0.003236</td>\n",
       "    </tr>\n",
       "    <tr>\n",
       "      <th>doccount</th>\n",
       "      <td>0.997496</td>\n",
       "      <td>1.000000</td>\n",
       "      <td>0.002126</td>\n",
       "    </tr>\n",
       "    <tr>\n",
       "      <th>mean-rel</th>\n",
       "      <td>0.003236</td>\n",
       "      <td>0.002126</td>\n",
       "      <td>1.000000</td>\n",
       "    </tr>\n",
       "  </tbody>\n",
       "</table>\n",
       "</div>"
      ],
      "text/plain": [
       "           pagecount  doccount  mean-rel\n",
       "pagecount   1.000000  0.997496  0.003236\n",
       "doccount    0.997496  1.000000  0.002126\n",
       "mean-rel    0.003236  0.002126  1.000000"
      ]
     },
     "execution_count": 1071,
     "metadata": {},
     "output_type": "execute_result"
    }
   ],
   "source": [
    "dist_df.corr()"
   ]
  },
  {
   "cell_type": "code",
   "execution_count": 1072,
   "metadata": {},
   "outputs": [
    {
     "data": {
      "text/plain": [
       "<matplotlib.axes._subplots.AxesSubplot at 0x7f40cfe27588>"
      ]
     },
     "execution_count": 1072,
     "metadata": {},
     "output_type": "execute_result"
    },
    {
     "data": {
      "image/png": "[encoded data removed]",
      "text/plain": [
       "<Figure size 432x288 with 1 Axes>"
      ]
     },
     "metadata": {},
     "output_type": "display_data"
    }
   ],
   "source": [
    "dist_df.plot(x='pagecount', y='mean-rel')"
   ]
  },
  {
   "cell_type": "code",
   "execution_count": 1073,
   "metadata": {},
   "outputs": [],
   "source": [
    "dist_df['relcount'] = dist_df['doccount']*dist_df['mean-rel']"
   ]
  },
  {
   "cell_type": "code",
   "execution_count": 1074,
   "metadata": {},
   "outputs": [
    {
     "data": {
      "text/plain": [
       "<matplotlib.axes._subplots.AxesSubplot at 0x7f40dda8d518>"
      ]
     },
     "execution_count": 1074,
     "metadata": {},
     "output_type": "execute_result"
    },
    {
     "data": {
      "image/png": "[encoded data removed]",
      "text/plain": [
       "<Figure size 432x288 with 1 Axes>"
      ]
     },
     "metadata": {},
     "output_type": "display_data"
    }
   ],
   "source": [
    "dist_df.groupby('pagecount')['relcount'].sum()[10:10000].plot()"
   ]
  },
  {
   "cell_type": "code",
   "execution_count": 1075,
   "metadata": {},
   "outputs": [
    {
     "data": {
      "text/plain": [
       "<matplotlib.axes._subplots.AxesSubplot at 0x7f40a91c40f0>"
      ]
     },
     "execution_count": 1075,
     "metadata": {},
     "output_type": "execute_result"
    },
    {
     "data": {
      "image/png": "[encoded data removed]",
      "text/plain": [
       "<Figure size 432x288 with 1 Axes>"
      ]
     },
     "metadata": {},
     "output_type": "display_data"
    }
   ],
   "source": [
    "dist_df.plot(x='pagecount', y='relcount')"
   ]
  },
  {
   "cell_type": "code",
   "execution_count": 1076,
   "metadata": {},
   "outputs": [
    {
     "name": "stdout",
     "output_type": "stream",
     "text": [
      "CPU times: user 22.5 s, sys: 1.87 s, total: 24.3 s\n",
      "Wall time: 4.73 s\n"
     ]
    }
   ],
   "source": [
    "%%time\n",
    "mslr_gp2 = mslr[mslr['rel'] > 0].groupby(by=dup_set)\n",
    "url_count_ser = mslr_gp2.qid.count()"
   ]
  },
  {
   "cell_type": "code",
   "execution_count": 1077,
   "metadata": {},
   "outputs": [
    {
     "data": {
      "text/plain": [
       "1313672"
      ]
     },
     "execution_count": 1077,
     "metadata": {},
     "output_type": "execute_result"
    }
   ],
   "source": [
    "url_count_ser.shape[0]"
   ]
  },
  {
   "cell_type": "code",
   "execution_count": 1078,
   "metadata": {},
   "outputs": [
    {
     "data": {
      "text/plain": [
       "55"
      ]
     },
     "execution_count": 1078,
     "metadata": {},
     "output_type": "execute_result"
    },
    {
     "data": {
      "image/png": "[encoded data removed]",
      "text/plain": [
       "<Figure size 432x288 with 1 Axes>"
      ]
     },
     "metadata": {},
     "output_type": "display_data"
    }
   ],
   "source": [
    "url_count_ser = url_count_ser.sort_values(ascending=False)\n",
    "url_count_ser.plot()\n",
    "url_count_ser.iloc[0]"
   ]
  },
  {
   "cell_type": "code",
   "execution_count": 1079,
   "metadata": {},
   "outputs": [
    {
     "data": {
      "text/plain": [
       "(3015730, 139)"
      ]
     },
     "execution_count": 1079,
     "metadata": {},
     "output_type": "execute_result"
    }
   ],
   "source": [
    "mslr.shape"
   ]
  },
  {
   "cell_type": "code",
   "execution_count": 1080,
   "metadata": {},
   "outputs": [
    {
     "data": {
      "text/plain": [
       "392696"
      ]
     },
     "execution_count": 1080,
     "metadata": {},
     "output_type": "execute_result"
    }
   ],
   "source": [
    "sum(mslr.duplicated(subset=dup_set))"
   ]
  },
  {
   "cell_type": "markdown",
   "metadata": {},
   "source": [
    "# Evaluation @k"
   ]
  },
  {
   "cell_type": "code",
   "execution_count": 1,
   "metadata": {},
   "outputs": [],
   "source": [
    "import os\n",
    "import pandas as pd\n",
    "import numpy as np\n",
    "from functools import partial\n",
    "\n",
    "K = 10\n",
    "r = 0.1\n",
    "bp = '/data/khodadaa/mslr/MSLR-WEB30K/Fold1'\n",
    "test_url_filename = bp + '/{}-test-UrlDistribution.csv'.format(r) # This file holds 'id','count','paired-qids','relevant-qids'\n",
    "lambdamart_predictions = bp + '/{}-lambda_preds_10.csv'.format(r) # This file holds columns: 'Eqids','Epred'\n",
    "test_filename = bp + '/{}-test.csv'.format(r) # This file holds columns: '110', 'rel'"
   ]
  },
  {
   "cell_type": "markdown",
   "metadata": {},
   "source": [
    "## Function Definition"
   ]
  },
  {
   "cell_type": "code",
   "execution_count": 2,
   "metadata": {},
   "outputs": [],
   "source": [
    "def dcg(rels:list, k):\n",
    "        from math import log2\n",
    "        dcg = 0.0\n",
    "        for i in range(min(k, len(rels))):\n",
    "            dcg += (2**rels[i] - 1) / log2((i+1) + 1)\n",
    "        return dcg\n",
    "\n",
    "\n",
    "def iDCG_at(df:pd.DataFrame, k, rel_col_name = 'rel'):    \n",
    "    iDCG = {}\n",
    "    for n, g in df.groupby('qid'):\n",
    "        iDCG[n] = dcg(list(g[rel_col_name].sort_values(ascending=False)), k)\n",
    "    return pd.Series(data=iDCG)\n",
    "    \n",
    "\n",
    "def nDCG_at(df:pd.DataFrame, k, iDCG:pd.Series, predictor_col_name, rel_col_name = 'rel'):\n",
    "    nDCG = {}\n",
    "    for n, g in df.groupby('qid'):\n",
    "        if iDCG.loc[n] == 0:\n",
    "            nDCG[n] = 0.0\n",
    "            continue\n",
    "        g = g[[predictor_col_name, rel_col_name]]\n",
    "        rels = list(g.sort_values(by=predictor_col_name, ascending=False)[rel_col_name])        \n",
    "        nDCG[n] = dcg(rels, k) / iDCG[n]\n",
    "    return pd.Series(data=nDCG)\n",
    "        \n",
    "\n",
    "def precision_at(df:pd.DataFrame, k, predictor_col_name, y_col_name = 'y'):\n",
    "    prec = {}\n",
    "    for n, g in df.groupby('qid'):    \n",
    "        g = g[[predictor_col_name, y_col_name]]\n",
    "        p = g.sort_values(by=predictor_col_name, ascending=False)[:k][y_col_name].sum()\n",
    "        prec[n] = p/k\n",
    "    return pd.Series(data=prec)\n",
    "\n",
    "\n",
    "def recall_at(df:pd.DataFrame, k, predictor_col_name, y_col_name = 'y'):\n",
    "    recall = {}\n",
    "    for n, g in df.groupby('qid'):\n",
    "        g = g[[predictor_col_name, y_col_name]]\n",
    "        pred_atK = g.sort_values(by=predictor_col_name, ascending=False)[:k][y_col_name].sum()\n",
    "        true_atK = g[y_col_name].sort_values(ascending=False)[:k].sum()\n",
    "        recall[n] = pred_atK/true_atK\n",
    "    return pd.Series(data=recall)        \n",
    "        \n",
    "\n",
    "def cache_distribution(df:pd.DataFrame, evaluate_func, \n",
    "                       freq_col_name='relevant-qids', cache_size_range=range(2,101, 2)):\n",
    "    df = df.sort_values(by=freq_col_name, ascending=False)\n",
    "    distrib = pd.DataFrame()\n",
    "    for i in cache_size_range:                \n",
    "        sz = int((i/100) * df.shape[0])        \n",
    "        res_seri = evaluate_func(df[:sz])\n",
    "        res_seri.name = i\n",
    "        distrib = pd.concat([distrib, res_seri], axis=1)\n",
    "    return distrib\n",
    "\n",
    "precision_at_K_BM25 = partial(precision_at, k=K, predictor_col_name='110')\n",
    "precision_at_K_L2R = partial(precision_at, k=K, predictor_col_name='Epred')\n",
    "recall_at_K_BM25 = partial(recall_at, k=K, predictor_col_name='110')\n",
    "recall_at_K_L2R = partial(recall_at, k=K, predictor_col_name='Epred')\n",
    "nDCG_at_K_BM25 = partial(nDCG_at, k=K, predictor_col_name='110')\n",
    "nDCG_at_K_L2R = partial(nDCG_at, k=K, predictor_col_name='Epred')"
   ]
  },
  {
   "cell_type": "markdown",
   "metadata": {},
   "source": [
    "## Import and Prepare Dataset"
   ]
  },
  {
   "cell_type": "code",
   "execution_count": 3,
   "metadata": {},
   "outputs": [
    {
     "name": "stderr",
     "output_type": "stream",
     "text": [
      "/nfs/stak/users/khodadaa/miniconda3/envs/db/lib/python3.6/site-packages/numpy/lib/arraysetops.py:472: FutureWarning: elementwise comparison failed; returning scalar instead, but in the future will perform elementwise comparison\n",
      "  mask |= (ar1 == a)\n"
     ]
    },
    {
     "name": "stdout",
     "output_type": "stream",
     "text": [
      "CPU times: user 41.8 s, sys: 5.56 s, total: 47.3 s\n",
      "Wall time: 19.4 s\n"
     ]
    }
   ],
   "source": [
    "%%time\n",
    "df = pd.read_csv(test_url_filename, index_col=0)\n",
    "tmp_df = pd.read_csv(lambdamart_predictions, usecols=['Eqids','Epred'])\n",
    "df = pd.concat([df, tmp_df], axis=1)\n",
    "tmp_df = pd.read_csv(test_filename, usecols=['110', 'rel'])\n",
    "df = pd.concat([df, tmp_df], axis=1)\n",
    "df = df[['id', 'Eqids', 'rel', '110', 'Epred', 'count', 'paired-qids', 'relevant-qids']]\n",
    "df.rename(columns={'id': 'uid', 'Eqids': 'qid'}, inplace=True)"
   ]
  },
  {
   "cell_type": "code",
   "execution_count": 4,
   "metadata": {
    "scrolled": true
   },
   "outputs": [],
   "source": [
    "df['y'] = np.where(df['rel']>0, 1, 0)"
   ]
  },
  {
   "cell_type": "markdown",
   "metadata": {},
   "source": [
    "### Dataset Overview"
   ]
  },
  {
   "cell_type": "code",
   "execution_count": 5,
   "metadata": {
    "scrolled": true
   },
   "outputs": [
    {
     "data": {
      "text/html": [
       "<div>\n",
       "<style scoped>\n",
       "    .dataframe tbody tr th:only-of-type {\n",
       "        vertical-align: middle;\n",
       "    }\n",
       "\n",
       "    .dataframe tbody tr th {\n",
       "        vertical-align: top;\n",
       "    }\n",
       "\n",
       "    .dataframe thead th {\n",
       "        text-align: right;\n",
       "    }\n",
       "</style>\n",
       "<table border=\"1\" class=\"dataframe\">\n",
       "  <thead>\n",
       "    <tr style=\"text-align: right;\">\n",
       "      <th></th>\n",
       "      <th>uid</th>\n",
       "      <th>qid</th>\n",
       "      <th>rel</th>\n",
       "      <th>110</th>\n",
       "      <th>Epred</th>\n",
       "      <th>count</th>\n",
       "      <th>paired-qids</th>\n",
       "      <th>relevant-qids</th>\n",
       "      <th>y</th>\n",
       "    </tr>\n",
       "  </thead>\n",
       "  <tbody>\n",
       "    <tr>\n",
       "      <th>0</th>\n",
       "      <td>2180111</td>\n",
       "      <td>1</td>\n",
       "      <td>2</td>\n",
       "      <td>16.766961</td>\n",
       "      <td>-0.616301</td>\n",
       "      <td>2.0</td>\n",
       "      <td>2.0</td>\n",
       "      <td>1.0</td>\n",
       "      <td>1</td>\n",
       "    </tr>\n",
       "    <tr>\n",
       "      <th>1</th>\n",
       "      <td>1351130</td>\n",
       "      <td>1</td>\n",
       "      <td>2</td>\n",
       "      <td>21.161666</td>\n",
       "      <td>0.284777</td>\n",
       "      <td>1.0</td>\n",
       "      <td>1.0</td>\n",
       "      <td>1.0</td>\n",
       "      <td>1</td>\n",
       "    </tr>\n",
       "    <tr>\n",
       "      <th>2</th>\n",
       "      <td>1936056</td>\n",
       "      <td>1</td>\n",
       "      <td>0</td>\n",
       "      <td>18.279205</td>\n",
       "      <td>-1.060331</td>\n",
       "      <td>1.0</td>\n",
       "      <td>1.0</td>\n",
       "      <td>0.0</td>\n",
       "      <td>0</td>\n",
       "    </tr>\n",
       "    <tr>\n",
       "      <th>3</th>\n",
       "      <td>2129776</td>\n",
       "      <td>1</td>\n",
       "      <td>2</td>\n",
       "      <td>17.531630</td>\n",
       "      <td>0.197796</td>\n",
       "      <td>1.0</td>\n",
       "      <td>1.0</td>\n",
       "      <td>1.0</td>\n",
       "      <td>1</td>\n",
       "    </tr>\n",
       "  </tbody>\n",
       "</table>\n",
       "</div>"
      ],
      "text/plain": [
       "       uid  qid  rel        110     Epred  count  paired-qids  relevant-qids  \\\n",
       "0  2180111    1    2  16.766961 -0.616301    2.0          2.0            1.0   \n",
       "1  1351130    1    2  21.161666  0.284777    1.0          1.0            1.0   \n",
       "2  1936056    1    0  18.279205 -1.060331    1.0          1.0            0.0   \n",
       "3  2129776    1    2  17.531630  0.197796    1.0          1.0            1.0   \n",
       "\n",
       "   y  \n",
       "0  1  \n",
       "1  1  \n",
       "2  0  \n",
       "3  1  "
      ]
     },
     "execution_count": 5,
     "metadata": {},
     "output_type": "execute_result"
    }
   ],
   "source": [
    "df[:4]"
   ]
  },
  {
   "cell_type": "code",
   "execution_count": 21,
   "metadata": {
    "scrolled": true
   },
   "outputs": [
    {
     "name": "stdout",
     "output_type": "stream",
     "text": [
      "Number of all tuples 3015730\n",
      "Number of distinct qids 25225\n",
      "Number of distinct uids 2623034\n",
      "Average number of uid for each qid 119.39183349851338\n",
      "Average number of relevant uid for each qid 58.00788899900892\n",
      "Number of qids with less than 2 relevant uids 1183\n"
     ]
    },
    {
     "data": {
      "text/plain": [
       "<matplotlib.axes._subplots.AxesSubplot at 0x7fb853ab32e8>"
      ]
     },
     "execution_count": 21,
     "metadata": {},
     "output_type": "execute_result"
    },
    {
     "data": {
      "image/png": "[encoded data removed]",
      "text/plain": [
       "<Figure size 576x288 with 1 Axes>"
      ]
     },
     "metadata": {},
     "output_type": "display_data"
    }
   ],
   "source": [
    "print('Number of all tuples', df.shape[0])\n",
    "print('Number of distinct qids', df.qid.unique().shape[0])\n",
    "print('Number of distinct uids', df.uid.unique().shape[0])\n",
    "print('Average number of uid for each qid', df.groupby('qid')['uid'].nunique().mean())\n",
    "print('Average number of relevant uid for each qid', df.groupby('qid')['y'].sum().mean())\n",
    "qid_unq_uid_distrib = df.groupby('qid')['uid'].nunique()\n",
    "qid_rel_uid_distrib = df.groupby('qid')['y'].sum()\n",
    "print('Number of qids with less than 2 relevant uids', qid_rel_uid_distrib[qid_rel_uid_distrib<2].shape[0])\n",
    "qid_unq_uid_distrib[qid_unq_uid_distrib <500].hist(bins=100, figsize=(8,4))\n",
    "qid_rel_uid_distrib[qid_rel_uid_distrib<500].hist(bins=100, figsize=(8,4))"
   ]
  },
  {
   "cell_type": "markdown",
   "metadata": {},
   "source": [
    "## Precision"
   ]
  },
  {
   "cell_type": "markdown",
   "metadata": {},
   "source": [
    "### BM25 - Precision"
   ]
  },
  {
   "cell_type": "code",
   "execution_count": 7,
   "metadata": {},
   "outputs": [
    {
     "name": "stdout",
     "output_type": "stream",
     "text": [
      "K 10\n",
      "Reading /data/khodadaa/mslr/MSLR-WEB30K/Fold1/0.1-test-p10-BM25-verbose.csv ...\n",
      "CPU times: user 131 ms, sys: 4.04 ms, total: 135 ms\n",
      "Wall time: 133 ms\n"
     ]
    }
   ],
   "source": [
    "%%time\n",
    "print('K', K)\n",
    "filename = bp + '/{}-test-p{}-BM25-verbose.csv'.format(r, K)\n",
    "if os.path.exists(filename):\n",
    "    print('Reading {} ...'.format(filename))\n",
    "    dist_BM25_precision = pd.read_csv(filename, index_col=0)\n",
    "    dist_BM25_precision.columns = dist_BM25_precision.columns.astype(int)\n",
    "else:\n",
    "    print('Generating {} ...'.format(filename))\n",
    "    dist_BM25_precision = cache_distribution(df, evaluate_func=precision_at_K_BM25)\n",
    "    dist_BM25_precision.to_csv(filename)"
   ]
  },
  {
   "cell_type": "code",
   "execution_count": 8,
   "metadata": {
    "scrolled": true
   },
   "outputs": [
    {
     "data": {
      "text/plain": [
       "<matplotlib.axes._subplots.AxesSubplot at 0x7fb853d87320>"
      ]
     },
     "execution_count": 8,
     "metadata": {},
     "output_type": "execute_result"
    },
    {
     "data": {
      "image/png": "[encoded data removed]",
      "text/plain": [
       "<Figure size 720x288 with 1 Axes>"
      ]
     },
     "metadata": {},
     "output_type": "display_data"
    }
   ],
   "source": [
    "dist_BM25_precision.fillna(0).mean().plot(title='{}-test BM25 p@{}'.format(r, K),\n",
    "    figsize=(10,4), grid=True, xticks=range(0,101,5), yticks=[i/100 for i in range(0,100,5)])"
   ]
  },
  {
   "cell_type": "markdown",
   "metadata": {},
   "source": [
    "### L2R - Precision"
   ]
  },
  {
   "cell_type": "code",
   "execution_count": 9,
   "metadata": {},
   "outputs": [
    {
     "name": "stdout",
     "output_type": "stream",
     "text": [
      "K 10\n",
      "Reading /data/khodadaa/mslr/MSLR-WEB30K/Fold1/0.1-test-p10-L2R-verbose.csv ...\n",
      "CPU times: user 138 ms, sys: 5.98 ms, total: 144 ms\n",
      "Wall time: 143 ms\n"
     ]
    }
   ],
   "source": [
    "%%time\n",
    "print('K', K)\n",
    "filename = bp + '/{}-test-p{}-L2R-verbose.csv'.format(r, K)\n",
    "if os.path.exists(filename):\n",
    "    print('Reading {} ...'.format(filename))\n",
    "    dist_L2R_precision = pd.read_csv(filename, index_col=0)\n",
    "    dist_L2R_precision.columns = dist_L2R_precision.columns.astype(int)\n",
    "else:\n",
    "    print('Generating {} ...'.format(filename))\n",
    "    dist_L2R_precision = cache_distribution(df, evaluate_func=precision_at_K_L2R)\n",
    "    dist_L2R_precision.to_csv(filename)"
   ]
  },
  {
   "cell_type": "code",
   "execution_count": 10,
   "metadata": {
    "scrolled": true
   },
   "outputs": [
    {
     "data": {
      "text/plain": [
       "<matplotlib.axes._subplots.AxesSubplot at 0x7fb853cd5da0>"
      ]
     },
     "execution_count": 10,
     "metadata": {},
     "output_type": "execute_result"
    },
    {
     "data": {
      "image/png": "[encoded data removed]",
      "text/plain": [
       "<Figure size 720x288 with 1 Axes>"
      ]
     },
     "metadata": {},
     "output_type": "display_data"
    }
   ],
   "source": [
    "dist_L2R_precision.fillna(0).mean().plot(title='{}-test L2R p@{}'.format(r, K),\n",
    "    figsize=(10,4), grid=True, xticks=range(0,101,5), yticks=[i/100 for i in range(0,100,5)])"
   ]
  },
  {
   "cell_type": "markdown",
   "metadata": {},
   "source": [
    "## Recall"
   ]
  },
  {
   "cell_type": "markdown",
   "metadata": {},
   "source": [
    "### BM25 - Recall"
   ]
  },
  {
   "cell_type": "code",
   "execution_count": 11,
   "metadata": {},
   "outputs": [
    {
     "name": "stdout",
     "output_type": "stream",
     "text": [
      "K 10\n",
      "Reading /data/khodadaa/mslr/MSLR-WEB30K/Fold1/0.1-test-r10-BM25-verbose.csv ...\n",
      "CPU times: user 140 ms, sys: 1.13 ms, total: 141 ms\n",
      "Wall time: 140 ms\n"
     ]
    }
   ],
   "source": [
    "%%time\n",
    "print('K', K)\n",
    "filename = bp + '/{}-test-r{}-BM25-verbose.csv'.format(r, K)\n",
    "if os.path.exists(filename):\n",
    "    print('Reading {} ...'.format(filename))\n",
    "    dist_BM25_recall = pd.read_csv(filename, index_col=0)\n",
    "    dist_BM25_recall.columns = dist_BM25_recall.columns.astype(int)\n",
    "else:\n",
    "    print('Generating {} ...'.format(filename))\n",
    "    dist_BM25_recall = cache_distribution(df, evaluate_func=recall_at_K_BM25)\n",
    "    dist_BM25_recall.to_csv(filename)"
   ]
  },
  {
   "cell_type": "code",
   "execution_count": 12,
   "metadata": {
    "scrolled": true
   },
   "outputs": [
    {
     "data": {
      "text/plain": [
       "<matplotlib.axes._subplots.AxesSubplot at 0x7fb853bfb588>"
      ]
     },
     "execution_count": 12,
     "metadata": {},
     "output_type": "execute_result"
    },
    {
     "data": {
      "image/png": "[encoded data removed]",
      "text/plain": [
       "<Figure size 720x288 with 1 Axes>"
      ]
     },
     "metadata": {},
     "output_type": "display_data"
    }
   ],
   "source": [
    "dist_BM25_recall.fillna(0).mean().plot(title='{}-test BM25 r@{}'.format(r, K),\n",
    "    figsize=(10,4), grid=True, xticks=range(0,101,5), yticks=[i/100 for i in range(20,100,5)])"
   ]
  },
  {
   "cell_type": "markdown",
   "metadata": {},
   "source": [
    "### L2R - Recall"
   ]
  },
  {
   "cell_type": "code",
   "execution_count": 13,
   "metadata": {},
   "outputs": [
    {
     "name": "stdout",
     "output_type": "stream",
     "text": [
      "K 10\n",
      "Reading /data/khodadaa/mslr/MSLR-WEB30K/Fold1/0.1-test-r10-L2R-verbose.csv ...\n",
      "CPU times: user 143 ms, sys: 2.9 ms, total: 146 ms\n",
      "Wall time: 145 ms\n"
     ]
    }
   ],
   "source": [
    "%%time\n",
    "print('K', K)\n",
    "filename = bp + '/{}-test-r{}-L2R-verbose.csv'.format(r, K)\n",
    "if os.path.exists(filename):\n",
    "    print('Reading {} ...'.format(filename))\n",
    "    dist_L2R_recall = pd.read_csv(filename, index_col=0)\n",
    "    dist_L2R_recall.columns = dist_L2R_recall.columns.astype(int)\n",
    "else:\n",
    "    print('Generating {} ...'.format(filename))\n",
    "    dist_L2R_recall = cache_distribution(df, evaluate_func=recall_at_K_L2R)\n",
    "    dist_L2R_recall.to_csv(filename)"
   ]
  },
  {
   "cell_type": "code",
   "execution_count": 14,
   "metadata": {
    "scrolled": true
   },
   "outputs": [
    {
     "data": {
      "text/plain": [
       "<matplotlib.axes._subplots.AxesSubplot at 0x7fb857946160>"
      ]
     },
     "execution_count": 14,
     "metadata": {},
     "output_type": "execute_result"
    },
    {
     "data": {
      "image/png": "[encoded data removed]",
      "text/plain": [
       "<Figure size 720x288 with 1 Axes>"
      ]
     },
     "metadata": {},
     "output_type": "display_data"
    }
   ],
   "source": [
    "dist_L2R_recall.fillna(0).mean().plot(title='{}-test L2R r@{}'.format(r, K),\n",
    "    figsize=(10,4), grid=True, xticks=range(0,101,5), yticks=[i/100 for i in range(20,100,5)])"
   ]
  },
  {
   "cell_type": "markdown",
   "metadata": {},
   "source": [
    "## nDCG"
   ]
  },
  {
   "cell_type": "code",
   "execution_count": 15,
   "metadata": {},
   "outputs": [
    {
     "name": "stdout",
     "output_type": "stream",
     "text": [
      "K 10\n",
      "CPU times: user 14.3 s, sys: 440 ms, total: 14.7 s\n",
      "Wall time: 14.7 s\n"
     ]
    }
   ],
   "source": [
    "%%time\n",
    "# Setting global iDCG\n",
    "print('K', K)\n",
    "global_iDCG_at_K_Ser = iDCG_at(df, K)\n",
    "nDCG_at_K_Glob_iDCG_BM25 = partial(nDCG_at_K_BM25, iDCG=global_iDCG_at_K_Ser)\n",
    "nDCG_at_K_Glob_iDCG_L2R  = partial(nDCG_at_K_L2R,  iDCG=global_iDCG_at_K_Ser)"
   ]
  },
  {
   "cell_type": "markdown",
   "metadata": {},
   "source": [
    "### BM25 - nDCG"
   ]
  },
  {
   "cell_type": "code",
   "execution_count": 16,
   "metadata": {},
   "outputs": [
    {
     "name": "stdout",
     "output_type": "stream",
     "text": [
      "K 10\n",
      "Reading /data/khodadaa/mslr/MSLR-WEB30K/Fold1/0.1-test-nDCG10-BM25-verbose.csv ...\n",
      "CPU times: user 341 ms, sys: 36.3 ms, total: 378 ms\n",
      "Wall time: 385 ms\n"
     ]
    }
   ],
   "source": [
    "%%time\n",
    "print('K', K)\n",
    "filename = bp + '/{}-test-nDCG{}-BM25-verbose.csv'.format(r, K)\n",
    "if os.path.exists(filename):\n",
    "    print('Reading {} ...'.format(filename))\n",
    "    dist_BM25_ndcg = pd.read_csv(filename, index_col=0)\n",
    "    dist_BM25_ndcg.columns = dist_BM25_ndcg.columns.astype(int)\n",
    "else:\n",
    "    print('Generating {} ...'.format(filename))\n",
    "    dist_BM25_ndcg = cache_distribution(df, evaluate_func=nDCG_at_K_Glob_iDCG_BM25)\n",
    "    dist_BM25_ndcg.to_csv(filename)"
   ]
  },
  {
   "cell_type": "code",
   "execution_count": 17,
   "metadata": {
    "scrolled": true
   },
   "outputs": [
    {
     "data": {
      "text/plain": [
       "<matplotlib.axes._subplots.AxesSubplot at 0x7fb853ad3860>"
      ]
     },
     "execution_count": 17,
     "metadata": {},
     "output_type": "execute_result"
    },
    {
     "data": {
      "image/png": "[encoded data removed]",
      "text/plain": [
       "<Figure size 720x288 with 1 Axes>"
      ]
     },
     "metadata": {},
     "output_type": "display_data"
    }
   ],
   "source": [
    "dist_BM25_ndcg.fillna(0).mean().plot(title='{}-test BM25 nDCG@{}'.format(r, K),\n",
    "    figsize=(10,4), grid=True, xticks=range(0,101,5), yticks=[i/100 for i in range(0,60,5)])"
   ]
  },
  {
   "cell_type": "markdown",
   "metadata": {},
   "source": [
    "### L2R - nDCG"
   ]
  },
  {
   "cell_type": "code",
   "execution_count": 18,
   "metadata": {},
   "outputs": [
    {
     "name": "stdout",
     "output_type": "stream",
     "text": [
      "K 10\n",
      "Reading /data/khodadaa/mslr/MSLR-WEB30K/Fold1/0.1-test-nDCG10-L2R-verbose.csv ...\n",
      "CPU times: user 460 ms, sys: 14.8 ms, total: 475 ms\n",
      "Wall time: 473 ms\n"
     ]
    }
   ],
   "source": [
    "%%time\n",
    "print('K', K)\n",
    "filename = bp + '/{}-test-nDCG{}-L2R-verbose.csv'.format(r, K)\n",
    "if os.path.exists(filename):\n",
    "    print('Reading {} ...'.format(filename))\n",
    "    dist_L2R_ndcg = pd.read_csv(filename, index_col=0)\n",
    "    dist_L2R_ndcg.columns = dist_L2R_ndcg.columns.astype(int)\n",
    "else:\n",
    "    print('Generating {} ...'.format(filename))\n",
    "    dist_L2R_ndcg = cache_distribution(df, evaluate_func=nDCG_at_K_Glob_iDCG_L2R)\n",
    "    dist_L2R_ndcg.to_csv(filename)"
   ]
  },
  {
   "cell_type": "code",
   "execution_count": 19,
   "metadata": {},
   "outputs": [
    {
     "data": {
      "text/plain": [
       "<matplotlib.axes._subplots.AxesSubplot at 0x7fb85392e160>"
      ]
     },
     "execution_count": 19,
     "metadata": {},
     "output_type": "execute_result"
    },
    {
     "data": {
      "image/png": "[encoded data removed]",
      "text/plain": [
       "<Figure size 720x288 with 1 Axes>"
      ]
     },
     "metadata": {},
     "output_type": "display_data"
    }
   ],
   "source": [
    "dist_L2R_ndcg.fillna(0).mean().plot(title='{}-test L2R nDCG@{}'.format(r, K),\n",
    "    figsize=(10,4), grid=True, xticks=range(0,101,5), yticks=[i/100 for i in range(0,60,5)])"
   ]
  },
  {
   "cell_type": "markdown",
   "metadata": {},
   "source": [
    "## Save combined results"
   ]
  },
  {
   "cell_type": "code",
   "execution_count": 20,
   "metadata": {},
   "outputs": [
    {
     "name": "stdout",
     "output_type": "stream",
     "text": [
      "K 10\n"
     ]
    }
   ],
   "source": [
    "print('K', K)\n",
    "result_df = pd.concat([dist_L2R_precision.fillna(0).mean(),\n",
    "           dist_L2R_recall.fillna(0).mean(),\n",
    "           dist_L2R_ndcg.fillna(0).mean(),\n",
    "           dist_BM25_precision.fillna(0).mean(),\n",
    "           dist_BM25_recall.fillna(0).mean(),\n",
    "           dist_BM25_ndcg.fillna(0).mean()],\n",
    "          axis=1).rename(columns={0:'L2R-p@{}'.format(K), 1:'L2R-r@{}'.format(K), 2:'L2R-nDCG@{}'.format(K),\n",
    "                                  3:'BM25-p@{}'.format(K), 4:'BM25-r@{}'.format(K), 5:'BM25-nDCG@{}'.format(K)})\n",
    "\n",
    "result_df.to_csv(bp + '/{}-results_caching.csv'.format(r), index=False)"
   ]
  }
 ],
 "metadata": {
  "kernelspec": {
   "display_name": "Python 3",
   "language": "python",
   "name": "python3"
  },
  "language_info": {
   "codemirror_mode": {
    "name": "ipython",
    "version": 3
   },
   "file_extension": ".py",
   "mimetype": "text/x-python",
   "name": "python",
   "nbconvert_exporter": "python",
   "pygments_lexer": "ipython3",
   "version": "3.6.5"
  }
 },
 "nbformat": 4,
 "nbformat_minor": 2
}
