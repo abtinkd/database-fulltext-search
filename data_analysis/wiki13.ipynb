{
 "cells": [
  {
   "cell_type": "code",
   "execution_count": 1,
   "metadata": {},
   "outputs": [],
   "source": [
    "import pandas as pd\n",
    "import numpy as np\n",
    "import matplotlib.pyplot as plt"
   ]
  },
  {
   "cell_type": "code",
   "execution_count": 2,
   "metadata": {},
   "outputs": [],
   "source": [
    "rrank = lambda df,k: df[np.isclose(df['rrank'], 1/k)]\n",
    "equal = lambda df,k: df[np.isclose(df['rrank'], 1/k)]\n",
    "gequal = lambda df,k: df[np.isclose(df['rrank'], 1/k) | (df['rrank'].ge(1/k))]"
   ]
  },
  {
   "cell_type": "code",
   "execution_count": 3,
   "metadata": {},
   "outputs": [],
   "source": [
    "all = pd.read_csv('/data/khodadaa/lucene-index/rranks.csv', header=None)\n",
    "sub = pd.read_csv('/data/khodadaa/lucene-index/rr/05092047_sub2_rranks.csv', header=None)\n",
    "all.rename(columns={0:'query', 1: 'prec@10', 2: 'prec@20', 3: 'rrank', 4: 'avg(prec)', 5: 'recall@200', 6: 'recall@1000', 7:'ndcg10'}, inplace=True)\n",
    "sub.rename(columns={0:'query', 1: 'prec@10', 2: 'prec@20', 3: 'rrank', 4: 'avg(prec)', 5: 'recall@200', 6: 'recall@1000', 7:'ndcg10'}, inplace=True)"
   ]
  },
  {
   "cell_type": "code",
   "execution_count": 4,
   "metadata": {},
   "outputs": [],
   "source": [
    "a1 = equal(all, 1)\n",
    "s1 = equal(sub, 1)\n",
    "a2 = gequal(all, 2)\n",
    "s2 = gequal(sub, 2)"
   ]
  },
  {
   "cell_type": "code",
   "execution_count": 8,
   "metadata": {
    "scrolled": false
   },
   "outputs": [
    {
     "data": {
      "text/html": [
       "<div>\n",
       "<style scoped>\n",
       "    .dataframe tbody tr th:only-of-type {\n",
       "        vertical-align: middle;\n",
       "    }\n",
       "\n",
       "    .dataframe tbody tr th {\n",
       "        vertical-align: top;\n",
       "    }\n",
       "\n",
       "    .dataframe thead th {\n",
       "        text-align: right;\n",
       "    }\n",
       "</style>\n",
       "<table border=\"1\" class=\"dataframe\">\n",
       "  <thead>\n",
       "    <tr style=\"text-align: right;\">\n",
       "      <th></th>\n",
       "      <th>query</th>\n",
       "      <th>assignment</th>\n",
       "      <th>rrank</th>\n",
       "    </tr>\n",
       "  </thead>\n",
       "  <tbody>\n",
       "    <tr>\n",
       "      <th>1616</th>\n",
       "      <td>2PAC SHAKUR</td>\n",
       "      <td>sub</td>\n",
       "      <td>-1.0</td>\n",
       "    </tr>\n",
       "    <tr>\n",
       "      <th>3258</th>\n",
       "      <td>William Thackeray</td>\n",
       "      <td>sub</td>\n",
       "      <td>-1.0</td>\n",
       "    </tr>\n",
       "  </tbody>\n",
       "</table>\n",
       "</div>"
      ],
      "text/plain": [
       "                  query assignment  rrank\n",
       "1616        2PAC SHAKUR        sub   -1.0\n",
       "3258  William Thackeray        sub   -1.0"
      ]
     },
     "execution_count": 8,
     "metadata": {},
     "output_type": "execute_result"
    }
   ],
   "source": [
    "query_assignment = pd.read_csv('/data/khodadaa/lucene-index/query-assignments/05092047_query_assignment.csv', header=None)\n",
    "query_assignment.rename(columns={0: 'query', 1:'assignment'}, inplace=True)\n",
    "query_assignment['assignment'] = query_assignment['assignment'].map(lambda x: x.strip())\n",
    "query_assignment['query'] = query_assignment['query'].map(lambda x: x.strip())\n",
    "query_assignment['rrank'] = -1.0\n",
    "for index, row in query_assignment.iterrows():    \n",
    "    if row['assignment'] == 'all':        \n",
    "        rrv = all.loc[all['query']==row['query'], 'rrank']\n",
    "    elif row['assignment'] == 'sub':        \n",
    "        rrv = sub.loc[sub['query']==row['query'], 'rrank']\n",
    "    if rrv.size == 0:\n",
    "        continue\n",
    "    query_assignment.loc[index, 'rrank'] = rrv.values[0]"
   ]
  },
  {
   "cell_type": "code",
   "execution_count": 22,
   "metadata": {},
   "outputs": [],
   "source": [
    "tran1_sub = sub[sub['query'].isin(a1['query'])]\n",
    "tran2_sub = sub[sub['query'].isin(a2['query'])]\n",
    "#query_assignment[query_assignment['rrank'] < 0.0]\n",
    "tran1_alg = query_assignment[query_assignment['query'].isin(a1['query'])]\n",
    "tran2_alg = query_assignment[query_assignment['query'].isin(a2['query'])]"
   ]
  },
  {
   "cell_type": "code",
   "execution_count": 26,
   "metadata": {},
   "outputs": [
    {
     "name": "stdout",
     "output_type": "stream",
     "text": [
      "(1.0, 0.7933011466505733)\n",
      "0.8401577503429355 0.8500301750150875\n",
      "0.9008573388203017 0.8618990142828405\n"
     ]
    }
   ],
   "source": [
    "print((a1['rrank'].mean(), a2['rrank'].mean()))\n",
    "print(tran1_sub['rrank'].mean(), tran2_sub['rrank'].mean())\n",
    "print(tran1_alg['rrank'].mean(), tran2_alg['rrank'].mean())"
   ]
  },
  {
   "cell_type": "markdown",
   "metadata": {},
   "source": [
    "# Tricks"
   ]
  },
  {
   "cell_type": "code",
   "execution_count": null,
   "metadata": {},
   "outputs": [],
   "source": [
    "ts = pd.Series(np.random.randn(1000), index=pd.date_range('1/1/2000', periods=1000))\n",
    "ts = ts.cumsum()\n",
    "ts.plot()\n",
    "plt.figure()"
   ]
  },
  {
   "cell_type": "code",
   "execution_count": null,
   "metadata": {},
   "outputs": [],
   "source": [
    "%%bash\n",
    "find /data/khodadaa/analysis/ -name \"*.csv\""
   ]
  },
  {
   "cell_type": "code",
   "execution_count": null,
   "metadata": {},
   "outputs": [],
   "source": [
    "%%latex\n",
    "\\begin{equation}\n",
    "maximize \\quad KLD(C,D) + \\lambda \\Sigma pop(d, C)\\\\\n",
    "s.t. \\quad \\forall d \\in C pop(d,C) \\geq \\theta_p\n",
    "\\end{equation}"
   ]
  }
 ],
 "metadata": {
  "kernelspec": {
   "display_name": "Python 3",
   "language": "python",
   "name": "python3"
  },
  "language_info": {
   "codemirror_mode": {
    "name": "ipython",
    "version": 3
   },
   "file_extension": ".py",
   "mimetype": "text/x-python",
   "name": "python",
   "nbconvert_exporter": "python",
   "pygments_lexer": "ipython3",
   "version": "3.6.5"
  }
 },
 "nbformat": 4,
 "nbformat_minor": 2
}
