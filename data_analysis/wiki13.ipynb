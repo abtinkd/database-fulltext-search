{
 "cells": [
  {
   "cell_type": "code",
   "execution_count": 1,
   "metadata": {},
   "outputs": [],
   "source": [
    "import pandas as pd\n",
    "import numpy as np\n",
    "import matplotlib.pyplot as plt"
   ]
  },
  {
   "cell_type": "code",
   "execution_count": 2,
   "metadata": {},
   "outputs": [],
   "source": [
    "rrank = lambda df,k: df[np.isclose(df['rrank'], 1/k)]\n",
    "equal = lambda df,k: df[np.isclose(df['rrank'], 1/k)]\n",
    "gequal = lambda df,k: df[np.isclose(df['rrank'], 1/k) | (df['rrank'].ge(1/k))]"
   ]
  },
  {
   "cell_type": "code",
   "execution_count": 3,
   "metadata": {},
   "outputs": [],
   "source": [
    "all = pd.read_csv('/data/khodadaa/lucene-index/rranks.csv', header=None)\n",
    "sub = pd.read_csv('/data/khodadaa/lucene-index/rr/05092047_sub2_rranks.csv', header=None)\n",
    "all.rename(columns={0:'query', 1: 'prec@10', 2: 'prec@20', 3: 'rrank', 4: 'avg(prec)', 5: 'recall@200', 6: 'recall@1000', 7:'ndcg10'}, inplace=True)\n",
    "sub.rename(columns={0:'query', 1: 'prec@10', 2: 'prec@20', 3: 'rrank', 4: 'avg(prec)', 5: 'recall@200', 6: 'recall@1000', 7:'ndcg10'}, inplace=True)"
   ]
  },
  {
   "cell_type": "code",
   "execution_count": 4,
   "metadata": {},
   "outputs": [],
   "source": [
    "a1 = equal(all, 1)\n",
    "s1 = equal(sub, 1)\n",
    "a2 = gequal(all, 2)\n",
    "s2 = gequal(sub, 2)\n",
    "a3 = gequal(all, 3)\n",
    "s3 = gequal(sub, 3)"
   ]
  },
  {
   "cell_type": "code",
   "execution_count": 5,
   "metadata": {
    "scrolled": false
   },
   "outputs": [],
   "source": [
    "query_assignment = pd.read_csv('/data/khodadaa/lucene-index/query-assignments/05092047_query_assignment.csv', header=None)\n",
    "query_assignment.rename(columns={0: 'query', 1:'assignment'}, inplace=True)\n",
    "query_assignment['assignment'] = query_assignment['assignment'].map(lambda x: x.strip())\n",
    "query_assignment['query'] = query_assignment['query'].map(lambda x: x.strip())\n",
    "query_assignment['rrank'] = -1.0\n",
    "for index, row in query_assignment.iterrows():    \n",
    "    if row['assignment'] == 'all':        \n",
    "        rrv = all.loc[all['query']==row['query'], 'rrank']\n",
    "    elif row['assignment'] == 'sub':        \n",
    "        rrv = sub.loc[sub['query']==row['query'], 'rrank']\n",
    "    if rrv.size == 0:\n",
    "        continue\n",
    "    query_assignment.loc[index, 'rrank'] = rrv.values[0]"
   ]
  },
  {
   "cell_type": "code",
   "execution_count": 6,
   "metadata": {},
   "outputs": [],
   "source": [
    "tran1_sub = sub[sub['query'].isin(a1['query'])]\n",
    "tran2_sub = sub[sub['query'].isin(a2['query'])]\n",
    "tran3_sub = sub[sub['query'].isin(a3['query'])]\n",
    "#query_assignment[query_assignment['rrank'] < 0.0]\n",
    "tran1_alg = query_assignment[query_assignment['query'].isin(a1['query'])]\n",
    "tran2_alg = query_assignment[query_assignment['query'].isin(a2['query'])]\n",
    "tran3_alg = query_assignment[query_assignment['query'].isin(a3['query'])]"
   ]
  },
  {
   "cell_type": "code",
   "execution_count": 12,
   "metadata": {},
   "outputs": [
    {
     "name": "stdout",
     "output_type": "stream",
     "text": [
      "972 1657 2134\n",
      "4147 4677 4924\n",
      "1.0 0.7933011466505733 0.6904873477038426\n",
      "0.8401577503429355 0.8500301750150875 0.8577527170785445\n",
      "0.9008573388203017 0.8618990142828405 0.8469748351666421\n"
     ]
    }
   ],
   "source": [
    "print(a1.shape[0], a2.shape[0], a3.shape[0])\n",
    "print(s1.shape[0], s2.shape[0], s3.shape[0])\n",
    "print(a1['rrank'].mean(), a2['rrank'].mean(), a3['rrank'].mean())\n",
    "print(tran1_sub['rrank'].mean(), tran2_sub['rrank'].mean(), tran3_sub['rrank'].mean())\n",
    "print(tran1_alg['rrank'].mean(), tran2_alg['rrank'].mean(), tran3_alg['rrank'].mean())"
   ]
  },
  {
   "cell_type": "code",
   "execution_count": 20,
   "metadata": {},
   "outputs": [
    {
     "name": "stdout",
     "output_type": "stream",
     "text": [
      "Statistics=13.831, p=0.00000\n",
      "Different distributions (reject H0)\n",
      "Statistics=10.582, p=0.00000\n",
      "Different distributions (reject H0)\n",
      "Statistics=-5.347, p=0.00000\n",
      "Different distributions (reject H0)\n",
      "Statistics=-7.023, p=0.00000\n",
      "Different distributions (reject H0)\n"
     ]
    }
   ],
   "source": [
    "from scipy.stats import ttest_rel\n",
    "def t_test(data1, data2, alpha=0.05):\n",
    "    # compare samples\n",
    "    stat, p = ttest_rel(data1, data2)\n",
    "    print('Statistics=%.3f, p=%.5f' % (stat, p))\n",
    "    # interpret    \n",
    "    if p > alpha:\n",
    "        print('Same distributions (fail to reject H0)')\n",
    "    else:\n",
    "        print('Different distributions (reject H0)')\n",
    "t_test(a1['rrank'], tran1_sub['rrank'])\n",
    "t_test(a1['rrank'], tran1_alg['rrank'])\n",
    "t_test(a2['rrank'], tran2_sub['rrank'])\n",
    "t_test(a2['rrank'], tran2_alg['rrank'])\n"
   ]
  },
  {
   "cell_type": "markdown",
   "metadata": {},
   "source": [
    "# Tricks"
   ]
  },
  {
   "cell_type": "code",
   "execution_count": null,
   "metadata": {},
   "outputs": [],
   "source": [
    "ts = pd.Series(np.random.randn(1000), index=pd.date_range('1/1/2000', periods=1000))\n",
    "ts = ts.cumsum()\n",
    "ts.plot()\n",
    "plt.figure()"
   ]
  },
  {
   "cell_type": "code",
   "execution_count": null,
   "metadata": {},
   "outputs": [],
   "source": [
    "%%bash\n",
    "find /data/khodadaa/analysis/ -name \"*.csv\""
   ]
  },
  {
   "cell_type": "code",
   "execution_count": null,
   "metadata": {},
   "outputs": [],
   "source": [
    "%%latex\n",
    "\\begin{equation}\n",
    "maximize \\quad KLD(C,D) + \\lambda \\Sigma pop(d, C)\\\\\n",
    "s.t. \\quad \\forall d \\in C pop(d,C) \\geq \\theta_p\n",
    "\\end{equation}"
   ]
  }
 ],
 "metadata": {
  "kernelspec": {
   "display_name": "Python 3",
   "language": "python",
   "name": "python3"
  },
  "language_info": {
   "codemirror_mode": {
    "name": "ipython",
    "version": 3
   },
   "file_extension": ".py",
   "mimetype": "text/x-python",
   "name": "python",
   "nbconvert_exporter": "python",
   "pygments_lexer": "ipython3",
   "version": "3.6.5"
  }
 },
 "nbformat": 4,
 "nbformat_minor": 2
}
