{
 "cells": [
  {
   "cell_type": "code",
   "execution_count": 1,
   "metadata": {
    "scrolled": true
   },
   "outputs": [],
   "source": [
    "import pandas as pd\n",
    "import numpy as np\n",
    "\n",
    "# For stackoverflow uncomment following lines\n",
    "csz = '18'\n",
    "rranks_file = '/data/khodadaa/analysis/stack.csv'\n",
    "features_file = \"/data/khodadaa/ml-exp/stack_feat/{}.csv\".format(csz)\n",
    "features_complement_file = \"/data/khodadaa/ml-exp/stack_feat/c{}.csv\".format(csz)\n",
    "ml_file = \"/data/khodadaa/ml-exp/stack_feat/ml_in_{}.csv\".format(csz)\n",
    "\n",
    "\n",
    "# For wikipedia uncomment following lines\n",
    "# def generate_rr_freq_file(filename):\n",
    "#     msn6 = pd.read_csv('/data/khodadaa/ml-exp/wiki/msn_6.csv', usecols=['query', 'freq', 'label'])\n",
    "#     msn6.rename(columns={'query': 'Query', 'freq': 'TestViewCount', 'label': 'Y'}, inplace=True)\n",
    "#     msn6['Y'] = np.where(msn6['Y'] == 0, 'sub', 'all')\n",
    "\n",
    "#     msn_rr = pd.read_csv('/data/khodadaa/ml-exp/wiki/msn_ml_6.csv', usecols=['query', 'p2%', 'p100%'])\n",
    "#     msn_rr.rename(columns={'query': 'Query', 'p2%': csz, 'p100%': '100'}, inplace=True)\n",
    "\n",
    "#     mg_rr = pd.merge(msn6, msn_rr, on='Query', how='inner')\n",
    "#     mg_rr.to_csv(filename, index=False, columns=['Query', 'TestViewCount', csz, '100'])\n",
    "# csz = '2'\n",
    "# rranks_file = '/data/khodadaa/ml-exp/wiki/msn_rranks_frequency.csv'\n",
    "# features_file = \"/data/khodadaa/ml-exp/wiki/msn_{}.csv\".format(csz)\n",
    "# features_complement_file = \"/data/khodadaa/ml-exp/wiki/msn_c{}.csv\".format(csz)\n",
    "# ml_file = \"/data/khodadaa/ml-exp/wiki/ml_in_{}.csv\".format(csz)\n",
    "# generate_rr_freq_file(rranks_file)\n",
    "\n",
    "\n",
    "# For inex uncomment following lines\n",
    "# csz = '24'\n",
    "# rranks_file = '/data/khodadaa/ml-exp/inex/inex_scores_{}.csv'.format(csz)\n",
    "# features_file = \"/data/khodadaa/ml-exp/inex/inex_{}.csv\".format(csz)\n",
    "# features_complement_file = \"/data/khodadaa/ml-exp/inex/inex_c{}.csv\".format(csz)\n",
    "# ml_file = \"/data/khodadaa/ml-exp/inex/inex_ml_in_{}.csv\".format(csz)"
   ]
  },
  {
   "cell_type": "code",
   "execution_count": 2,
   "metadata": {},
   "outputs": [
    {
     "name": "stdout",
     "output_type": "stream",
     "text": [
      "['Query', 'TestViewCount', 'rr_sb', 'rr_al', 'covered_t_sub', 'mean_df_t_sub', 'min_df_t_sub', 'mean_mean_pop_t_sub', 'mean_min_pop_t_sub', 'min_mean_pop_t_sub', 'min_min_pop_t_sub', 'ql_t_sub', 'qll_t_sub', 'covered_t_bi_sub', 'mean_df_t_bi_sub', 'min_df_t_bi_sub', 'mean_mean_pop_t_bi_sub', 'mean_min_pop_t_bi_sub', 'min_mean_pop_t_bi_sub', 'min_min_pop_t_bi_sub', 'ql_t_bi_sub', 'qll_t_bi_sub', 'scs_t_sub', 'maxSCQ_t_sub', 'covered_t_cmp', 'mean_df_t_cmp', 'min_df_t_cmp', 'mean_mean_pop_t_cmp', 'mean_min_pop_t_cmp', 'min_mean_pop_t_cmp', 'min_min_pop_t_cmp', 'ql_t_cmp', 'qll_t_cmp', 'covered_t_bi_cmp', 'mean_df_t_bi_cmp', 'min_df_t_bi_cmp', 'mean_mean_pop_t_bi_cmp', 'mean_min_pop_t_bi_cmp', 'min_mean_pop_t_bi_cmp', 'min_min_pop_t_bi_cmp', 'ql_t_bi_cmp', 'qll_t_bi_cmp', 'scs_t_cmp', 'maxSCQ_t_cmp', 'Y']\n",
      "CPU times: user 2min 8s, sys: 12.4 s, total: 2min 20s\n",
      "Wall time: 1min 33s\n"
     ]
    }
   ],
   "source": [
    "%%time\n",
    "feat_df = pd.read_csv(features_file)\n",
    "feat_complement_df = pd.read_csv(features_complement_file)\n",
    "\n",
    "# drop last column which is blank\n",
    "feat_df.drop(columns=feat_df.columns[-1:], inplace=True)\n",
    "feat_complement_df.drop(columns=feat_complement_df.columns[-1:], inplace=True)\n",
    "\n",
    "rr_df = pd.read_csv(rranks_file).filter(items=['Query', 'TestViewCount', csz, '100'])\n",
    "# rr_df.rename(columns={csz: 'sub_rr', '100': 'all_rr', 'ql_t': 'sub_ql', 'ql_t.1': 'all_ql'}, inplace=True)\n",
    "\n",
    "conc_df = pd.merge(feat_df, feat_complement_df, suffixes=('_sub', '_cmp'), validate='1:1', left_index=True, right_index=True)\n",
    "conc_df = pd.merge(rr_df, conc_df, suffixes=('_rrdf', ''), validate='1:1', left_index=True, right_index=True)\n",
    "\n",
    "# def get_cache_label_indices(df):\n",
    "#     cache_size = int(df.shape[0]*(int(csz)/100))\n",
    "#     break_index = df.sort_values(by='TestViewCount', ascending=False).index[cache_size]\n",
    "#     return df['TestViewCount'] >= df.loc[break_index, 'TestViewCount']\n",
    "\n",
    "# c_lbl = get_cache_label_indices(conc_df)\n",
    "# conc_df['Y'] = np.where(c_lbl, 'sub', 'all')\n",
    "conc_df['Y'] = np.where(conc_df[csz] >= conc_df['100'], 'sub', 'all')\n",
    "\n",
    "conc_df.drop(columns=['query_sub', 'query_cmp'], inplace=True)\n",
    "conc_df.rename(columns={csz: 'rr_sb', '100': 'rr_al'}, inplace=True)\n",
    "conc_df.to_csv(ml_file, index=False)\n",
    "print(list(conc_df.columns))"
   ]
  },
  {
   "cell_type": "code",
   "execution_count": 3,
   "metadata": {},
   "outputs": [
    {
     "data": {
      "text/plain": [
       "(1092107, 45)"
      ]
     },
     "execution_count": 3,
     "metadata": {},
     "output_type": "execute_result"
    }
   ],
   "source": [
    "conc_df.shape"
   ]
  }
 ],
 "metadata": {
  "kernelspec": {
   "display_name": "Python 3",
   "language": "python",
   "name": "python3"
  },
  "language_info": {
   "codemirror_mode": {
    "name": "ipython",
    "version": 3
   },
   "file_extension": ".py",
   "mimetype": "text/x-python",
   "name": "python",
   "nbconvert_exporter": "python",
   "pygments_lexer": "ipython3",
   "version": "3.6.5"
  }
 },
 "nbformat": 4,
 "nbformat_minor": 2
}
