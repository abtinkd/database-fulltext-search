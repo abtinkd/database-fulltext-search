{
 "cells": [
  {
   "cell_type": "code",
   "execution_count": 2,
   "metadata": {},
   "outputs": [],
   "source": [
    "import pandas as pd\n",
    "import dask.dataframe as dd\n",
    "import os\n",
    "import re\n",
    "\n",
    "root = '/data/khodadaa/wiki09-pagecount-logs/dumps/'\n",
    "pagecount_save_path = '/data/khodadaa/wiki09-pagecount-logs/wiki09_pagecounts_dumps.csv'"
   ]
  },
  {
   "cell_type": "code",
   "execution_count": null,
   "metadata": {},
   "outputs": [],
   "source": [
    "%%time\n",
    "\n",
    "# Merge files containing only images with chunking the data\n",
    "df_pagecounts = pd.DataFrame(columns=['lang', 'article'])\n",
    "files = os.listdir(root)\n",
    "files.sort()\n",
    "print('Files: ', files)\n",
    "i = 0;\n",
    "exceptions = []\n",
    "for f in files:\n",
    "    if f.startswith('pagecounts-'):\n",
    "        i += 1\n",
    "        print(i, f)\n",
    "        try:\n",
    "            iter_csv = pd.read_csv(root+f,\n",
    "                             usecols=[0,1,2],\n",
    "                             dtype= {0:str, 1:str, 2:int},\n",
    "                             header=None,\n",
    "                             sep='\\s+',\n",
    "                             encoding='latin1',\n",
    "                             iterator=True,\n",
    "                             chunksize=10000)\n",
    "            df = pd.concat([chunk[chunk[0].str.lower().str.startswith('en') &\n",
    "                                  chunk[1].str.lower().str.endswith(('.svg','.jpg','.jpeg','.png','.gif'))]\n",
    "                            for chunk in iter_csv])\n",
    "            df.rename(columns={0: 'lang', 1:'article', 2:f}, inplace=True)\n",
    "            df_pagecounts = df_pagecounts.merge(df, on=['lang', 'article'], how='outer')\n",
    "        except Exception as e:\n",
    "            print(e)\n",
    "            exceptions += [f]\n",
    "        if i%240 == 0:\n",
    "            df_pagecounts.to_csv(pagecount_save_path[:-4]+f[10:]+'.csv', index=False)\n",
    "            df_pagecounts = pd.DataFrame(columns=['lang', 'article'])\n",
    "df_pagecounts.to_csv(pagecount_save_path, index=False)\n",
    "print(exceptions)\n",
    "\n",
    "\n",
    "# Merge files containing all wiki pages without chunking the data\n",
    "# df_pagecounts = pd.DataFrame(columns=['lang', 'article'])\n",
    "# files = os.listdir(root)\n",
    "# files.sort()\n",
    "# print('Files: ', files)\n",
    "# i = 0;\n",
    "# exceptions = []\n",
    "# for f in files:\n",
    "#     if f.startswith('pagecounts-'):        \n",
    "#         i += 1\n",
    "#         print(i, f)\n",
    "#         try:\n",
    "#             df = pd.read_csv(root+f,\n",
    "#                              usecols=[0,1,2],                 \n",
    "#                              dtype= {0:str, 1:str, 2:int},\n",
    "#                              header=None,\n",
    "#                              sep='\\s+', \n",
    "#                              encoding='latin1')\n",
    "#             df.rename(columns={0: 'lang', 1:'article', 2:f}, inplace=True)        \n",
    "#             df_pagecounts = pd.merge(df_pagecounts, df, on=['lang', 'article'], how='outer')            \n",
    "#         except e:\n",
    "#             print(e)\n",
    "#             exceptions += [f]\n",
    "#         if i%500 == 3:\n",
    "#             df_pagecounts.to_csv(pagecount_save_path, index=False)        \n",
    "# df_pagecounts.to_csv(pagecount_save_path, index=False)\n",
    "# print(exceptions)"
   ]
  },
  {
   "cell_type": "code",
   "execution_count": null,
   "metadata": {},
   "outputs": [],
   "source": [
    "df_pagecounts = pd.read_csv(pagecount_save_path)\n",
    "\n",
    "# cite: http://pandas.pydata.org/pandas-docs/stable/text.html#text-string-methods\n",
    "regex_pat = re.compile(r'.*\\.svg|.*\\.jpg|.*\\.jpeg|.*\\.png|.*\\.gif', re.IGNORECASE)\n",
    "img_search = df_pagecounts[df_pagecounts.article.str.contains(regex_pat, na=False)]\n",
    "# img_match = df_pagecounts[df_pagecounts.article.str.match(regex_pat, na=False)]"
   ]
  },
  {
   "cell_type": "code",
   "execution_count": null,
   "metadata": {},
   "outputs": [],
   "source": [
    "%%bash\n",
    "head /data/khodadaa/wiki09-pagecount-logs/pagecounts-20090101-010000"
   ]
  },
  {
   "cell_type": "code",
   "execution_count": null,
   "metadata": {},
   "outputs": [],
   "source": [
    "%%bash\n",
    "sed -n '19969,19969p;19973q' /data/khodadaa/wiki09-pagecount-logs/pagecounts-20090101-010000"
   ]
  },
  {
   "cell_type": "code",
   "execution_count": null,
   "metadata": {},
   "outputs": [],
   "source": [
    "print(df.loc[19968, 'article'])"
   ]
  },
  {
   "cell_type": "markdown",
   "metadata": {},
   "source": [
    "# Import dataframe in chunks"
   ]
  },
  {
   "cell_type": "code",
   "execution_count": 53,
   "metadata": {},
   "outputs": [
    {
     "name": "stdout",
     "output_type": "stream",
     "text": [
      "CPU times: user 2min 8s, sys: 2.89 s, total: 2min 11s\n",
      "Wall time: 2min 11s\n"
     ]
    }
   ],
   "source": [
    "%%time\n",
    "iter_csv = pd.read_csv('/data/khodadaa/wiki09-pagecount-logs/wiki09_pagecounts_dumpspagecounts-20090102-230000.csv', \n",
    "                       dtype={'lang': str, 'article':str}, iterator=True, chunksize=10000)\n",
    "df3 = pd.concat([chunk[chunk['lang'].str.startswith('en') & chunk['article'].str.endswith(('.svg','.jpg','.jpeg','.png','.gif'))] \n",
    "                 for chunk in iter_csv])"
   ]
  },
  {
   "cell_type": "code",
   "execution_count": 47,
   "metadata": {},
   "outputs": [
    {
     "name": "stdout",
     "output_type": "stream",
     "text": [
      "CPU times: user 19.9 s, sys: 110 ms, total: 20 s\n",
      "Wall time: 20 s\n"
     ]
    }
   ],
   "source": [
    "%%time\n",
    "iter_csv = pd.read_csv('/data/khodadaa/wiki09-pagecount-logs/dumps/pagecounts-20090101-090000',\n",
    "    usecols=[0,1,2],                 \n",
    "    dtype= {0:str, 1:str, 2:int},\n",
    "    header=None,\n",
    "    sep='\\s+', \n",
    "    encoding='latin1',\n",
    "    iterator=True, \n",
    "    chunksize=1000)\n",
    "df4 = pd.concat([chunk[chunk[0].str.lower().str.startswith('en') & \n",
    "                       chunk[1].str.lower().str.endswith(('.svg','.jpg','.jpeg','.png','.gif'))] \n",
    "                 for chunk in iter_csv])\n",
    "df4.rename(columns={0: 'lang', 1:'article', 2:'count'}, inplace=True)"
   ]
  },
  {
   "cell_type": "code",
   "execution_count": 46,
   "metadata": {},
   "outputs": [
    {
     "data": {
      "text/html": [
       "<div>\n",
       "<style scoped>\n",
       "    .dataframe tbody tr th:only-of-type {\n",
       "        vertical-align: middle;\n",
       "    }\n",
       "\n",
       "    .dataframe tbody tr th {\n",
       "        vertical-align: top;\n",
       "    }\n",
       "\n",
       "    .dataframe thead th {\n",
       "        text-align: right;\n",
       "    }\n",
       "</style>\n",
       "<table border=\"1\" class=\"dataframe\">\n",
       "  <thead>\n",
       "    <tr style=\"text-align: right;\">\n",
       "      <th></th>\n",
       "      <th>lang</th>\n",
       "      <th>article</th>\n",
       "      <th>count</th>\n",
       "    </tr>\n",
       "  </thead>\n",
       "  <tbody>\n",
       "    <tr>\n",
       "      <th>829281</th>\n",
       "      <td>en.b</td>\n",
       "      <td>Adventist_Youth_Honors_Answer_Book/Nature/200p...</td>\n",
       "      <td>1</td>\n",
       "    </tr>\n",
       "    <tr>\n",
       "      <th>829282</th>\n",
       "      <td>en.b</td>\n",
       "      <td>Adventist_Youth_Honors_Answer_Book/Nature/300p...</td>\n",
       "      <td>1</td>\n",
       "    </tr>\n",
       "    <tr>\n",
       "      <th>829283</th>\n",
       "      <td>en.b</td>\n",
       "      <td>Adventist_Youth_Honors_Answer_Book/Nature/300p...</td>\n",
       "      <td>1</td>\n",
       "    </tr>\n",
       "    <tr>\n",
       "      <th>829284</th>\n",
       "      <td>en.b</td>\n",
       "      <td>Adventist_Youth_Honors_Answer_Book/Nature/300p...</td>\n",
       "      <td>1</td>\n",
       "    </tr>\n",
       "    <tr>\n",
       "      <th>829285</th>\n",
       "      <td>en.b</td>\n",
       "      <td>Adventist_Youth_Honors_Answer_Book/Nature/300p...</td>\n",
       "      <td>1</td>\n",
       "    </tr>\n",
       "  </tbody>\n",
       "</table>\n",
       "</div>"
      ],
      "text/plain": [
       "        lang                                            article  count\n",
       "829281  en.b  Adventist_Youth_Honors_Answer_Book/Nature/200p...      1\n",
       "829282  en.b  Adventist_Youth_Honors_Answer_Book/Nature/300p...      1\n",
       "829283  en.b  Adventist_Youth_Honors_Answer_Book/Nature/300p...      1\n",
       "829284  en.b  Adventist_Youth_Honors_Answer_Book/Nature/300p...      1\n",
       "829285  en.b  Adventist_Youth_Honors_Answer_Book/Nature/300p...      1"
      ]
     },
     "execution_count": 46,
     "metadata": {},
     "output_type": "execute_result"
    }
   ],
   "source": [
    "df4.head()"
   ]
  },
  {
   "cell_type": "markdown",
   "metadata": {},
   "source": [
    "# Using Dask"
   ]
  },
  {
   "cell_type": "code",
   "execution_count": 3,
   "metadata": {},
   "outputs": [
    {
     "name": "stdout",
     "output_type": "stream",
     "text": [
      "CPU times: user 144 ms, sys: 14 ms, total: 158 ms\n",
      "Wall time: 164 ms\n"
     ]
    }
   ],
   "source": [
    "%%time\n",
    "\n",
    "d1 = dd.read_csv('/data/khodadaa/wiki09-pagecount-logs/wiki09_pagecounts_dumpspagecounts-20090101-110000.csv', \n",
    "                 dtype={'lang': str, 'article': str})\n",
    "d2 = dd.read_csv('/data/khodadaa/wiki09-pagecount-logs/wiki09_pagecounts_dumpspagecounts-20090102-230000.csv',\n",
    "                dtype={'lang': str, 'article': str})\n",
    "d3 = dd.read_csv('/data/khodadaa/wiki09-pagecount-logs/wiki09_pagecounts_dumpspagecounts-20090105-230000.csv',\n",
    "                dtype={'lang': str, 'article': str})"
   ]
  },
  {
   "cell_type": "code",
   "execution_count": 4,
   "metadata": {},
   "outputs": [
    {
     "name": "stdout",
     "output_type": "stream",
     "text": [
      "CPU times: user 55.4 ms, sys: 2.55 ms, total: 57.9 ms\n",
      "Wall time: 56.2 ms\n"
     ]
    }
   ],
   "source": [
    "%%time\n",
    "j = dd.merge(d1, d2, on=['lang', 'article'], how='outer')"
   ]
  },
  {
   "cell_type": "code",
   "execution_count": 9,
   "metadata": {
    "collapsed": true
   },
   "outputs": [
    {
     "ename": "OSError",
     "evalue": "[Errno 28] No space left on device: '/tmp/tmpp6b_pspj.partd'",
     "output_type": "error",
     "traceback": [
      "\u001b[0;31m---------------------------------------------------------------------------\u001b[0m",
      "\u001b[0;31mOSError\u001b[0m                                   Traceback (most recent call last)",
      "\u001b[0;32m<timed eval>\u001b[0m in \u001b[0;36m<module>\u001b[0;34m()\u001b[0m\n",
      "\u001b[0;32m~/miniconda3/envs/db/lib/python3.6/site-packages/dask/dataframe/core.py\u001b[0m in \u001b[0;36mhead\u001b[0;34m(self, n, npartitions, compute)\u001b[0m\n\u001b[1;32m    906\u001b[0m \u001b[0;34m\u001b[0m\u001b[0m\n\u001b[1;32m    907\u001b[0m         \u001b[0;32mif\u001b[0m \u001b[0mcompute\u001b[0m\u001b[0;34m:\u001b[0m\u001b[0;34m\u001b[0m\u001b[0m\n\u001b[0;32m--> 908\u001b[0;31m             \u001b[0mresult\u001b[0m \u001b[0;34m=\u001b[0m \u001b[0mresult\u001b[0m\u001b[0;34m.\u001b[0m\u001b[0mcompute\u001b[0m\u001b[0;34m(\u001b[0m\u001b[0;34m)\u001b[0m\u001b[0;34m\u001b[0m\u001b[0m\n\u001b[0m\u001b[1;32m    909\u001b[0m         \u001b[0;32mreturn\u001b[0m \u001b[0mresult\u001b[0m\u001b[0;34m\u001b[0m\u001b[0m\n\u001b[1;32m    910\u001b[0m \u001b[0;34m\u001b[0m\u001b[0m\n",
      "\u001b[0;32m~/miniconda3/envs/db/lib/python3.6/site-packages/dask/base.py\u001b[0m in \u001b[0;36mcompute\u001b[0;34m(self, **kwargs)\u001b[0m\n\u001b[1;32m    154\u001b[0m         \u001b[0mdask\u001b[0m\u001b[0;34m.\u001b[0m\u001b[0mbase\u001b[0m\u001b[0;34m.\u001b[0m\u001b[0mcompute\u001b[0m\u001b[0;34m\u001b[0m\u001b[0m\n\u001b[1;32m    155\u001b[0m         \"\"\"\n\u001b[0;32m--> 156\u001b[0;31m         \u001b[0;34m(\u001b[0m\u001b[0mresult\u001b[0m\u001b[0;34m,\u001b[0m\u001b[0;34m)\u001b[0m \u001b[0;34m=\u001b[0m \u001b[0mcompute\u001b[0m\u001b[0;34m(\u001b[0m\u001b[0mself\u001b[0m\u001b[0;34m,\u001b[0m \u001b[0mtraverse\u001b[0m\u001b[0;34m=\u001b[0m\u001b[0;32mFalse\u001b[0m\u001b[0;34m,\u001b[0m \u001b[0;34m**\u001b[0m\u001b[0mkwargs\u001b[0m\u001b[0;34m)\u001b[0m\u001b[0;34m\u001b[0m\u001b[0m\n\u001b[0m\u001b[1;32m    157\u001b[0m         \u001b[0;32mreturn\u001b[0m \u001b[0mresult\u001b[0m\u001b[0;34m\u001b[0m\u001b[0m\n\u001b[1;32m    158\u001b[0m \u001b[0;34m\u001b[0m\u001b[0m\n",
      "\u001b[0;32m~/miniconda3/envs/db/lib/python3.6/site-packages/dask/base.py\u001b[0m in \u001b[0;36mcompute\u001b[0;34m(*args, **kwargs)\u001b[0m\n\u001b[1;32m    400\u001b[0m     \u001b[0mkeys\u001b[0m \u001b[0;34m=\u001b[0m \u001b[0;34m[\u001b[0m\u001b[0mx\u001b[0m\u001b[0;34m.\u001b[0m\u001b[0m__dask_keys__\u001b[0m\u001b[0;34m(\u001b[0m\u001b[0;34m)\u001b[0m \u001b[0;32mfor\u001b[0m \u001b[0mx\u001b[0m \u001b[0;32min\u001b[0m \u001b[0mcollections\u001b[0m\u001b[0;34m]\u001b[0m\u001b[0;34m\u001b[0m\u001b[0m\n\u001b[1;32m    401\u001b[0m     \u001b[0mpostcomputes\u001b[0m \u001b[0;34m=\u001b[0m \u001b[0;34m[\u001b[0m\u001b[0mx\u001b[0m\u001b[0;34m.\u001b[0m\u001b[0m__dask_postcompute__\u001b[0m\u001b[0;34m(\u001b[0m\u001b[0;34m)\u001b[0m \u001b[0;32mfor\u001b[0m \u001b[0mx\u001b[0m \u001b[0;32min\u001b[0m \u001b[0mcollections\u001b[0m\u001b[0;34m]\u001b[0m\u001b[0;34m\u001b[0m\u001b[0m\n\u001b[0;32m--> 402\u001b[0;31m     \u001b[0mresults\u001b[0m \u001b[0;34m=\u001b[0m \u001b[0mschedule\u001b[0m\u001b[0;34m(\u001b[0m\u001b[0mdsk\u001b[0m\u001b[0;34m,\u001b[0m \u001b[0mkeys\u001b[0m\u001b[0;34m,\u001b[0m \u001b[0;34m**\u001b[0m\u001b[0mkwargs\u001b[0m\u001b[0;34m)\u001b[0m\u001b[0;34m\u001b[0m\u001b[0m\n\u001b[0m\u001b[1;32m    403\u001b[0m     \u001b[0;32mreturn\u001b[0m \u001b[0mrepack\u001b[0m\u001b[0;34m(\u001b[0m\u001b[0;34m[\u001b[0m\u001b[0mf\u001b[0m\u001b[0;34m(\u001b[0m\u001b[0mr\u001b[0m\u001b[0;34m,\u001b[0m \u001b[0;34m*\u001b[0m\u001b[0ma\u001b[0m\u001b[0;34m)\u001b[0m \u001b[0;32mfor\u001b[0m \u001b[0mr\u001b[0m\u001b[0;34m,\u001b[0m \u001b[0;34m(\u001b[0m\u001b[0mf\u001b[0m\u001b[0;34m,\u001b[0m \u001b[0ma\u001b[0m\u001b[0;34m)\u001b[0m \u001b[0;32min\u001b[0m \u001b[0mzip\u001b[0m\u001b[0;34m(\u001b[0m\u001b[0mresults\u001b[0m\u001b[0;34m,\u001b[0m \u001b[0mpostcomputes\u001b[0m\u001b[0;34m)\u001b[0m\u001b[0;34m]\u001b[0m\u001b[0;34m)\u001b[0m\u001b[0;34m\u001b[0m\u001b[0m\n\u001b[1;32m    404\u001b[0m \u001b[0;34m\u001b[0m\u001b[0m\n",
      "\u001b[0;32m~/miniconda3/envs/db/lib/python3.6/site-packages/dask/threaded.py\u001b[0m in \u001b[0;36mget\u001b[0;34m(dsk, result, cache, num_workers, **kwargs)\u001b[0m\n\u001b[1;32m     73\u001b[0m     results = get_async(pool.apply_async, len(pool._pool), dsk, result,\n\u001b[1;32m     74\u001b[0m                         \u001b[0mcache\u001b[0m\u001b[0;34m=\u001b[0m\u001b[0mcache\u001b[0m\u001b[0;34m,\u001b[0m \u001b[0mget_id\u001b[0m\u001b[0;34m=\u001b[0m\u001b[0m_thread_get_id\u001b[0m\u001b[0;34m,\u001b[0m\u001b[0;34m\u001b[0m\u001b[0m\n\u001b[0;32m---> 75\u001b[0;31m                         pack_exception=pack_exception, **kwargs)\n\u001b[0m\u001b[1;32m     76\u001b[0m \u001b[0;34m\u001b[0m\u001b[0m\n\u001b[1;32m     77\u001b[0m     \u001b[0;31m# Cleanup pools associated to dead threads\u001b[0m\u001b[0;34m\u001b[0m\u001b[0;34m\u001b[0m\u001b[0m\n",
      "\u001b[0;32m~/miniconda3/envs/db/lib/python3.6/site-packages/dask/local.py\u001b[0m in \u001b[0;36mget_async\u001b[0;34m(apply_async, num_workers, dsk, result, cache, get_id, rerun_exceptions_locally, pack_exception, raise_exception, callbacks, dumps, loads, **kwargs)\u001b[0m\n\u001b[1;32m    519\u001b[0m                         \u001b[0m_execute_task\u001b[0m\u001b[0;34m(\u001b[0m\u001b[0mtask\u001b[0m\u001b[0;34m,\u001b[0m \u001b[0mdata\u001b[0m\u001b[0;34m)\u001b[0m  \u001b[0;31m# Re-execute locally\u001b[0m\u001b[0;34m\u001b[0m\u001b[0m\n\u001b[1;32m    520\u001b[0m                     \u001b[0;32melse\u001b[0m\u001b[0;34m:\u001b[0m\u001b[0;34m\u001b[0m\u001b[0m\n\u001b[0;32m--> 521\u001b[0;31m                         \u001b[0mraise_exception\u001b[0m\u001b[0;34m(\u001b[0m\u001b[0mexc\u001b[0m\u001b[0;34m,\u001b[0m \u001b[0mtb\u001b[0m\u001b[0;34m)\u001b[0m\u001b[0;34m\u001b[0m\u001b[0m\n\u001b[0m\u001b[1;32m    522\u001b[0m                 \u001b[0mres\u001b[0m\u001b[0;34m,\u001b[0m \u001b[0mworker_id\u001b[0m \u001b[0;34m=\u001b[0m \u001b[0mloads\u001b[0m\u001b[0;34m(\u001b[0m\u001b[0mres_info\u001b[0m\u001b[0;34m)\u001b[0m\u001b[0;34m\u001b[0m\u001b[0m\n\u001b[1;32m    523\u001b[0m                 \u001b[0mstate\u001b[0m\u001b[0;34m[\u001b[0m\u001b[0;34m'cache'\u001b[0m\u001b[0;34m]\u001b[0m\u001b[0;34m[\u001b[0m\u001b[0mkey\u001b[0m\u001b[0;34m]\u001b[0m \u001b[0;34m=\u001b[0m \u001b[0mres\u001b[0m\u001b[0;34m\u001b[0m\u001b[0m\n",
      "\u001b[0;32m~/miniconda3/envs/db/lib/python3.6/site-packages/dask/compatibility.py\u001b[0m in \u001b[0;36mreraise\u001b[0;34m(exc, tb)\u001b[0m\n\u001b[1;32m     67\u001b[0m         \u001b[0;32mif\u001b[0m \u001b[0mexc\u001b[0m\u001b[0;34m.\u001b[0m\u001b[0m__traceback__\u001b[0m \u001b[0;32mis\u001b[0m \u001b[0;32mnot\u001b[0m \u001b[0mtb\u001b[0m\u001b[0;34m:\u001b[0m\u001b[0;34m\u001b[0m\u001b[0m\n\u001b[1;32m     68\u001b[0m             \u001b[0;32mraise\u001b[0m \u001b[0mexc\u001b[0m\u001b[0;34m.\u001b[0m\u001b[0mwith_traceback\u001b[0m\u001b[0;34m(\u001b[0m\u001b[0mtb\u001b[0m\u001b[0;34m)\u001b[0m\u001b[0;34m\u001b[0m\u001b[0m\n\u001b[0;32m---> 69\u001b[0;31m         \u001b[0;32mraise\u001b[0m \u001b[0mexc\u001b[0m\u001b[0;34m\u001b[0m\u001b[0m\n\u001b[0m\u001b[1;32m     70\u001b[0m \u001b[0;34m\u001b[0m\u001b[0m\n\u001b[1;32m     71\u001b[0m \u001b[0;32melse\u001b[0m\u001b[0;34m:\u001b[0m\u001b[0;34m\u001b[0m\u001b[0m\n",
      "\u001b[0;32m~/miniconda3/envs/db/lib/python3.6/site-packages/dask/local.py\u001b[0m in \u001b[0;36mexecute_task\u001b[0;34m(key, task_info, dumps, loads, get_id, pack_exception)\u001b[0m\n\u001b[1;32m    288\u001b[0m     \u001b[0;32mtry\u001b[0m\u001b[0;34m:\u001b[0m\u001b[0;34m\u001b[0m\u001b[0m\n\u001b[1;32m    289\u001b[0m         \u001b[0mtask\u001b[0m\u001b[0;34m,\u001b[0m \u001b[0mdata\u001b[0m \u001b[0;34m=\u001b[0m \u001b[0mloads\u001b[0m\u001b[0;34m(\u001b[0m\u001b[0mtask_info\u001b[0m\u001b[0;34m)\u001b[0m\u001b[0;34m\u001b[0m\u001b[0m\n\u001b[0;32m--> 290\u001b[0;31m         \u001b[0mresult\u001b[0m \u001b[0;34m=\u001b[0m \u001b[0m_execute_task\u001b[0m\u001b[0;34m(\u001b[0m\u001b[0mtask\u001b[0m\u001b[0;34m,\u001b[0m \u001b[0mdata\u001b[0m\u001b[0;34m)\u001b[0m\u001b[0;34m\u001b[0m\u001b[0m\n\u001b[0m\u001b[1;32m    291\u001b[0m         \u001b[0mid\u001b[0m \u001b[0;34m=\u001b[0m \u001b[0mget_id\u001b[0m\u001b[0;34m(\u001b[0m\u001b[0;34m)\u001b[0m\u001b[0;34m\u001b[0m\u001b[0m\n\u001b[1;32m    292\u001b[0m         \u001b[0mresult\u001b[0m \u001b[0;34m=\u001b[0m \u001b[0mdumps\u001b[0m\u001b[0;34m(\u001b[0m\u001b[0;34m(\u001b[0m\u001b[0mresult\u001b[0m\u001b[0;34m,\u001b[0m \u001b[0mid\u001b[0m\u001b[0;34m)\u001b[0m\u001b[0;34m)\u001b[0m\u001b[0;34m\u001b[0m\u001b[0m\n",
      "\u001b[0;32m~/miniconda3/envs/db/lib/python3.6/site-packages/dask/local.py\u001b[0m in \u001b[0;36m_execute_task\u001b[0;34m(arg, cache, dsk)\u001b[0m\n\u001b[1;32m    269\u001b[0m         \u001b[0mfunc\u001b[0m\u001b[0;34m,\u001b[0m \u001b[0margs\u001b[0m \u001b[0;34m=\u001b[0m \u001b[0marg\u001b[0m\u001b[0;34m[\u001b[0m\u001b[0;36m0\u001b[0m\u001b[0;34m]\u001b[0m\u001b[0;34m,\u001b[0m \u001b[0marg\u001b[0m\u001b[0;34m[\u001b[0m\u001b[0;36m1\u001b[0m\u001b[0;34m:\u001b[0m\u001b[0;34m]\u001b[0m\u001b[0;34m\u001b[0m\u001b[0m\n\u001b[1;32m    270\u001b[0m         \u001b[0margs2\u001b[0m \u001b[0;34m=\u001b[0m \u001b[0;34m[\u001b[0m\u001b[0m_execute_task\u001b[0m\u001b[0;34m(\u001b[0m\u001b[0ma\u001b[0m\u001b[0;34m,\u001b[0m \u001b[0mcache\u001b[0m\u001b[0;34m)\u001b[0m \u001b[0;32mfor\u001b[0m \u001b[0ma\u001b[0m \u001b[0;32min\u001b[0m \u001b[0margs\u001b[0m\u001b[0;34m]\u001b[0m\u001b[0;34m\u001b[0m\u001b[0m\n\u001b[0;32m--> 271\u001b[0;31m         \u001b[0;32mreturn\u001b[0m \u001b[0mfunc\u001b[0m\u001b[0;34m(\u001b[0m\u001b[0;34m*\u001b[0m\u001b[0margs2\u001b[0m\u001b[0;34m)\u001b[0m\u001b[0;34m\u001b[0m\u001b[0m\n\u001b[0m\u001b[1;32m    272\u001b[0m     \u001b[0;32melif\u001b[0m \u001b[0;32mnot\u001b[0m \u001b[0mishashable\u001b[0m\u001b[0;34m(\u001b[0m\u001b[0marg\u001b[0m\u001b[0;34m)\u001b[0m\u001b[0;34m:\u001b[0m\u001b[0;34m\u001b[0m\u001b[0m\n\u001b[1;32m    273\u001b[0m         \u001b[0;32mreturn\u001b[0m \u001b[0marg\u001b[0m\u001b[0;34m\u001b[0m\u001b[0m\n",
      "\u001b[0;32m~/miniconda3/envs/db/lib/python3.6/site-packages/dask/dataframe/shuffle.py\u001b[0m in \u001b[0;36m__call__\u001b[0;34m(self, *args, **kwargs)\u001b[0m\n\u001b[1;32m    256\u001b[0m             \u001b[0mfile\u001b[0m \u001b[0;34m=\u001b[0m \u001b[0mpartd\u001b[0m\u001b[0;34m.\u001b[0m\u001b[0mFile\u001b[0m\u001b[0;34m(\u001b[0m\u001b[0mdir\u001b[0m\u001b[0;34m=\u001b[0m\u001b[0mself\u001b[0m\u001b[0;34m.\u001b[0m\u001b[0mtempdir\u001b[0m\u001b[0;34m)\u001b[0m\u001b[0;34m\u001b[0m\u001b[0m\n\u001b[1;32m    257\u001b[0m         \u001b[0;32melse\u001b[0m\u001b[0;34m:\u001b[0m\u001b[0;34m\u001b[0m\u001b[0m\n\u001b[0;32m--> 258\u001b[0;31m             \u001b[0mfile\u001b[0m \u001b[0;34m=\u001b[0m \u001b[0mpartd\u001b[0m\u001b[0;34m.\u001b[0m\u001b[0mFile\u001b[0m\u001b[0;34m(\u001b[0m\u001b[0;34m)\u001b[0m\u001b[0;34m\u001b[0m\u001b[0m\n\u001b[0m\u001b[1;32m    259\u001b[0m         \u001b[0;32mif\u001b[0m \u001b[0mself\u001b[0m\u001b[0;34m.\u001b[0m\u001b[0mbuffer\u001b[0m\u001b[0;34m:\u001b[0m\u001b[0;34m\u001b[0m\u001b[0m\n\u001b[1;32m    260\u001b[0m             \u001b[0;32mreturn\u001b[0m \u001b[0mpartd\u001b[0m\u001b[0;34m.\u001b[0m\u001b[0mPandasBlocks\u001b[0m\u001b[0;34m(\u001b[0m\u001b[0mpartd\u001b[0m\u001b[0;34m.\u001b[0m\u001b[0mBuffer\u001b[0m\u001b[0;34m(\u001b[0m\u001b[0mpartd\u001b[0m\u001b[0;34m.\u001b[0m\u001b[0mDict\u001b[0m\u001b[0;34m(\u001b[0m\u001b[0;34m)\u001b[0m\u001b[0;34m,\u001b[0m \u001b[0mfile\u001b[0m\u001b[0;34m)\u001b[0m\u001b[0;34m)\u001b[0m\u001b[0;34m\u001b[0m\u001b[0m\n",
      "\u001b[0;32m~/miniconda3/envs/db/lib/python3.6/site-packages/partd/file.py\u001b[0m in \u001b[0;36m__init__\u001b[0;34m(self, path, dir)\u001b[0m\n\u001b[1;32m     15\u001b[0m     \u001b[0;32mdef\u001b[0m \u001b[0m__init__\u001b[0m\u001b[0;34m(\u001b[0m\u001b[0mself\u001b[0m\u001b[0;34m,\u001b[0m \u001b[0mpath\u001b[0m\u001b[0;34m=\u001b[0m\u001b[0;32mNone\u001b[0m\u001b[0;34m,\u001b[0m \u001b[0mdir\u001b[0m\u001b[0;34m=\u001b[0m\u001b[0;32mNone\u001b[0m\u001b[0;34m)\u001b[0m\u001b[0;34m:\u001b[0m\u001b[0;34m\u001b[0m\u001b[0m\n\u001b[1;32m     16\u001b[0m         \u001b[0;32mif\u001b[0m \u001b[0;32mnot\u001b[0m \u001b[0mpath\u001b[0m\u001b[0;34m:\u001b[0m\u001b[0;34m\u001b[0m\u001b[0m\n\u001b[0;32m---> 17\u001b[0;31m             \u001b[0mpath\u001b[0m \u001b[0;34m=\u001b[0m \u001b[0mtempfile\u001b[0m\u001b[0;34m.\u001b[0m\u001b[0mmkdtemp\u001b[0m\u001b[0;34m(\u001b[0m\u001b[0msuffix\u001b[0m\u001b[0;34m=\u001b[0m\u001b[0;34m'.partd'\u001b[0m\u001b[0;34m,\u001b[0m \u001b[0mdir\u001b[0m\u001b[0;34m=\u001b[0m\u001b[0mdir\u001b[0m\u001b[0;34m)\u001b[0m\u001b[0;34m\u001b[0m\u001b[0m\n\u001b[0m\u001b[1;32m     18\u001b[0m             \u001b[0mcleanup_files\u001b[0m\u001b[0;34m.\u001b[0m\u001b[0mappend\u001b[0m\u001b[0;34m(\u001b[0m\u001b[0mpath\u001b[0m\u001b[0;34m)\u001b[0m\u001b[0;34m\u001b[0m\u001b[0m\n\u001b[1;32m     19\u001b[0m             \u001b[0mself\u001b[0m\u001b[0;34m.\u001b[0m\u001b[0m_explicitly_given_path\u001b[0m \u001b[0;34m=\u001b[0m \u001b[0;32mFalse\u001b[0m\u001b[0;34m\u001b[0m\u001b[0m\n",
      "\u001b[0;32m~/miniconda3/envs/db/lib/python3.6/tempfile.py\u001b[0m in \u001b[0;36mmkdtemp\u001b[0;34m(suffix, prefix, dir)\u001b[0m\n\u001b[1;32m    366\u001b[0m         \u001b[0mfile\u001b[0m \u001b[0;34m=\u001b[0m \u001b[0m_os\u001b[0m\u001b[0;34m.\u001b[0m\u001b[0mpath\u001b[0m\u001b[0;34m.\u001b[0m\u001b[0mjoin\u001b[0m\u001b[0;34m(\u001b[0m\u001b[0mdir\u001b[0m\u001b[0;34m,\u001b[0m \u001b[0mprefix\u001b[0m \u001b[0;34m+\u001b[0m \u001b[0mname\u001b[0m \u001b[0;34m+\u001b[0m \u001b[0msuffix\u001b[0m\u001b[0;34m)\u001b[0m\u001b[0;34m\u001b[0m\u001b[0m\n\u001b[1;32m    367\u001b[0m         \u001b[0;32mtry\u001b[0m\u001b[0;34m:\u001b[0m\u001b[0;34m\u001b[0m\u001b[0m\n\u001b[0;32m--> 368\u001b[0;31m             \u001b[0m_os\u001b[0m\u001b[0;34m.\u001b[0m\u001b[0mmkdir\u001b[0m\u001b[0;34m(\u001b[0m\u001b[0mfile\u001b[0m\u001b[0;34m,\u001b[0m \u001b[0;36m0o700\u001b[0m\u001b[0;34m)\u001b[0m\u001b[0;34m\u001b[0m\u001b[0m\n\u001b[0m\u001b[1;32m    369\u001b[0m         \u001b[0;32mexcept\u001b[0m \u001b[0mFileExistsError\u001b[0m\u001b[0;34m:\u001b[0m\u001b[0;34m\u001b[0m\u001b[0m\n\u001b[1;32m    370\u001b[0m             \u001b[0;32mcontinue\u001b[0m    \u001b[0;31m# try again\u001b[0m\u001b[0;34m\u001b[0m\u001b[0m\n",
      "\u001b[0;31mOSError\u001b[0m: [Errno 28] No space left on device: '/tmp/tmpp6b_pspj.partd'"
     ]
    }
   ],
   "source": [
    "%%time\n",
    "j.head()"
   ]
  },
  {
   "cell_type": "markdown",
   "metadata": {},
   "source": [
    "# Aggregate counts into one file"
   ]
  },
  {
   "cell_type": "code",
   "execution_count": 9,
   "metadata": {
    "collapsed": true
   },
   "outputs": [
    {
     "name": "stdout",
     "output_type": "stream",
     "text": [
      "      lang                                            article  pagecount-3mon  \\\n",
      "0     en.b                File:Tomato_Firmware_-_Overview.PNG            2526   \n",
      "1       en                          CharlieGlassCover1972.jpg              22   \n",
      "2       en  File:2003-10-15_1600x900_south_dakota_badlands...            1259   \n",
      "3       en                           File:240-dogFighting.jpg            9334   \n",
      "4       en         File:AK-47_type_II_Part_DM-ST-89-01131.jpg           47492   \n",
      "5       en                                    File:Ah-64d.jpg            6149   \n",
      "6       en                  File:Alice_In_Chains-Facelift.jpg            3126   \n",
      "7       en                               File:Ambox_style.png          319898   \n",
      "8       en                         File:Atmospherelemonsa.jpg            1595   \n",
      "9       en                         File:Atmospherelemonsb.jpg             278   \n",
      "10      en                             File:Autoroute_M25.jpg            2615   \n",
      "11      en                File:Ballistics_-_Starting_Grid.jpg             471   \n",
      "12      en                           File:Bourbon_barrels.jpg            2485   \n",
      "13      en                                File:Breadboard.JPG            3107   \n",
      "14      en                                     File:Brits.jpg           24170   \n",
      "15      en                        File:BurjDubai_20080828.jpg           65483   \n",
      "16      en                       File:Burj_Dubai_20081224.jpg           33431   \n",
      "17      en                     File:CharlieGlassCover1972.jpg             689   \n",
      "18      en                     File:CharlieGlassCover2001.jpg             416   \n",
      "19      en                      File:Chester_Arthur_grave.jpg            2696   \n",
      "20      en  File:Clock_Tower_-_Palace_of_Westminster,_Lond...           14430   \n",
      "21      en                 File:CompactFlash_IDE_Adaptor.jpeg           11467   \n",
      "22      en                               File:ConneryKilt.jpg            2625   \n",
      "23      en                              File:Dale_Chihuly.jpg            1589   \n",
      "24      en                          File:Dow_1904_to_1909.png             600   \n",
      "25      en  File:Each_arrow_overshot_his_head_by_Elmer_Boy...            1415   \n",
      "26      en                          File:Enigma-plugboard.jpg            1884   \n",
      "27      en                                   File:Epcot07.jpg            3120   \n",
      "28      en                        File:EzoRepublicLeaders.jpg             227   \n",
      "29      en                              File:F-16Isufa001.jpg            5459   \n",
      "...    ...                                                ...             ...   \n",
      "9970    en               File:ATA_Airlines_757-200_at_PHX.jpg             407   \n",
      "9971    en          File:ATC-XP_on_locking_carabiner.saa.jpeg             321   \n",
      "9972    en                                       File:ATC.jpg            1675   \n",
      "9973    en                     File:ATCQMidnightMarauders.jpg            2372   \n",
      "9974    en             File:ATCQPeople%27sInstinctTravels.jpg            2120   \n",
      "9975    en                                  File:ATCast1b.jpg            4589   \n",
      "9976    en                               File:ATCastPhoto.jpg            3604   \n",
      "9977    en                                       File:ATE.jpg            2851   \n",
      "9978    en                               File:ATENEO-SEAL.png             762   \n",
      "9979    en                            File:ATHF_cold_open.png             365   \n",
      "9980    en                                  File:ATI_Logo.svg            1381   \n",
      "9981    en          File:ATI_headquarters_in_Markham_2005.jpg            1061   \n",
      "9982    en                            File:ATLScreenshot1.jpg            2656   \n",
      "9983    en                            File:ATLScreenshot2.jpg            1440   \n",
      "9984    en                                File:ATL_Braves.PNG            1301   \n",
      "9985    en                        File:ATL_People_Mover_2.jpg            3492   \n",
      "9986    en                     File:ATL_theatrical_poster.jpg            2085   \n",
      "9987    en                             File:ATP-E_IN_YARD.jpg             443   \n",
      "9988    en                        File:ATP-xtal-3D-sticks.png            2004   \n",
      "9989    en                                       File:ATP.PNG             486   \n",
      "9990    en                     File:ATP_structure_revised.png            3939   \n",
      "9991    en                                     File:ATR72.JPG            6515   \n",
      "9992    en                                  File:ATRFinal.jpg            5594   \n",
      "9993    en                                    File:ATSF_1.jpg             768   \n",
      "9994    en                File:ATSF_1890s_passenger_train.jpg             629   \n",
      "9995    en                               File:ATSF_3266_2.jpg             318   \n",
      "9996    en       File:ATSF_358_GE_U28CG_San_Diego_CA_1968.jpg            1279   \n",
      "9997    en  File:ATSF_3751_at_San_Bernadino_1-10-99a_from_...             715   \n",
      "9998    en                     File:ATSF_5000_Madam_Queen.jpg             622   \n",
      "9999    en  File:ATSF_Indian_Head_logo_-_F7B_Unit_Passenge...             290   \n",
      "\n",
      "      pagecount-norm  \n",
      "0       7.068041e-05  \n",
      "1       6.155855e-07  \n",
      "2       3.522828e-05  \n",
      "3       2.611762e-04  \n",
      "4       1.328881e-03  \n",
      "5       1.720562e-04  \n",
      "6       8.746911e-05  \n",
      "7       8.951117e-03  \n",
      "8       4.462995e-05  \n",
      "9       7.778763e-06  \n",
      "10      7.317073e-05  \n",
      "11      1.317913e-05  \n",
      "12      6.953318e-05  \n",
      "13      8.693747e-05  \n",
      "14      6.763046e-04  \n",
      "15      1.832290e-03  \n",
      "16      9.354382e-04  \n",
      "17      1.927902e-05  \n",
      "18      1.164016e-05  \n",
      "19      7.543721e-05  \n",
      "20      4.037681e-04  \n",
      "21      3.208600e-04  \n",
      "22      7.345055e-05  \n",
      "23      4.446206e-05  \n",
      "24      1.678870e-05  \n",
      "25      3.959334e-05  \n",
      "26      5.271651e-05  \n",
      "27      8.730122e-05  \n",
      "28      6.351723e-06  \n",
      "29      1.527492e-04  \n",
      "...              ...  \n",
      "9970    1.138833e-05  \n",
      "9971    8.981952e-06  \n",
      "9972    4.686844e-05  \n",
      "9973    6.637131e-05  \n",
      "9974    5.932006e-05  \n",
      "9975    1.284055e-04  \n",
      "9976    1.008441e-04  \n",
      "9977    7.977429e-05  \n",
      "9978    2.132164e-05  \n",
      "9979    1.021312e-05  \n",
      "9980    3.864198e-05  \n",
      "9981    2.968801e-05  \n",
      "9982    7.431796e-05  \n",
      "9983    4.029287e-05  \n",
      "9984    3.640349e-05  \n",
      "9985    9.771021e-05  \n",
      "9986    5.834072e-05  \n",
      "9987    1.239565e-05  \n",
      "9988    5.607425e-05  \n",
      "9989    1.359884e-05  \n",
      "9990    1.102178e-04  \n",
      "9991    1.822973e-04  \n",
      "9992    1.565266e-04  \n",
      "9993    2.148953e-05  \n",
      "9994    1.760015e-05  \n",
      "9995    8.898009e-06  \n",
      "9996    3.578790e-05  \n",
      "9997    2.000653e-05  \n",
      "9998    1.740428e-05  \n",
      "9999    8.114537e-06  \n",
      "\n",
      "[10000 rows x 4 columns]\n",
      "CPU times: user 8min 52s, sys: 48.8 s, total: 9min 41s\n",
      "Wall time: 36.3 s\n"
     ]
    }
   ],
   "source": [
    "import pandas as pd\n",
    "\n",
    "df = pd.DataFrame(columns=['lang', 'article', 'pagecount-3mon', 'pagecount-norm'])\n",
    "\n",
    "iter_df = pd.read_csv('/data/khodadaa/wiki09-pagecount-logs/wiki09-images-pagecounts.csv', chunksize=1000)\n",
    "for chunk in iter_df:    \n",
    "    chunk['pagecount-3mon'] = chunk.sum(axis=1)\n",
    "    df = df.append(chunk, ignore_index=True)\n",
    "    \n",
    "tot = df['pagecount-3mon'].sum()\n",
    "df['pagecount-norm'] = df['pagecount-3mon']/tot\n",
    "df['pagecount-3mon'] = df['pagecount-3mon'].astype(int)\n",
    "cols_to_keep = ['lang', 'article', 'pagecount-3mon', 'pagecount-norm']\n",
    "df = df[cols_to_keep]\n",
    "df[cols_to_keep].to_csv('/data/khodadaa/wiki09-pagecount-logs/wiki09-images-aggregate.csv', index=False)"
   ]
  },
  {
   "cell_type": "markdown",
   "metadata": {},
   "source": [
    "# Parallel Aggregate"
   ]
  },
  {
   "cell_type": "code",
   "execution_count": 1,
   "metadata": {},
   "outputs": [
    {
     "name": "stdout",
     "output_type": "stream",
     "text": [
      ".\n",
      ".\n",
      ".\n",
      ".\n",
      ".\n",
      ".\n",
      ".\n",
      ".\n",
      ".\n",
      ".\n",
      ".\n",
      ".\n",
      ".\n",
      ".\n",
      ".\n",
      ".\n",
      ".\n",
      ".\n",
      ".\n",
      ".\n",
      ".\n",
      ".\n",
      ".\n",
      ".\n",
      ".\n",
      ".\n",
      ".\n",
      ".\n",
      ".\n",
      ".\n",
      ".\n",
      ".\n",
      ".\n",
      ".\n",
      ".\n",
      ".\n",
      ".\n",
      ".\n",
      ".\n",
      ".\n",
      ".\n",
      ".\n",
      ".\n",
      ".\n",
      ".\n",
      ".\n",
      ".\n",
      ".\n",
      ".\n",
      ".\n",
      ".\n",
      ".\n",
      ".\n",
      ".\n",
      ".\n",
      ".\n",
      ".\n",
      ".\n",
      ".\n",
      ".\n",
      ".\n",
      ".\n",
      ".\n",
      ".\n",
      ".\n",
      ".\n",
      ".\n",
      ".\n",
      ".\n",
      ".\n",
      ".\n",
      ".\n",
      ".\n",
      ".\n",
      ".\n",
      ".\n",
      ".\n",
      ".\n",
      ".\n",
      ".\n",
      ".\n",
      ".\n",
      ".\n",
      ".\n",
      ".\n",
      ".\n",
      ".\n",
      ".\n",
      ".\n",
      ".\n",
      ".\n",
      ".\n",
      ".\n",
      ".\n",
      ".\n",
      ".\n",
      ".\n",
      ".\n",
      ".\n",
      ".\n",
      "   lang                                            article  pagecount-3mon  \\\n",
      "0  en.b                File:Tomato_Firmware_-_Overview.PNG            2526   \n",
      "1    en                          CharlieGlassCover1972.jpg              22   \n",
      "2    en  File:2003-10-15_1600x900_south_dakota_badlands...            1259   \n",
      "3    en                           File:240-dogFighting.jpg            9334   \n",
      "4    en         File:AK-47_type_II_Part_DM-ST-89-01131.jpg           47492   \n",
      "\n",
      "   pagecount-norm  \n",
      "0    7.068041e-05  \n",
      "1    6.155855e-07  \n",
      "2    3.522828e-05  \n",
      "3    2.611762e-04  \n",
      "4    1.328881e-03  \n",
      "CPU times: user 7.1 s, sys: 807 ms, total: 7.91 s\n",
      "Wall time: 10.6 s\n"
     ]
    }
   ],
   "source": [
    "%%time\n",
    "import multiprocessing as mp\n",
    "import pandas as pd\n",
    "\n",
    "# df = pd.DataFrame(columns=['lang', 'article', 'pagecount-3mon', 'pagecount-norm'])\n",
    "\n",
    "iter_df = pd.read_csv('/data/khodadaa/wiki09-pagecount-logs/wiki09-images-pagecounts.csv', chunksize=1000, nrows=10000)\n",
    "\n",
    "def process_chunk(chunk):\n",
    "    chunk['pagecount-3mon'] = chunk.sum(axis=1)\n",
    "    print('.')\n",
    "    return chunk[['lang', 'article', 'pagecount-3mon']]\n",
    "def show_progress(c):\n",
    "    print('.',end='')\n",
    "    return c\n",
    "# df = df.append(chunk, ignore_index=True)\n",
    "# for chunk in iter_df:\n",
    "pool = mp.Pool(processes=6)\n",
    "dfs = pool.map(process_chunk, [c for c in iter_df])\n",
    "df = pd.concat(dfs)\n",
    "    \n",
    "tot = df['pagecount-3mon'].sum()\n",
    "df['pagecount-norm'] = df['pagecount-3mon']/tot\n",
    "df['pagecount-3mon'] = df['pagecount-3mon'].astype(int)\n",
    "cols_to_keep = ['lang', 'article', 'pagecount-3mon', 'pagecount-norm']\n",
    "df = df[cols_to_keep]\n",
    "print(df[:5])\n",
    "# df[cols_to_keep].to_csv('/data/khodadaa/wiki09-pagecount-logs/wiki09-images-aggregate.csv', index=False)"
   ]
  },
  {
   "cell_type": "code",
   "execution_count": 4,
   "metadata": {},
   "outputs": [
    {
     "name": "stdout",
     "output_type": "stream",
     "text": [
      "   lang                                            article  pagecount-3mon  \\\n",
      "0  en.b                File:Tomato_Firmware_-_Overview.PNG            2526   \n",
      "1    en                          CharlieGlassCover1972.jpg              22   \n",
      "2    en  File:2003-10-15_1600x900_south_dakota_badlands...            1259   \n",
      "3    en                           File:240-dogFighting.jpg            9334   \n",
      "4    en         File:AK-47_type_II_Part_DM-ST-89-01131.jpg           47492   \n",
      "\n",
      "   pagecount-norm  \n",
      "0    7.068041e-05  \n",
      "1    6.155855e-07  \n",
      "2    3.522828e-05  \n",
      "3    2.611762e-04  \n",
      "4    1.328881e-03  \n",
      "CPU times: user 2min 50s, sys: 5.72 s, total: 2min 56s\n",
      "Wall time: 26.7 s\n"
     ]
    }
   ],
   "source": [
    "%%time\n",
    "import pandas as pd\n",
    "\n",
    "# df = pd.DataFrame(columns=['lang', 'article', 'pagecount-3mon'])\n",
    "\n",
    "iter_df = pd.read_csv('/data/khodadaa/wiki09-pagecount-logs/wiki09-images-pagecounts.csv', chunksize=1000, nrows=10000)\n",
    "dfs = []\n",
    "for chunk in iter_df:    \n",
    "    chunk['pagecount-3mon'] = chunk.sum(axis=1)\n",
    "    dfs.append(chunk[['lang', 'article', 'pagecount-3mon']])\n",
    "df = pd.concat(dfs)\n",
    "    \n",
    "tot = df['pagecount-3mon'].sum()\n",
    "df['pagecount-norm'] = df['pagecount-3mon']/tot\n",
    "df['pagecount-3mon'] = df['pagecount-3mon'].astype(int)\n",
    "cols_to_keep = ['lang', 'article', 'pagecount-3mon', 'pagecount-norm']\n",
    "df = df[cols_to_keep]\n",
    "print(df[:5])\n",
    "# df[cols_to_keep].to_csv('/data/khodadaa/wiki09-pagecount-logs/wiki09-images-aggregate.csv', index=False)"
   ]
  },
  {
   "cell_type": "markdown",
   "metadata": {},
   "source": [
    "# Panda to MySQL"
   ]
  },
  {
   "cell_type": "code",
   "execution_count": 75,
   "metadata": {},
   "outputs": [
    {
     "name": "stdout",
     "output_type": "stream",
     "text": [
      "Username: \n",
      "Password: ········\n",
      "Host: \n",
      "Database name: \n",
      "Table name: \n"
     ]
    }
   ],
   "source": [
    "import MySQLdb\n",
    "import sqlalchemy\n",
    "import getpass\n",
    "db_param = {}\n",
    "db_param['user'] = input('Username: ') or 'khodadaa'\n",
    "db_param['pass'] = getpass.getpass('Password: ')\n",
    "db_param['host'] = input('Host: ') or 'mysql.cs.orst.edu'\n",
    "db_param['dbname'] = input('Database name: ') or 'khodadaa'\n",
    "db_param['tbl_name'] = input('Table name: ') or 'tbl_temp'\n",
    "df = pd.read_csv('/data/khodadaa/wiki09-pagecount-logs/wiki09-images-pagecounts.csv')\n",
    "connect_str = 'mysql+mysqldb://{user}:{pass}@{host}/{dbname}?charset=utf8mb4'.format(**db_param)\n",
    "df.to_sql(con=connect_str, name=db_param['tbl_name'], if_exists='fail', chunksize=10000)"
   ]
  },
  {
   "cell_type": "markdown",
   "metadata": {},
   "source": [
    "# MySQL to Panda"
   ]
  },
  {
   "cell_type": "code",
   "execution_count": 3,
   "metadata": {},
   "outputs": [
    {
     "name": "stdout",
     "output_type": "stream",
     "text": [
      "Username: \n",
      "Password: ········\n",
      "Host: \n",
      "Database name: \n",
      "Table name: \n",
      "1183070 ['id', 'src', 'src_tokenized', 'caption', 'popularity']\n",
      "CPU times: user 8.68 s, sys: 895 ms, total: 9.57 s\n",
      "Wall time: 13.5 s\n"
     ]
    }
   ],
   "source": [
    "%%time\n",
    "import MySQLdb\n",
    "import sqlalchemy\n",
    "import getpass\n",
    "db_param = {}\n",
    "db_param['user'] = input('Username: ') or 'khodadaa'\n",
    "db_param['pass'] = getpass.getpass('Password: ')\n",
    "db_param['host'] = input('Host: ') or 'mysql.cs.orst.edu'\n",
    "db_param['dbname'] = input('Database name: ') or 'khodadaa'\n",
    "db_param['tbl_name'] = input('Table name: ') or 'tbl_image_09'\n",
    "connect_str = 'mysql+mysqldb://{user}:{pass}@{host}/{dbname}?charset=utf8mb4'.format(**db_param)\n",
    "df_sql = pd.read_sql('SELECT * FROM '+ db_param['tbl_name'], con=connect_str)\n",
    "print(df_sql.shape[0], list(df_sql.columns))"
   ]
  },
  {
   "cell_type": "markdown",
   "metadata": {},
   "source": [
    "# Page count matching"
   ]
  },
  {
   "cell_type": "code",
   "execution_count": 4,
   "metadata": {},
   "outputs": [
    {
     "name": "stdout",
     "output_type": "stream",
     "text": [
      "7661938 ['lang', 'article', 'pagecount-3mon', 'pagecount-norm']\n",
      "CPU times: user 15 s, sys: 919 ms, total: 15.9 s\n",
      "Wall time: 10.5 s\n"
     ]
    }
   ],
   "source": [
    "%%time\n",
    "df_csv = pd.read_csv('/data/khodadaa/wiki09-pagecount-logs/wiki09-images-aggregate.csv')\n",
    "print(df_csv.shape[0], list(df_csv.columns))"
   ]
  },
  {
   "cell_type": "code",
   "execution_count": 8,
   "metadata": {},
   "outputs": [
    {
     "name": "stdout",
     "output_type": "stream",
     "text": [
      "CPU times: user 2min, sys: 1.09 s, total: 2min 2s\n",
      "Wall time: 1min 56s\n"
     ]
    }
   ],
   "source": [
    "%%time\n",
    "import re\n",
    "regex_pat = re.compile(r'.*:', re.IGNORECASE)\n",
    "df_csv['src'] = df_csv['article'].str.replace(regex_pat, '')"
   ]
  },
  {
   "cell_type": "code",
   "execution_count": 9,
   "metadata": {},
   "outputs": [
    {
     "data": {
      "text/html": [
       "<div>\n",
       "<style scoped>\n",
       "    .dataframe tbody tr th:only-of-type {\n",
       "        vertical-align: middle;\n",
       "    }\n",
       "\n",
       "    .dataframe tbody tr th {\n",
       "        vertical-align: top;\n",
       "    }\n",
       "\n",
       "    .dataframe thead th {\n",
       "        text-align: right;\n",
       "    }\n",
       "</style>\n",
       "<table border=\"1\" class=\"dataframe\">\n",
       "  <thead>\n",
       "    <tr style=\"text-align: right;\">\n",
       "      <th></th>\n",
       "      <th>lang</th>\n",
       "      <th>article</th>\n",
       "      <th>pagecount-3mon</th>\n",
       "      <th>pagecount-norm</th>\n",
       "      <th>src</th>\n",
       "    </tr>\n",
       "  </thead>\n",
       "  <tbody>\n",
       "    <tr>\n",
       "      <th>0</th>\n",
       "      <td>en.b</td>\n",
       "      <td>File:Tomato_Firmware_-_Overview.PNG</td>\n",
       "      <td>2526</td>\n",
       "      <td>2.954064e-06</td>\n",
       "      <td>Tomato_Firmware_-_Overview.PNG</td>\n",
       "    </tr>\n",
       "    <tr>\n",
       "      <th>1</th>\n",
       "      <td>en</td>\n",
       "      <td>CharlieGlassCover1972.jpg</td>\n",
       "      <td>22</td>\n",
       "      <td>2.572819e-08</td>\n",
       "      <td>CharlieGlassCover1972.jpg</td>\n",
       "    </tr>\n",
       "    <tr>\n",
       "      <th>2</th>\n",
       "      <td>en</td>\n",
       "      <td>File:2003-10-15_1600x900_south_dakota_badlands...</td>\n",
       "      <td>1259</td>\n",
       "      <td>1.472354e-06</td>\n",
       "      <td>2003-10-15_1600x900_south_dakota_badlands.jpg</td>\n",
       "    </tr>\n",
       "    <tr>\n",
       "      <th>3</th>\n",
       "      <td>en</td>\n",
       "      <td>File:240-dogFighting.jpg</td>\n",
       "      <td>9334</td>\n",
       "      <td>1.091577e-05</td>\n",
       "      <td>240-dogFighting.jpg</td>\n",
       "    </tr>\n",
       "    <tr>\n",
       "      <th>4</th>\n",
       "      <td>en</td>\n",
       "      <td>File:AK-47_type_II_Part_DM-ST-89-01131.jpg</td>\n",
       "      <td>47492</td>\n",
       "      <td>5.554014e-05</td>\n",
       "      <td>AK-47_type_II_Part_DM-ST-89-01131.jpg</td>\n",
       "    </tr>\n",
       "    <tr>\n",
       "      <th>5</th>\n",
       "      <td>en</td>\n",
       "      <td>File:Ah-64d.jpg</td>\n",
       "      <td>6149</td>\n",
       "      <td>7.191028e-06</td>\n",
       "      <td>Ah-64d.jpg</td>\n",
       "    </tr>\n",
       "    <tr>\n",
       "      <th>6</th>\n",
       "      <td>en</td>\n",
       "      <td>File:Alice_In_Chains-Facelift.jpg</td>\n",
       "      <td>3126</td>\n",
       "      <td>3.655741e-06</td>\n",
       "      <td>Alice_In_Chains-Facelift.jpg</td>\n",
       "    </tr>\n",
       "    <tr>\n",
       "      <th>7</th>\n",
       "      <td>en</td>\n",
       "      <td>File:Ambox_style.png</td>\n",
       "      <td>319898</td>\n",
       "      <td>3.741089e-04</td>\n",
       "      <td>Ambox_style.png</td>\n",
       "    </tr>\n",
       "    <tr>\n",
       "      <th>8</th>\n",
       "      <td>en</td>\n",
       "      <td>File:Atmospherelemonsa.jpg</td>\n",
       "      <td>1595</td>\n",
       "      <td>1.865293e-06</td>\n",
       "      <td>Atmospherelemonsa.jpg</td>\n",
       "    </tr>\n",
       "    <tr>\n",
       "      <th>9</th>\n",
       "      <td>en</td>\n",
       "      <td>File:Atmospherelemonsb.jpg</td>\n",
       "      <td>278</td>\n",
       "      <td>3.251107e-07</td>\n",
       "      <td>Atmospherelemonsb.jpg</td>\n",
       "    </tr>\n",
       "  </tbody>\n",
       "</table>\n",
       "</div>"
      ],
      "text/plain": [
       "   lang                                            article  pagecount-3mon  \\\n",
       "0  en.b                File:Tomato_Firmware_-_Overview.PNG            2526   \n",
       "1    en                          CharlieGlassCover1972.jpg              22   \n",
       "2    en  File:2003-10-15_1600x900_south_dakota_badlands...            1259   \n",
       "3    en                           File:240-dogFighting.jpg            9334   \n",
       "4    en         File:AK-47_type_II_Part_DM-ST-89-01131.jpg           47492   \n",
       "5    en                                    File:Ah-64d.jpg            6149   \n",
       "6    en                  File:Alice_In_Chains-Facelift.jpg            3126   \n",
       "7    en                               File:Ambox_style.png          319898   \n",
       "8    en                         File:Atmospherelemonsa.jpg            1595   \n",
       "9    en                         File:Atmospherelemonsb.jpg             278   \n",
       "\n",
       "   pagecount-norm                                            src  \n",
       "0    2.954064e-06                 Tomato_Firmware_-_Overview.PNG  \n",
       "1    2.572819e-08                      CharlieGlassCover1972.jpg  \n",
       "2    1.472354e-06  2003-10-15_1600x900_south_dakota_badlands.jpg  \n",
       "3    1.091577e-05                            240-dogFighting.jpg  \n",
       "4    5.554014e-05          AK-47_type_II_Part_DM-ST-89-01131.jpg  \n",
       "5    7.191028e-06                                     Ah-64d.jpg  \n",
       "6    3.655741e-06                   Alice_In_Chains-Facelift.jpg  \n",
       "7    3.741089e-04                                Ambox_style.png  \n",
       "8    1.865293e-06                          Atmospherelemonsa.jpg  \n",
       "9    3.251107e-07                          Atmospherelemonsb.jpg  "
      ]
     },
     "execution_count": 9,
     "metadata": {},
     "output_type": "execute_result"
    }
   ],
   "source": [
    "df_csv[:10]"
   ]
  },
  {
   "cell_type": "code",
   "execution_count": 11,
   "metadata": {},
   "outputs": [
    {
     "name": "stdout",
     "output_type": "stream",
     "text": [
      "2481417\n",
      "CPU times: user 17.6 s, sys: 1.3 s, total: 18.9 s\n",
      "Wall time: 8.61 s\n"
     ]
    }
   ],
   "source": [
    "%%time\n",
    "df_csv_file = df_csv[df_csv['lang'] == 'en']\n",
    "df_csv_file = df_csv_file[df_csv_file['article'].str.lower().str.startswith('file:')]\n",
    "print(df_csv_file.shape[0])"
   ]
  },
  {
   "cell_type": "code",
   "execution_count": 12,
   "metadata": {},
   "outputs": [
    {
     "name": "stdout",
     "output_type": "stream",
     "text": [
      "1183070 1095199\n",
      "CPU times: user 9.25 s, sys: 625 ms, total: 9.88 s\n",
      "Wall time: 3.78 s\n"
     ]
    }
   ],
   "source": [
    "%%time\n",
    "df_mg = pd.merge(df_sql, df_csv_file, on='src', how='inner')\n",
    "print(df_sql.shape[0],df_mg.shape[0])"
   ]
  },
  {
   "cell_type": "code",
   "execution_count": 15,
   "metadata": {},
   "outputs": [
    {
     "data": {
      "text/html": [
       "<div>\n",
       "<style scoped>\n",
       "    .dataframe tbody tr th:only-of-type {\n",
       "        vertical-align: middle;\n",
       "    }\n",
       "\n",
       "    .dataframe tbody tr th {\n",
       "        vertical-align: top;\n",
       "    }\n",
       "\n",
       "    .dataframe thead th {\n",
       "        text-align: right;\n",
       "    }\n",
       "</style>\n",
       "<table border=\"1\" class=\"dataframe\">\n",
       "  <thead>\n",
       "    <tr style=\"text-align: right;\">\n",
       "      <th></th>\n",
       "      <th>src</th>\n",
       "      <th>src_tokenized</th>\n",
       "      <th>caption</th>\n",
       "      <th>popularity</th>\n",
       "      <th>pagecount-3mon</th>\n",
       "      <th>pagecount-norm</th>\n",
       "    </tr>\n",
       "  </thead>\n",
       "  <tbody>\n",
       "    <tr>\n",
       "      <th>0</th>\n",
       "      <td>David_Suchet_-_Poirot.png</td>\n",
       "      <td>David Suchet   Poirot</td>\n",
       "      <td></td>\n",
       "      <td>89770</td>\n",
       "      <td>1508</td>\n",
       "      <td>1.763550e-06</td>\n",
       "    </tr>\n",
       "    <tr>\n",
       "      <th>1</th>\n",
       "      <td>The_Labours_of_Hercules.jpg</td>\n",
       "      <td>The Labours of Hercules</td>\n",
       "      <td></td>\n",
       "      <td>89770</td>\n",
       "      <td>253</td>\n",
       "      <td>2.958741e-07</td>\n",
       "    </tr>\n",
       "    <tr>\n",
       "      <th>2</th>\n",
       "      <td>Ustinov_is_Poirot.jpg</td>\n",
       "      <td>Ustinov is Poirot</td>\n",
       "      <td></td>\n",
       "      <td>89770</td>\n",
       "      <td>260</td>\n",
       "      <td>3.040604e-07</td>\n",
       "    </tr>\n",
       "    <tr>\n",
       "      <th>3</th>\n",
       "      <td>Poirot_Season_11_DVD.jpg</td>\n",
       "      <td>Poirot Season 11 DVD</td>\n",
       "      <td></td>\n",
       "      <td>95144</td>\n",
       "      <td>799</td>\n",
       "      <td>9.344009e-07</td>\n",
       "    </tr>\n",
       "    <tr>\n",
       "      <th>4</th>\n",
       "      <td>Disambig_gray.svg</td>\n",
       "      <td>Disambig gray</td>\n",
       "      <td></td>\n",
       "      <td>329049600</td>\n",
       "      <td>47062</td>\n",
       "      <td>5.503727e-05</td>\n",
       "    </tr>\n",
       "    <tr>\n",
       "      <th>5</th>\n",
       "      <td>Regione-Lombardia-Stemma.svg</td>\n",
       "      <td>Regione Lombardia Stemma</td>\n",
       "      <td></td>\n",
       "      <td>829953</td>\n",
       "      <td>463</td>\n",
       "      <td>5.414614e-07</td>\n",
       "    </tr>\n",
       "    <tr>\n",
       "      <th>6</th>\n",
       "      <td>Star_full.svg</td>\n",
       "      <td>Star full</td>\n",
       "      <td></td>\n",
       "      <td>176909636</td>\n",
       "      <td>55002</td>\n",
       "      <td>6.432280e-05</td>\n",
       "    </tr>\n",
       "    <tr>\n",
       "      <th>7</th>\n",
       "      <td>Star_empty.svg</td>\n",
       "      <td>Star empty</td>\n",
       "      <td></td>\n",
       "      <td>146047141</td>\n",
       "      <td>25404</td>\n",
       "      <td>2.970904e-05</td>\n",
       "    </tr>\n",
       "    <tr>\n",
       "      <th>8</th>\n",
       "      <td>Star_half.svg</td>\n",
       "      <td>Star half</td>\n",
       "      <td></td>\n",
       "      <td>91318633</td>\n",
       "      <td>7019</td>\n",
       "      <td>8.208461e-06</td>\n",
       "    </tr>\n",
       "    <tr>\n",
       "      <th>9</th>\n",
       "      <td>Mokopa_(Impi).jpg</td>\n",
       "      <td>Mokopa  Impi</td>\n",
       "      <td></td>\n",
       "      <td>2534</td>\n",
       "      <td>121</td>\n",
       "      <td>1.415050e-07</td>\n",
       "    </tr>\n",
       "  </tbody>\n",
       "</table>\n",
       "</div>"
      ],
      "text/plain": [
       "                            src             src_tokenized caption  popularity  \\\n",
       "0     David_Suchet_-_Poirot.png     David Suchet   Poirot               89770   \n",
       "1   The_Labours_of_Hercules.jpg   The Labours of Hercules               89770   \n",
       "2         Ustinov_is_Poirot.jpg         Ustinov is Poirot               89770   \n",
       "3      Poirot_Season_11_DVD.jpg      Poirot Season 11 DVD               95144   \n",
       "4             Disambig_gray.svg             Disambig gray           329049600   \n",
       "5  Regione-Lombardia-Stemma.svg  Regione Lombardia Stemma              829953   \n",
       "6                 Star_full.svg                 Star full           176909636   \n",
       "7                Star_empty.svg                Star empty           146047141   \n",
       "8                 Star_half.svg                 Star half            91318633   \n",
       "9             Mokopa_(Impi).jpg             Mokopa  Impi                 2534   \n",
       "\n",
       "   pagecount-3mon  pagecount-norm  \n",
       "0            1508    1.763550e-06  \n",
       "1             253    2.958741e-07  \n",
       "2             260    3.040604e-07  \n",
       "3             799    9.344009e-07  \n",
       "4           47062    5.503727e-05  \n",
       "5             463    5.414614e-07  \n",
       "6           55002    6.432280e-05  \n",
       "7           25404    2.970904e-05  \n",
       "8            7019    8.208461e-06  \n",
       "9             121    1.415050e-07  "
      ]
     },
     "execution_count": 15,
     "metadata": {},
     "output_type": "execute_result"
    }
   ],
   "source": [
    "df_mg = df_mg[['src', 'src_tokenized', 'caption', 'popularity', 'pagecount-3mon', 'pagecount-norm']]\n",
    "df_mg[:10]"
   ]
  },
  {
   "cell_type": "code",
   "execution_count": 16,
   "metadata": {},
   "outputs": [
    {
     "name": "stdout",
     "output_type": "stream",
     "text": [
      "CPU times: user 52.2 s, sys: 2.66 s, total: 54.8 s\n",
      "Wall time: 40.3 s\n"
     ]
    }
   ],
   "source": [
    "%%time\n",
    "connect_str = 'mysql+mysqldb://{user}:{pass}@{host}/{dbname}?charset=utf8mb4'.format(**db_param)\n",
    "df_mg.to_sql(con=connect_str, name='tbl_image_09_pagecount', if_exists='fail', index=False)"
   ]
  },
  {
   "cell_type": "code",
   "execution_count": null,
   "metadata": {},
   "outputs": [],
   "source": []
  }
 ],
 "metadata": {
  "celltoolbar": "Raw Cell Format",
  "kernelspec": {
   "display_name": "Python 3",
   "language": "python",
   "name": "python3"
  },
  "language_info": {
   "codemirror_mode": {
    "name": "ipython",
    "version": 3
   },
   "file_extension": ".py",
   "mimetype": "text/x-python",
   "name": "python",
   "nbconvert_exporter": "python",
   "pygments_lexer": "ipython3",
   "version": "3.6.5"
  }
 },
 "nbformat": 4,
 "nbformat_minor": 2
}
